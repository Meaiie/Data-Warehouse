{
 "cells": [
  {
   "cell_type": "markdown",
   "metadata": {},
   "source": [
    "# Data transformation, Staging area load, multidimensional data model for data warehouse. "
   ]
  },
  {
   "cell_type": "markdown",
   "metadata": {},
   "source": [
    "Given northwind databased diagram as:"
   ]
  },
  {
   "cell_type": "markdown",
   "metadata": {},
   "source": [
    "<img src=\"D:/Project_pipeline/data_cube_diagram.png\" alt=\"alt text\" width=\"width\" height=\"height\">"
   ]
  },
  {
   "cell_type": "markdown",
   "metadata": {},
   "source": [
    "We need to create data cube like this:\n"
   ]
  },
  {
   "cell_type": "markdown",
   "metadata": {},
   "source": [
    "<img src=\"D:\\Project_pipeline\\nortwind_diagram.png\" alt=\"alt text\" width=\"700\" height=\"700\">"
   ]
  },
  {
   "cell_type": "markdown",
   "metadata": {},
   "source": [
    "## customer dimension table."
   ]
  },
  {
   "cell_type": "markdown",
   "metadata": {},
   "source": [
    "1. Read customer table from `customer.csv` file.\n",
    "\n",
    "2. Create timstamp column with column name `ingestion_timestamp` and name table as `stg_customer`, and load data into `stg_northwind` database. \n",
    "\n",
    "3. Transform data as follows:\n",
    "    - Sort by `id` and get unique `id`.\n",
    "    - Rename `id` columns to `customer_id`.\n",
    "    - Delete an `ingestion_timestamp` column and add timstamp column with column name `insertion_timestamp`.\n"
   ]
  },
  {
   "cell_type": "code",
   "execution_count": 1,
   "metadata": {},
   "outputs": [
    {
     "data": {
      "text/plain": [
       "(30, 18)"
      ]
     },
     "execution_count": 1,
     "metadata": {},
     "output_type": "execute_result"
    }
   ],
   "source": [
    "# STEP 1\n",
    "import polars as pl\n",
    "df_cus = pl.read_csv('./data/northwind/customer.csv')\n",
    "df_cus.shape"
   ]
  },
  {
   "cell_type": "code",
   "execution_count": 2,
   "metadata": {},
   "outputs": [],
   "source": [
    "# STEP 2\n",
    "from datetime import datetime\n",
    "def add_timestamp(df,colname):\n",
    "    current_timestamp = datetime.now()\n",
    "    df_n = df.with_columns(pl.lit(current_timestamp).alias(colname))\n",
    "    # add เวลา เข้าไปใน df_cus\n",
    "    # pl.lit เอาค่าไปพิมซ้ำๆ ในทุก record (ในกรณีนี้ใส่เวลาในทุก record)\n",
    "    return df_n\n",
    "\n",
    "def get_unigue(df,colname):\n",
    "    return df.unique(colname)\n",
    "# สร้างฟังชันก์ที่ใช้กำหนด primary key\n",
    "# ถ้ามี id ซ้ำ มันจะลบตัวถัดไปออก\n",
    "\n",
    "def Mysort(df,colname):\n",
    "    return df.sort(colname)\n",
    "\n",
    "def Rename_col(df,colnamedict):\n",
    "    return df.rename(colnamedict)\n",
    "\n",
    "def exclude_col(df,colname):\n",
    "    return df.select(pl.col('*').exclude(colname))\n",
    "# ลบคอลัมน์\n"
   ]
  },
  {
   "cell_type": "code",
   "execution_count": 3,
   "metadata": {},
   "outputs": [],
   "source": [
    "# STEP 3\n",
    "stg_customer = (df_cus\n",
    "                .pipe(add_timestamp,'ingestion_timestamp')\n",
    "                .pipe(get_unigue,'id')\n",
    "                .pipe(Mysort,'id')\n",
    "                .pipe(Rename_col,{'id':'customer_id'})\n",
    "                )"
   ]
  },
  {
   "cell_type": "code",
   "execution_count": 4,
   "metadata": {},
   "outputs": [
    {
     "data": {
      "text/html": [
       "<div><style>\n",
       ".dataframe > thead > tr,\n",
       ".dataframe > tbody > tr {\n",
       "  text-align: right;\n",
       "  white-space: pre-wrap;\n",
       "}\n",
       "</style>\n",
       "<small>shape: (29, 19)</small><table border=\"1\" class=\"dataframe\"><thead><tr><th>customer_id</th><th>company</th><th>last_name</th><th>first_name</th><th>email_address</th><th>job_title</th><th>business_phone</th><th>home_phone</th><th>mobile_phone</th><th>fax_number</th><th>address</th><th>city</th><th>state_province</th><th>zip_postal_code</th><th>country_region</th><th>web_page</th><th>notes</th><th>attachments</th><th>ingestion_timestamp</th></tr><tr><td>i64</td><td>str</td><td>str</td><td>str</td><td>str</td><td>str</td><td>str</td><td>str</td><td>str</td><td>str</td><td>str</td><td>str</td><td>str</td><td>i64</td><td>str</td><td>str</td><td>str</td><td>str</td><td>datetime[μs]</td></tr></thead><tbody><tr><td>1</td><td>&quot;Company A&quot;</td><td>&quot;Bedecs&quot;</td><td>&quot;Anna&quot;</td><td>null</td><td>&quot;Owner&quot;</td><td>&quot;(123)555-0100&quot;</td><td>null</td><td>null</td><td>&quot;(123)555-0101&quot;</td><td>&quot;123 1st Street&quot;</td><td>&quot;Seattle&quot;</td><td>&quot;WA&quot;</td><td>99999</td><td>&quot;USA&quot;</td><td>null</td><td>null</td><td>null</td><td>2024-07-05 23:58:06.420786</td></tr><tr><td>2</td><td>&quot;Company B&quot;</td><td>&quot;Gratacos Solsona&quot;</td><td>&quot;Antonio&quot;</td><td>null</td><td>&quot;Owner&quot;</td><td>&quot;(123)555-0100&quot;</td><td>null</td><td>null</td><td>&quot;(123)555-0101&quot;</td><td>&quot;123 2nd Street&quot;</td><td>&quot;Boston&quot;</td><td>&quot;MA&quot;</td><td>99999</td><td>&quot;USA&quot;</td><td>null</td><td>null</td><td>null</td><td>2024-07-05 23:58:06.420786</td></tr><tr><td>3</td><td>&quot;Company C&quot;</td><td>&quot;Axen&quot;</td><td>&quot;Thomas&quot;</td><td>null</td><td>&quot;Purchasing Representative&quot;</td><td>&quot;(123)555-0100&quot;</td><td>null</td><td>null</td><td>&quot;(123)555-0101&quot;</td><td>&quot;123 3rd Street&quot;</td><td>&quot;Los Angelas&quot;</td><td>&quot;CA&quot;</td><td>99999</td><td>&quot;USA&quot;</td><td>null</td><td>null</td><td>null</td><td>2024-07-05 23:58:06.420786</td></tr><tr><td>4</td><td>&quot;Company D&quot;</td><td>&quot;Lee&quot;</td><td>&quot;Christina&quot;</td><td>null</td><td>&quot;Purchasing Manager&quot;</td><td>&quot;(123)555-0100&quot;</td><td>null</td><td>null</td><td>&quot;(123)555-0101&quot;</td><td>&quot;123 4th Street&quot;</td><td>&quot;New York&quot;</td><td>&quot;NY&quot;</td><td>99999</td><td>&quot;USA&quot;</td><td>null</td><td>null</td><td>null</td><td>2024-07-05 23:58:06.420786</td></tr><tr><td>5</td><td>&quot;Company E&quot;</td><td>&quot;O’Donnell&quot;</td><td>&quot;Martin&quot;</td><td>null</td><td>&quot;Owner&quot;</td><td>&quot;(123)555-0100&quot;</td><td>null</td><td>null</td><td>&quot;(123)555-0101&quot;</td><td>&quot;123 5th Street&quot;</td><td>&quot;Minneapolis&quot;</td><td>&quot;MN&quot;</td><td>99999</td><td>&quot;USA&quot;</td><td>null</td><td>null</td><td>null</td><td>2024-07-05 23:58:06.420786</td></tr><tr><td>&hellip;</td><td>&hellip;</td><td>&hellip;</td><td>&hellip;</td><td>&hellip;</td><td>&hellip;</td><td>&hellip;</td><td>&hellip;</td><td>&hellip;</td><td>&hellip;</td><td>&hellip;</td><td>&hellip;</td><td>&hellip;</td><td>&hellip;</td><td>&hellip;</td><td>&hellip;</td><td>&hellip;</td><td>&hellip;</td><td>&hellip;</td></tr><tr><td>25</td><td>&quot;Company Y&quot;</td><td>&quot;Rodman&quot;</td><td>&quot;John&quot;</td><td>null</td><td>&quot;Purchasing Manager&quot;</td><td>&quot;(123)555-0100&quot;</td><td>null</td><td>null</td><td>&quot;(123)555-0101&quot;</td><td>&quot;789 25th Street&quot;</td><td>&quot;Chicago&quot;</td><td>&quot;IL&quot;</td><td>99999</td><td>&quot;USA&quot;</td><td>null</td><td>null</td><td>null</td><td>2024-07-05 23:58:06.420786</td></tr><tr><td>26</td><td>&quot;Company Z&quot;</td><td>&quot;Liu&quot;</td><td>&quot;Run&quot;</td><td>null</td><td>&quot;Accounting Assistant&quot;</td><td>&quot;(123)555-0100&quot;</td><td>null</td><td>null</td><td>&quot;(123)555-0101&quot;</td><td>&quot;789 26th Street&quot;</td><td>&quot;Miami&quot;</td><td>&quot;FL&quot;</td><td>99999</td><td>&quot;USA&quot;</td><td>null</td><td>null</td><td>null</td><td>2024-07-05 23:58:06.420786</td></tr><tr><td>27</td><td>&quot;Company AA&quot;</td><td>&quot;Toh&quot;</td><td>&quot;Karen&quot;</td><td>null</td><td>&quot;Purchasing Manager&quot;</td><td>&quot;(123)555-0100&quot;</td><td>null</td><td>null</td><td>&quot;(123)555-0101&quot;</td><td>&quot;789 27th Street&quot;</td><td>&quot;Las Vegas&quot;</td><td>&quot;NV&quot;</td><td>99999</td><td>&quot;USA&quot;</td><td>null</td><td>null</td><td>null</td><td>2024-07-05 23:58:06.420786</td></tr><tr><td>28</td><td>&quot;Company BB&quot;</td><td>&quot;Raghav&quot;</td><td>&quot;Amritansh&quot;</td><td>null</td><td>&quot;Purchasing Manager&quot;</td><td>&quot;(123)555-0100&quot;</td><td>null</td><td>null</td><td>&quot;(123)555-0101&quot;</td><td>&quot;789 28th Street&quot;</td><td>&quot;Memphis&quot;</td><td>&quot;TN&quot;</td><td>99999</td><td>&quot;USA&quot;</td><td>null</td><td>null</td><td>null</td><td>2024-07-05 23:58:06.420786</td></tr><tr><td>29</td><td>&quot;Company CC&quot;</td><td>&quot;Lee&quot;</td><td>&quot;Soo Jung&quot;</td><td>null</td><td>&quot;Purchasing Manager&quot;</td><td>&quot;(123)555-0100&quot;</td><td>null</td><td>null</td><td>&quot;(123)555-0101&quot;</td><td>&quot;789 29th Street&quot;</td><td>&quot;Denver&quot;</td><td>&quot;CO&quot;</td><td>99999</td><td>&quot;USA&quot;</td><td>null</td><td>null</td><td>null</td><td>2024-07-05 23:58:06.420786</td></tr></tbody></table></div>"
      ],
      "text/plain": [
       "shape: (29, 19)\n",
       "┌────────────┬────────────┬────────────┬────────────┬───┬──────────┬───────┬───────────┬───────────┐\n",
       "│ customer_i ┆ company    ┆ last_name  ┆ first_name ┆ … ┆ web_page ┆ notes ┆ attachmen ┆ ingestion │\n",
       "│ d          ┆ ---        ┆ ---        ┆ ---        ┆   ┆ ---      ┆ ---   ┆ ts        ┆ _timestam │\n",
       "│ ---        ┆ str        ┆ str        ┆ str        ┆   ┆ str      ┆ str   ┆ ---       ┆ p         │\n",
       "│ i64        ┆            ┆            ┆            ┆   ┆          ┆       ┆ str       ┆ ---       │\n",
       "│            ┆            ┆            ┆            ┆   ┆          ┆       ┆           ┆ datetime[ │\n",
       "│            ┆            ┆            ┆            ┆   ┆          ┆       ┆           ┆ μs]       │\n",
       "╞════════════╪════════════╪════════════╪════════════╪═══╪══════════╪═══════╪═══════════╪═══════════╡\n",
       "│ 1          ┆ Company A  ┆ Bedecs     ┆ Anna       ┆ … ┆ null     ┆ null  ┆ null      ┆ 2024-07-0 │\n",
       "│            ┆            ┆            ┆            ┆   ┆          ┆       ┆           ┆ 5 23:58:0 │\n",
       "│            ┆            ┆            ┆            ┆   ┆          ┆       ┆           ┆ 6.420786  │\n",
       "│ 2          ┆ Company B  ┆ Gratacos   ┆ Antonio    ┆ … ┆ null     ┆ null  ┆ null      ┆ 2024-07-0 │\n",
       "│            ┆            ┆ Solsona    ┆            ┆   ┆          ┆       ┆           ┆ 5 23:58:0 │\n",
       "│            ┆            ┆            ┆            ┆   ┆          ┆       ┆           ┆ 6.420786  │\n",
       "│ 3          ┆ Company C  ┆ Axen       ┆ Thomas     ┆ … ┆ null     ┆ null  ┆ null      ┆ 2024-07-0 │\n",
       "│            ┆            ┆            ┆            ┆   ┆          ┆       ┆           ┆ 5 23:58:0 │\n",
       "│            ┆            ┆            ┆            ┆   ┆          ┆       ┆           ┆ 6.420786  │\n",
       "│ 4          ┆ Company D  ┆ Lee        ┆ Christina  ┆ … ┆ null     ┆ null  ┆ null      ┆ 2024-07-0 │\n",
       "│            ┆            ┆            ┆            ┆   ┆          ┆       ┆           ┆ 5 23:58:0 │\n",
       "│            ┆            ┆            ┆            ┆   ┆          ┆       ┆           ┆ 6.420786  │\n",
       "│ 5          ┆ Company E  ┆ O’Donnell  ┆ Martin     ┆ … ┆ null     ┆ null  ┆ null      ┆ 2024-07-0 │\n",
       "│            ┆            ┆            ┆            ┆   ┆          ┆       ┆           ┆ 5 23:58:0 │\n",
       "│            ┆            ┆            ┆            ┆   ┆          ┆       ┆           ┆ 6.420786  │\n",
       "│ …          ┆ …          ┆ …          ┆ …          ┆ … ┆ …        ┆ …     ┆ …         ┆ …         │\n",
       "│ 25         ┆ Company Y  ┆ Rodman     ┆ John       ┆ … ┆ null     ┆ null  ┆ null      ┆ 2024-07-0 │\n",
       "│            ┆            ┆            ┆            ┆   ┆          ┆       ┆           ┆ 5 23:58:0 │\n",
       "│            ┆            ┆            ┆            ┆   ┆          ┆       ┆           ┆ 6.420786  │\n",
       "│ 26         ┆ Company Z  ┆ Liu        ┆ Run        ┆ … ┆ null     ┆ null  ┆ null      ┆ 2024-07-0 │\n",
       "│            ┆            ┆            ┆            ┆   ┆          ┆       ┆           ┆ 5 23:58:0 │\n",
       "│            ┆            ┆            ┆            ┆   ┆          ┆       ┆           ┆ 6.420786  │\n",
       "│ 27         ┆ Company AA ┆ Toh        ┆ Karen      ┆ … ┆ null     ┆ null  ┆ null      ┆ 2024-07-0 │\n",
       "│            ┆            ┆            ┆            ┆   ┆          ┆       ┆           ┆ 5 23:58:0 │\n",
       "│            ┆            ┆            ┆            ┆   ┆          ┆       ┆           ┆ 6.420786  │\n",
       "│ 28         ┆ Company BB ┆ Raghav     ┆ Amritansh  ┆ … ┆ null     ┆ null  ┆ null      ┆ 2024-07-0 │\n",
       "│            ┆            ┆            ┆            ┆   ┆          ┆       ┆           ┆ 5 23:58:0 │\n",
       "│            ┆            ┆            ┆            ┆   ┆          ┆       ┆           ┆ 6.420786  │\n",
       "│ 29         ┆ Company CC ┆ Lee        ┆ Soo Jung   ┆ … ┆ null     ┆ null  ┆ null      ┆ 2024-07-0 │\n",
       "│            ┆            ┆            ┆            ┆   ┆          ┆       ┆           ┆ 5 23:58:0 │\n",
       "│            ┆            ┆            ┆            ┆   ┆          ┆       ┆           ┆ 6.420786  │\n",
       "└────────────┴────────────┴────────────┴────────────┴───┴──────────┴───────┴───────────┴───────────┘"
      ]
     },
     "execution_count": 4,
     "metadata": {},
     "output_type": "execute_result"
    }
   ],
   "source": [
    "stg_customer\n",
    "# staging area เหมือนบ่อพัก ใช้ตรวจสอบก่อนนำเข้าไปใน ware house"
   ]
  },
  {
   "cell_type": "code",
   "execution_count": 5,
   "metadata": {},
   "outputs": [
    {
     "data": {
      "text/html": [
       "<div><style>\n",
       ".dataframe > thead > tr,\n",
       ".dataframe > tbody > tr {\n",
       "  text-align: right;\n",
       "  white-space: pre-wrap;\n",
       "}\n",
       "</style>\n",
       "<small>shape: (29, 19)</small><table border=\"1\" class=\"dataframe\"><thead><tr><th>customer_id</th><th>company</th><th>last_name</th><th>first_name</th><th>email_address</th><th>job_title</th><th>business_phone</th><th>home_phone</th><th>mobile_phone</th><th>fax_number</th><th>address</th><th>city</th><th>state_province</th><th>zip_postal_code</th><th>country_region</th><th>web_page</th><th>notes</th><th>attachments</th><th>insertion_timestamp</th></tr><tr><td>i64</td><td>str</td><td>str</td><td>str</td><td>str</td><td>str</td><td>str</td><td>str</td><td>str</td><td>str</td><td>str</td><td>str</td><td>str</td><td>i64</td><td>str</td><td>str</td><td>str</td><td>str</td><td>datetime[μs]</td></tr></thead><tbody><tr><td>1</td><td>&quot;Company A&quot;</td><td>&quot;Bedecs&quot;</td><td>&quot;Anna&quot;</td><td>null</td><td>&quot;Owner&quot;</td><td>&quot;(123)555-0100&quot;</td><td>null</td><td>null</td><td>&quot;(123)555-0101&quot;</td><td>&quot;123 1st Street&quot;</td><td>&quot;Seattle&quot;</td><td>&quot;WA&quot;</td><td>99999</td><td>&quot;USA&quot;</td><td>null</td><td>null</td><td>null</td><td>2024-07-05 23:58:06.493312</td></tr><tr><td>2</td><td>&quot;Company B&quot;</td><td>&quot;Gratacos Solsona&quot;</td><td>&quot;Antonio&quot;</td><td>null</td><td>&quot;Owner&quot;</td><td>&quot;(123)555-0100&quot;</td><td>null</td><td>null</td><td>&quot;(123)555-0101&quot;</td><td>&quot;123 2nd Street&quot;</td><td>&quot;Boston&quot;</td><td>&quot;MA&quot;</td><td>99999</td><td>&quot;USA&quot;</td><td>null</td><td>null</td><td>null</td><td>2024-07-05 23:58:06.493312</td></tr><tr><td>3</td><td>&quot;Company C&quot;</td><td>&quot;Axen&quot;</td><td>&quot;Thomas&quot;</td><td>null</td><td>&quot;Purchasing Representative&quot;</td><td>&quot;(123)555-0100&quot;</td><td>null</td><td>null</td><td>&quot;(123)555-0101&quot;</td><td>&quot;123 3rd Street&quot;</td><td>&quot;Los Angelas&quot;</td><td>&quot;CA&quot;</td><td>99999</td><td>&quot;USA&quot;</td><td>null</td><td>null</td><td>null</td><td>2024-07-05 23:58:06.493312</td></tr><tr><td>4</td><td>&quot;Company D&quot;</td><td>&quot;Lee&quot;</td><td>&quot;Christina&quot;</td><td>null</td><td>&quot;Purchasing Manager&quot;</td><td>&quot;(123)555-0100&quot;</td><td>null</td><td>null</td><td>&quot;(123)555-0101&quot;</td><td>&quot;123 4th Street&quot;</td><td>&quot;New York&quot;</td><td>&quot;NY&quot;</td><td>99999</td><td>&quot;USA&quot;</td><td>null</td><td>null</td><td>null</td><td>2024-07-05 23:58:06.493312</td></tr><tr><td>5</td><td>&quot;Company E&quot;</td><td>&quot;O’Donnell&quot;</td><td>&quot;Martin&quot;</td><td>null</td><td>&quot;Owner&quot;</td><td>&quot;(123)555-0100&quot;</td><td>null</td><td>null</td><td>&quot;(123)555-0101&quot;</td><td>&quot;123 5th Street&quot;</td><td>&quot;Minneapolis&quot;</td><td>&quot;MN&quot;</td><td>99999</td><td>&quot;USA&quot;</td><td>null</td><td>null</td><td>null</td><td>2024-07-05 23:58:06.493312</td></tr><tr><td>&hellip;</td><td>&hellip;</td><td>&hellip;</td><td>&hellip;</td><td>&hellip;</td><td>&hellip;</td><td>&hellip;</td><td>&hellip;</td><td>&hellip;</td><td>&hellip;</td><td>&hellip;</td><td>&hellip;</td><td>&hellip;</td><td>&hellip;</td><td>&hellip;</td><td>&hellip;</td><td>&hellip;</td><td>&hellip;</td><td>&hellip;</td></tr><tr><td>25</td><td>&quot;Company Y&quot;</td><td>&quot;Rodman&quot;</td><td>&quot;John&quot;</td><td>null</td><td>&quot;Purchasing Manager&quot;</td><td>&quot;(123)555-0100&quot;</td><td>null</td><td>null</td><td>&quot;(123)555-0101&quot;</td><td>&quot;789 25th Street&quot;</td><td>&quot;Chicago&quot;</td><td>&quot;IL&quot;</td><td>99999</td><td>&quot;USA&quot;</td><td>null</td><td>null</td><td>null</td><td>2024-07-05 23:58:06.493312</td></tr><tr><td>26</td><td>&quot;Company Z&quot;</td><td>&quot;Liu&quot;</td><td>&quot;Run&quot;</td><td>null</td><td>&quot;Accounting Assistant&quot;</td><td>&quot;(123)555-0100&quot;</td><td>null</td><td>null</td><td>&quot;(123)555-0101&quot;</td><td>&quot;789 26th Street&quot;</td><td>&quot;Miami&quot;</td><td>&quot;FL&quot;</td><td>99999</td><td>&quot;USA&quot;</td><td>null</td><td>null</td><td>null</td><td>2024-07-05 23:58:06.493312</td></tr><tr><td>27</td><td>&quot;Company AA&quot;</td><td>&quot;Toh&quot;</td><td>&quot;Karen&quot;</td><td>null</td><td>&quot;Purchasing Manager&quot;</td><td>&quot;(123)555-0100&quot;</td><td>null</td><td>null</td><td>&quot;(123)555-0101&quot;</td><td>&quot;789 27th Street&quot;</td><td>&quot;Las Vegas&quot;</td><td>&quot;NV&quot;</td><td>99999</td><td>&quot;USA&quot;</td><td>null</td><td>null</td><td>null</td><td>2024-07-05 23:58:06.493312</td></tr><tr><td>28</td><td>&quot;Company BB&quot;</td><td>&quot;Raghav&quot;</td><td>&quot;Amritansh&quot;</td><td>null</td><td>&quot;Purchasing Manager&quot;</td><td>&quot;(123)555-0100&quot;</td><td>null</td><td>null</td><td>&quot;(123)555-0101&quot;</td><td>&quot;789 28th Street&quot;</td><td>&quot;Memphis&quot;</td><td>&quot;TN&quot;</td><td>99999</td><td>&quot;USA&quot;</td><td>null</td><td>null</td><td>null</td><td>2024-07-05 23:58:06.493312</td></tr><tr><td>29</td><td>&quot;Company CC&quot;</td><td>&quot;Lee&quot;</td><td>&quot;Soo Jung&quot;</td><td>null</td><td>&quot;Purchasing Manager&quot;</td><td>&quot;(123)555-0100&quot;</td><td>null</td><td>null</td><td>&quot;(123)555-0101&quot;</td><td>&quot;789 29th Street&quot;</td><td>&quot;Denver&quot;</td><td>&quot;CO&quot;</td><td>99999</td><td>&quot;USA&quot;</td><td>null</td><td>null</td><td>null</td><td>2024-07-05 23:58:06.493312</td></tr></tbody></table></div>"
      ],
      "text/plain": [
       "shape: (29, 19)\n",
       "┌────────────┬────────────┬────────────┬────────────┬───┬──────────┬───────┬───────────┬───────────┐\n",
       "│ customer_i ┆ company    ┆ last_name  ┆ first_name ┆ … ┆ web_page ┆ notes ┆ attachmen ┆ insertion │\n",
       "│ d          ┆ ---        ┆ ---        ┆ ---        ┆   ┆ ---      ┆ ---   ┆ ts        ┆ _timestam │\n",
       "│ ---        ┆ str        ┆ str        ┆ str        ┆   ┆ str      ┆ str   ┆ ---       ┆ p         │\n",
       "│ i64        ┆            ┆            ┆            ┆   ┆          ┆       ┆ str       ┆ ---       │\n",
       "│            ┆            ┆            ┆            ┆   ┆          ┆       ┆           ┆ datetime[ │\n",
       "│            ┆            ┆            ┆            ┆   ┆          ┆       ┆           ┆ μs]       │\n",
       "╞════════════╪════════════╪════════════╪════════════╪═══╪══════════╪═══════╪═══════════╪═══════════╡\n",
       "│ 1          ┆ Company A  ┆ Bedecs     ┆ Anna       ┆ … ┆ null     ┆ null  ┆ null      ┆ 2024-07-0 │\n",
       "│            ┆            ┆            ┆            ┆   ┆          ┆       ┆           ┆ 5 23:58:0 │\n",
       "│            ┆            ┆            ┆            ┆   ┆          ┆       ┆           ┆ 6.493312  │\n",
       "│ 2          ┆ Company B  ┆ Gratacos   ┆ Antonio    ┆ … ┆ null     ┆ null  ┆ null      ┆ 2024-07-0 │\n",
       "│            ┆            ┆ Solsona    ┆            ┆   ┆          ┆       ┆           ┆ 5 23:58:0 │\n",
       "│            ┆            ┆            ┆            ┆   ┆          ┆       ┆           ┆ 6.493312  │\n",
       "│ 3          ┆ Company C  ┆ Axen       ┆ Thomas     ┆ … ┆ null     ┆ null  ┆ null      ┆ 2024-07-0 │\n",
       "│            ┆            ┆            ┆            ┆   ┆          ┆       ┆           ┆ 5 23:58:0 │\n",
       "│            ┆            ┆            ┆            ┆   ┆          ┆       ┆           ┆ 6.493312  │\n",
       "│ 4          ┆ Company D  ┆ Lee        ┆ Christina  ┆ … ┆ null     ┆ null  ┆ null      ┆ 2024-07-0 │\n",
       "│            ┆            ┆            ┆            ┆   ┆          ┆       ┆           ┆ 5 23:58:0 │\n",
       "│            ┆            ┆            ┆            ┆   ┆          ┆       ┆           ┆ 6.493312  │\n",
       "│ 5          ┆ Company E  ┆ O’Donnell  ┆ Martin     ┆ … ┆ null     ┆ null  ┆ null      ┆ 2024-07-0 │\n",
       "│            ┆            ┆            ┆            ┆   ┆          ┆       ┆           ┆ 5 23:58:0 │\n",
       "│            ┆            ┆            ┆            ┆   ┆          ┆       ┆           ┆ 6.493312  │\n",
       "│ …          ┆ …          ┆ …          ┆ …          ┆ … ┆ …        ┆ …     ┆ …         ┆ …         │\n",
       "│ 25         ┆ Company Y  ┆ Rodman     ┆ John       ┆ … ┆ null     ┆ null  ┆ null      ┆ 2024-07-0 │\n",
       "│            ┆            ┆            ┆            ┆   ┆          ┆       ┆           ┆ 5 23:58:0 │\n",
       "│            ┆            ┆            ┆            ┆   ┆          ┆       ┆           ┆ 6.493312  │\n",
       "│ 26         ┆ Company Z  ┆ Liu        ┆ Run        ┆ … ┆ null     ┆ null  ┆ null      ┆ 2024-07-0 │\n",
       "│            ┆            ┆            ┆            ┆   ┆          ┆       ┆           ┆ 5 23:58:0 │\n",
       "│            ┆            ┆            ┆            ┆   ┆          ┆       ┆           ┆ 6.493312  │\n",
       "│ 27         ┆ Company AA ┆ Toh        ┆ Karen      ┆ … ┆ null     ┆ null  ┆ null      ┆ 2024-07-0 │\n",
       "│            ┆            ┆            ┆            ┆   ┆          ┆       ┆           ┆ 5 23:58:0 │\n",
       "│            ┆            ┆            ┆            ┆   ┆          ┆       ┆           ┆ 6.493312  │\n",
       "│ 28         ┆ Company BB ┆ Raghav     ┆ Amritansh  ┆ … ┆ null     ┆ null  ┆ null      ┆ 2024-07-0 │\n",
       "│            ┆            ┆            ┆            ┆   ┆          ┆       ┆           ┆ 5 23:58:0 │\n",
       "│            ┆            ┆            ┆            ┆   ┆          ┆       ┆           ┆ 6.493312  │\n",
       "│ 29         ┆ Company CC ┆ Lee        ┆ Soo Jung   ┆ … ┆ null     ┆ null  ┆ null      ┆ 2024-07-0 │\n",
       "│            ┆            ┆            ┆            ┆   ┆          ┆       ┆           ┆ 5 23:58:0 │\n",
       "│            ┆            ┆            ┆            ┆   ┆          ┆       ┆           ┆ 6.493312  │\n",
       "└────────────┴────────────┴────────────┴────────────┴───┴──────────┴───────┴───────────┴───────────┘"
      ]
     },
     "execution_count": 5,
     "metadata": {},
     "output_type": "execute_result"
    }
   ],
   "source": [
    "# load stg customer from stage repository\n",
    "dim_customer = (stg_customer\n",
    "                .pipe(exclude_col,'ingestion_timestamp')\n",
    "                .pipe(add_timestamp,'insertion_timestamp')\n",
    "                )\n",
    "dim_customer"
   ]
  },
  {
   "cell_type": "markdown",
   "metadata": {},
   "source": [
    "---"
   ]
  },
  {
   "cell_type": "markdown",
   "metadata": {},
   "source": [
    "## Employee dimension table."
   ]
  },
  {
   "cell_type": "markdown",
   "metadata": {},
   "source": [
    "1. Read employee table from `employees.csv` file.\n",
    "\n",
    "2. Create timstamp column with column name `ingestion_timestamp` and name table as `stg_employee`, and load data into `stg_northwind` database. \n",
    "\n",
    "3. Transform data as follows:\n",
    "    - Sort by `id` and get unique `id`.\n",
    "    - Rename `id` columns to `employee_id`.\n",
    "    - Delete an `ingestion_timestamp` column and add timstamp column with column name `insertion_timestamp`.\n"
   ]
  },
  {
   "cell_type": "code",
   "execution_count": 6,
   "metadata": {},
   "outputs": [],
   "source": [
    "# STEP 1\n",
    "import polars as pl\n",
    "df_emp = pl.read_csv('./data/northwind/employees.csv')"
   ]
  },
  {
   "cell_type": "code",
   "execution_count": 7,
   "metadata": {},
   "outputs": [
    {
     "data": {
      "text/html": [
       "<div><style>\n",
       ".dataframe > thead > tr,\n",
       ".dataframe > tbody > tr {\n",
       "  text-align: right;\n",
       "  white-space: pre-wrap;\n",
       "}\n",
       "</style>\n",
       "<small>shape: (9, 19)</small><table border=\"1\" class=\"dataframe\"><thead><tr><th>id</th><th>company</th><th>last_name</th><th>first_name</th><th>email_address</th><th>job_title</th><th>business_phone</th><th>home_phone</th><th>mobile_phone</th><th>fax_number</th><th>address</th><th>city</th><th>state_province</th><th>zip_postal_code</th><th>country_region</th><th>web_page</th><th>notes</th><th>attachments</th><th>ingestion_timestamp</th></tr><tr><td>i64</td><td>str</td><td>str</td><td>str</td><td>str</td><td>str</td><td>str</td><td>str</td><td>str</td><td>str</td><td>str</td><td>str</td><td>str</td><td>i64</td><td>str</td><td>str</td><td>str</td><td>str</td><td>datetime[μs]</td></tr></thead><tbody><tr><td>2</td><td>&quot;Northwind Traders&quot;</td><td>&quot;Cencini&quot;</td><td>&quot;Andrew&quot;</td><td>&quot;andrew@northwindtraders.com&quot;</td><td>&quot;Vice President, Sales&quot;</td><td>&quot;(123)555-0100&quot;</td><td>&quot;(123)555-0102&quot;</td><td>null</td><td>&quot;(123)555-0103&quot;</td><td>&quot;123 2nd Avenue&quot;</td><td>&quot;Bellevue&quot;</td><td>&quot;WA&quot;</td><td>99999</td><td>&quot;USA&quot;</td><td>&quot;http://northwindtraders.com#ht…</td><td>&quot;Joined the company as a sales …</td><td>null</td><td>2024-07-05 23:58:06.540916</td></tr><tr><td>8</td><td>&quot;Northwind Traders&quot;</td><td>&quot;Giussani&quot;</td><td>&quot;Laura&quot;</td><td>&quot;laura@northwindtraders.com&quot;</td><td>&quot;Sales Coordinator&quot;</td><td>&quot;(123)555-0100&quot;</td><td>&quot;(123)555-0102&quot;</td><td>null</td><td>&quot;(123)555-0103&quot;</td><td>&quot;123 8th Avenue&quot;</td><td>&quot;Redmond&quot;</td><td>&quot;WA&quot;</td><td>99999</td><td>&quot;USA&quot;</td><td>&quot;http://northwindtraders.com#ht…</td><td>&quot;Reads and writes French.&quot;</td><td>null</td><td>2024-07-05 23:58:06.540916</td></tr><tr><td>6</td><td>&quot;Northwind Traders&quot;</td><td>&quot;Neipper&quot;</td><td>&quot;Michael&quot;</td><td>&quot;michael@northwindtraders.com&quot;</td><td>&quot;Sales Representative&quot;</td><td>&quot;(123)555-0100&quot;</td><td>&quot;(123)555-0102&quot;</td><td>null</td><td>&quot;(123)555-0103&quot;</td><td>&quot;123 6th Avenue&quot;</td><td>&quot;Redmond&quot;</td><td>&quot;WA&quot;</td><td>99999</td><td>&quot;USA&quot;</td><td>&quot;http://northwindtraders.com#ht…</td><td>&quot;Fluent in Japanese and can rea…</td><td>null</td><td>2024-07-05 23:58:06.540916</td></tr><tr><td>3</td><td>&quot;Northwind Traders&quot;</td><td>&quot;Kotas&quot;</td><td>&quot;Jan&quot;</td><td>&quot;jan@northwindtraders.com&quot;</td><td>&quot;Sales Representative&quot;</td><td>&quot;(123)555-0100&quot;</td><td>&quot;(123)555-0102&quot;</td><td>null</td><td>&quot;(123)555-0103&quot;</td><td>&quot;123 3rd Avenue&quot;</td><td>&quot;Redmond&quot;</td><td>&quot;WA&quot;</td><td>99999</td><td>&quot;USA&quot;</td><td>&quot;http://northwindtraders.com#ht…</td><td>&quot;Was hired as a sales associate…</td><td>null</td><td>2024-07-05 23:58:06.540916</td></tr><tr><td>1</td><td>&quot;Northwind Traders&quot;</td><td>&quot;Freehafer&quot;</td><td>&quot;Nancy&quot;</td><td>&quot;nancy@northwindtraders.com&quot;</td><td>&quot;Sales Representative&quot;</td><td>&quot;(123)555-0100&quot;</td><td>&quot;(123)555-0102&quot;</td><td>null</td><td>&quot;(123)555-0103&quot;</td><td>&quot;123 1st Avenue&quot;</td><td>&quot;Seattle&quot;</td><td>&quot;WA&quot;</td><td>99999</td><td>&quot;USA&quot;</td><td>&quot;#http://northwindtraders.com#&quot;</td><td>null</td><td>null</td><td>2024-07-05 23:58:06.540916</td></tr><tr><td>7</td><td>&quot;Northwind Traders&quot;</td><td>&quot;Zare&quot;</td><td>&quot;Robert&quot;</td><td>&quot;robert@northwindtraders.com&quot;</td><td>&quot;Sales Representative&quot;</td><td>&quot;(123)555-0100&quot;</td><td>&quot;(123)555-0102&quot;</td><td>null</td><td>&quot;(123)555-0103&quot;</td><td>&quot;123 7th Avenue&quot;</td><td>&quot;Seattle&quot;</td><td>&quot;WA&quot;</td><td>99999</td><td>&quot;USA&quot;</td><td>&quot;http://northwindtraders.com#ht…</td><td>null</td><td>null</td><td>2024-07-05 23:58:06.540916</td></tr><tr><td>4</td><td>&quot;Northwind Traders&quot;</td><td>&quot;Sergienko&quot;</td><td>&quot;Mariya&quot;</td><td>&quot;mariya@northwindtraders.com&quot;</td><td>&quot;Sales Representative&quot;</td><td>&quot;(123)555-0100&quot;</td><td>&quot;(123)555-0102&quot;</td><td>null</td><td>&quot;(123)555-0103&quot;</td><td>&quot;123 4th Avenue&quot;</td><td>&quot;Kirkland&quot;</td><td>&quot;WA&quot;</td><td>99999</td><td>&quot;USA&quot;</td><td>&quot;http://northwindtraders.com#ht…</td><td>null</td><td>null</td><td>2024-07-05 23:58:06.540916</td></tr><tr><td>9</td><td>&quot;Northwind Traders&quot;</td><td>&quot;Hellung-Larsen&quot;</td><td>&quot;Anne&quot;</td><td>&quot;anne@northwindtraders.com&quot;</td><td>&quot;Sales Representative&quot;</td><td>&quot;(123)555-0100&quot;</td><td>&quot;(123)555-0102&quot;</td><td>null</td><td>&quot;(123)555-0103&quot;</td><td>&quot;123 9th Avenue&quot;</td><td>&quot;Seattle&quot;</td><td>&quot;WA&quot;</td><td>99999</td><td>&quot;USA&quot;</td><td>&quot;http://northwindtraders.com#ht…</td><td>&quot;Fluent in French and German.&quot;</td><td>null</td><td>2024-07-05 23:58:06.540916</td></tr><tr><td>5</td><td>&quot;Northwind Traders&quot;</td><td>&quot;Thorpe&quot;</td><td>&quot;Steven&quot;</td><td>&quot;steven@northwindtraders.com&quot;</td><td>&quot;Sales Manager&quot;</td><td>&quot;(123)555-0100&quot;</td><td>&quot;(123)555-0102&quot;</td><td>null</td><td>&quot;(123)555-0103&quot;</td><td>&quot;123 5th Avenue&quot;</td><td>&quot;Seattle&quot;</td><td>&quot;WA&quot;</td><td>99999</td><td>&quot;USA&quot;</td><td>&quot;http://northwindtraders.com#ht…</td><td>&quot;Joined the company as a sales …</td><td>null</td><td>2024-07-05 23:58:06.540916</td></tr></tbody></table></div>"
      ],
      "text/plain": [
       "shape: (9, 19)\n",
       "┌─────┬────────────┬────────────┬────────────┬───┬────────────┬────────────┬───────────┬───────────┐\n",
       "│ id  ┆ company    ┆ last_name  ┆ first_name ┆ … ┆ web_page   ┆ notes      ┆ attachmen ┆ ingestion │\n",
       "│ --- ┆ ---        ┆ ---        ┆ ---        ┆   ┆ ---        ┆ ---        ┆ ts        ┆ _timestam │\n",
       "│ i64 ┆ str        ┆ str        ┆ str        ┆   ┆ str        ┆ str        ┆ ---       ┆ p         │\n",
       "│     ┆            ┆            ┆            ┆   ┆            ┆            ┆ str       ┆ ---       │\n",
       "│     ┆            ┆            ┆            ┆   ┆            ┆            ┆           ┆ datetime[ │\n",
       "│     ┆            ┆            ┆            ┆   ┆            ┆            ┆           ┆ μs]       │\n",
       "╞═════╪════════════╪════════════╪════════════╪═══╪════════════╪════════════╪═══════════╪═══════════╡\n",
       "│ 2   ┆ Northwind  ┆ Cencini    ┆ Andrew     ┆ … ┆ http://nor ┆ Joined the ┆ null      ┆ 2024-07-0 │\n",
       "│     ┆ Traders    ┆            ┆            ┆   ┆ thwindtrad ┆ company as ┆           ┆ 5 23:58:0 │\n",
       "│     ┆            ┆            ┆            ┆   ┆ ers.com#ht ┆ a sales …  ┆           ┆ 6.540916  │\n",
       "│     ┆            ┆            ┆            ┆   ┆ …          ┆            ┆           ┆           │\n",
       "│ 8   ┆ Northwind  ┆ Giussani   ┆ Laura      ┆ … ┆ http://nor ┆ Reads and  ┆ null      ┆ 2024-07-0 │\n",
       "│     ┆ Traders    ┆            ┆            ┆   ┆ thwindtrad ┆ writes     ┆           ┆ 5 23:58:0 │\n",
       "│     ┆            ┆            ┆            ┆   ┆ ers.com#ht ┆ French.    ┆           ┆ 6.540916  │\n",
       "│     ┆            ┆            ┆            ┆   ┆ …          ┆            ┆           ┆           │\n",
       "│ 6   ┆ Northwind  ┆ Neipper    ┆ Michael    ┆ … ┆ http://nor ┆ Fluent in  ┆ null      ┆ 2024-07-0 │\n",
       "│     ┆ Traders    ┆            ┆            ┆   ┆ thwindtrad ┆ Japanese   ┆           ┆ 5 23:58:0 │\n",
       "│     ┆            ┆            ┆            ┆   ┆ ers.com#ht ┆ and can    ┆           ┆ 6.540916  │\n",
       "│     ┆            ┆            ┆            ┆   ┆ …          ┆ rea…       ┆           ┆           │\n",
       "│ 3   ┆ Northwind  ┆ Kotas      ┆ Jan        ┆ … ┆ http://nor ┆ Was hired  ┆ null      ┆ 2024-07-0 │\n",
       "│     ┆ Traders    ┆            ┆            ┆   ┆ thwindtrad ┆ as a sales ┆           ┆ 5 23:58:0 │\n",
       "│     ┆            ┆            ┆            ┆   ┆ ers.com#ht ┆ associate… ┆           ┆ 6.540916  │\n",
       "│     ┆            ┆            ┆            ┆   ┆ …          ┆            ┆           ┆           │\n",
       "│ 1   ┆ Northwind  ┆ Freehafer  ┆ Nancy      ┆ … ┆ #http://no ┆ null       ┆ null      ┆ 2024-07-0 │\n",
       "│     ┆ Traders    ┆            ┆            ┆   ┆ rthwindtra ┆            ┆           ┆ 5 23:58:0 │\n",
       "│     ┆            ┆            ┆            ┆   ┆ ders.com#  ┆            ┆           ┆ 6.540916  │\n",
       "│ 7   ┆ Northwind  ┆ Zare       ┆ Robert     ┆ … ┆ http://nor ┆ null       ┆ null      ┆ 2024-07-0 │\n",
       "│     ┆ Traders    ┆            ┆            ┆   ┆ thwindtrad ┆            ┆           ┆ 5 23:58:0 │\n",
       "│     ┆            ┆            ┆            ┆   ┆ ers.com#ht ┆            ┆           ┆ 6.540916  │\n",
       "│     ┆            ┆            ┆            ┆   ┆ …          ┆            ┆           ┆           │\n",
       "│ 4   ┆ Northwind  ┆ Sergienko  ┆ Mariya     ┆ … ┆ http://nor ┆ null       ┆ null      ┆ 2024-07-0 │\n",
       "│     ┆ Traders    ┆            ┆            ┆   ┆ thwindtrad ┆            ┆           ┆ 5 23:58:0 │\n",
       "│     ┆            ┆            ┆            ┆   ┆ ers.com#ht ┆            ┆           ┆ 6.540916  │\n",
       "│     ┆            ┆            ┆            ┆   ┆ …          ┆            ┆           ┆           │\n",
       "│ 9   ┆ Northwind  ┆ Hellung-La ┆ Anne       ┆ … ┆ http://nor ┆ Fluent in  ┆ null      ┆ 2024-07-0 │\n",
       "│     ┆ Traders    ┆ rsen       ┆            ┆   ┆ thwindtrad ┆ French and ┆           ┆ 5 23:58:0 │\n",
       "│     ┆            ┆            ┆            ┆   ┆ ers.com#ht ┆ German.    ┆           ┆ 6.540916  │\n",
       "│     ┆            ┆            ┆            ┆   ┆ …          ┆            ┆           ┆           │\n",
       "│ 5   ┆ Northwind  ┆ Thorpe     ┆ Steven     ┆ … ┆ http://nor ┆ Joined the ┆ null      ┆ 2024-07-0 │\n",
       "│     ┆ Traders    ┆            ┆            ┆   ┆ thwindtrad ┆ company as ┆           ┆ 5 23:58:0 │\n",
       "│     ┆            ┆            ┆            ┆   ┆ ers.com#ht ┆ a sales …  ┆           ┆ 6.540916  │\n",
       "│     ┆            ┆            ┆            ┆   ┆ …          ┆            ┆           ┆           │\n",
       "└─────┴────────────┴────────────┴────────────┴───┴────────────┴────────────┴───────────┴───────────┘"
      ]
     },
     "execution_count": 7,
     "metadata": {},
     "output_type": "execute_result"
    }
   ],
   "source": [
    "# STEP 2\n",
    "stg_employee = df_emp.pipe(add_timestamp,'ingestion_timestamp')\n",
    "stg_employee"
   ]
  },
  {
   "cell_type": "code",
   "execution_count": 8,
   "metadata": {},
   "outputs": [
    {
     "data": {
      "text/html": [
       "<div><style>\n",
       ".dataframe > thead > tr,\n",
       ".dataframe > tbody > tr {\n",
       "  text-align: right;\n",
       "  white-space: pre-wrap;\n",
       "}\n",
       "</style>\n",
       "<small>shape: (9, 19)</small><table border=\"1\" class=\"dataframe\"><thead><tr><th>employee_id</th><th>company</th><th>last_name</th><th>first_name</th><th>email_address</th><th>job_title</th><th>business_phone</th><th>home_phone</th><th>mobile_phone</th><th>fax_number</th><th>address</th><th>city</th><th>state_province</th><th>zip_postal_code</th><th>country_region</th><th>web_page</th><th>notes</th><th>attachments</th><th>insertion_timestamp</th></tr><tr><td>i64</td><td>str</td><td>str</td><td>str</td><td>str</td><td>str</td><td>str</td><td>str</td><td>str</td><td>str</td><td>str</td><td>str</td><td>str</td><td>i64</td><td>str</td><td>str</td><td>str</td><td>str</td><td>datetime[μs]</td></tr></thead><tbody><tr><td>1</td><td>&quot;Northwind Traders&quot;</td><td>&quot;Freehafer&quot;</td><td>&quot;Nancy&quot;</td><td>&quot;nancy@northwindtraders.com&quot;</td><td>&quot;Sales Representative&quot;</td><td>&quot;(123)555-0100&quot;</td><td>&quot;(123)555-0102&quot;</td><td>null</td><td>&quot;(123)555-0103&quot;</td><td>&quot;123 1st Avenue&quot;</td><td>&quot;Seattle&quot;</td><td>&quot;WA&quot;</td><td>99999</td><td>&quot;USA&quot;</td><td>&quot;#http://northwindtraders.com#&quot;</td><td>null</td><td>null</td><td>2024-07-05 23:58:06.563687</td></tr><tr><td>2</td><td>&quot;Northwind Traders&quot;</td><td>&quot;Cencini&quot;</td><td>&quot;Andrew&quot;</td><td>&quot;andrew@northwindtraders.com&quot;</td><td>&quot;Vice President, Sales&quot;</td><td>&quot;(123)555-0100&quot;</td><td>&quot;(123)555-0102&quot;</td><td>null</td><td>&quot;(123)555-0103&quot;</td><td>&quot;123 2nd Avenue&quot;</td><td>&quot;Bellevue&quot;</td><td>&quot;WA&quot;</td><td>99999</td><td>&quot;USA&quot;</td><td>&quot;http://northwindtraders.com#ht…</td><td>&quot;Joined the company as a sales …</td><td>null</td><td>2024-07-05 23:58:06.563687</td></tr><tr><td>3</td><td>&quot;Northwind Traders&quot;</td><td>&quot;Kotas&quot;</td><td>&quot;Jan&quot;</td><td>&quot;jan@northwindtraders.com&quot;</td><td>&quot;Sales Representative&quot;</td><td>&quot;(123)555-0100&quot;</td><td>&quot;(123)555-0102&quot;</td><td>null</td><td>&quot;(123)555-0103&quot;</td><td>&quot;123 3rd Avenue&quot;</td><td>&quot;Redmond&quot;</td><td>&quot;WA&quot;</td><td>99999</td><td>&quot;USA&quot;</td><td>&quot;http://northwindtraders.com#ht…</td><td>&quot;Was hired as a sales associate…</td><td>null</td><td>2024-07-05 23:58:06.563687</td></tr><tr><td>4</td><td>&quot;Northwind Traders&quot;</td><td>&quot;Sergienko&quot;</td><td>&quot;Mariya&quot;</td><td>&quot;mariya@northwindtraders.com&quot;</td><td>&quot;Sales Representative&quot;</td><td>&quot;(123)555-0100&quot;</td><td>&quot;(123)555-0102&quot;</td><td>null</td><td>&quot;(123)555-0103&quot;</td><td>&quot;123 4th Avenue&quot;</td><td>&quot;Kirkland&quot;</td><td>&quot;WA&quot;</td><td>99999</td><td>&quot;USA&quot;</td><td>&quot;http://northwindtraders.com#ht…</td><td>null</td><td>null</td><td>2024-07-05 23:58:06.563687</td></tr><tr><td>5</td><td>&quot;Northwind Traders&quot;</td><td>&quot;Thorpe&quot;</td><td>&quot;Steven&quot;</td><td>&quot;steven@northwindtraders.com&quot;</td><td>&quot;Sales Manager&quot;</td><td>&quot;(123)555-0100&quot;</td><td>&quot;(123)555-0102&quot;</td><td>null</td><td>&quot;(123)555-0103&quot;</td><td>&quot;123 5th Avenue&quot;</td><td>&quot;Seattle&quot;</td><td>&quot;WA&quot;</td><td>99999</td><td>&quot;USA&quot;</td><td>&quot;http://northwindtraders.com#ht…</td><td>&quot;Joined the company as a sales …</td><td>null</td><td>2024-07-05 23:58:06.563687</td></tr><tr><td>6</td><td>&quot;Northwind Traders&quot;</td><td>&quot;Neipper&quot;</td><td>&quot;Michael&quot;</td><td>&quot;michael@northwindtraders.com&quot;</td><td>&quot;Sales Representative&quot;</td><td>&quot;(123)555-0100&quot;</td><td>&quot;(123)555-0102&quot;</td><td>null</td><td>&quot;(123)555-0103&quot;</td><td>&quot;123 6th Avenue&quot;</td><td>&quot;Redmond&quot;</td><td>&quot;WA&quot;</td><td>99999</td><td>&quot;USA&quot;</td><td>&quot;http://northwindtraders.com#ht…</td><td>&quot;Fluent in Japanese and can rea…</td><td>null</td><td>2024-07-05 23:58:06.563687</td></tr><tr><td>7</td><td>&quot;Northwind Traders&quot;</td><td>&quot;Zare&quot;</td><td>&quot;Robert&quot;</td><td>&quot;robert@northwindtraders.com&quot;</td><td>&quot;Sales Representative&quot;</td><td>&quot;(123)555-0100&quot;</td><td>&quot;(123)555-0102&quot;</td><td>null</td><td>&quot;(123)555-0103&quot;</td><td>&quot;123 7th Avenue&quot;</td><td>&quot;Seattle&quot;</td><td>&quot;WA&quot;</td><td>99999</td><td>&quot;USA&quot;</td><td>&quot;http://northwindtraders.com#ht…</td><td>null</td><td>null</td><td>2024-07-05 23:58:06.563687</td></tr><tr><td>8</td><td>&quot;Northwind Traders&quot;</td><td>&quot;Giussani&quot;</td><td>&quot;Laura&quot;</td><td>&quot;laura@northwindtraders.com&quot;</td><td>&quot;Sales Coordinator&quot;</td><td>&quot;(123)555-0100&quot;</td><td>&quot;(123)555-0102&quot;</td><td>null</td><td>&quot;(123)555-0103&quot;</td><td>&quot;123 8th Avenue&quot;</td><td>&quot;Redmond&quot;</td><td>&quot;WA&quot;</td><td>99999</td><td>&quot;USA&quot;</td><td>&quot;http://northwindtraders.com#ht…</td><td>&quot;Reads and writes French.&quot;</td><td>null</td><td>2024-07-05 23:58:06.563687</td></tr><tr><td>9</td><td>&quot;Northwind Traders&quot;</td><td>&quot;Hellung-Larsen&quot;</td><td>&quot;Anne&quot;</td><td>&quot;anne@northwindtraders.com&quot;</td><td>&quot;Sales Representative&quot;</td><td>&quot;(123)555-0100&quot;</td><td>&quot;(123)555-0102&quot;</td><td>null</td><td>&quot;(123)555-0103&quot;</td><td>&quot;123 9th Avenue&quot;</td><td>&quot;Seattle&quot;</td><td>&quot;WA&quot;</td><td>99999</td><td>&quot;USA&quot;</td><td>&quot;http://northwindtraders.com#ht…</td><td>&quot;Fluent in French and German.&quot;</td><td>null</td><td>2024-07-05 23:58:06.563687</td></tr></tbody></table></div>"
      ],
      "text/plain": [
       "shape: (9, 19)\n",
       "┌───────────┬───────────┬───────────┬───────────┬───┬───────────┬───────────┬───────────┬──────────┐\n",
       "│ employee_ ┆ company   ┆ last_name ┆ first_nam ┆ … ┆ web_page  ┆ notes     ┆ attachmen ┆ insertio │\n",
       "│ id        ┆ ---       ┆ ---       ┆ e         ┆   ┆ ---       ┆ ---       ┆ ts        ┆ n_timest │\n",
       "│ ---       ┆ str       ┆ str       ┆ ---       ┆   ┆ str       ┆ str       ┆ ---       ┆ amp      │\n",
       "│ i64       ┆           ┆           ┆ str       ┆   ┆           ┆           ┆ str       ┆ ---      │\n",
       "│           ┆           ┆           ┆           ┆   ┆           ┆           ┆           ┆ datetime │\n",
       "│           ┆           ┆           ┆           ┆   ┆           ┆           ┆           ┆ [μs]     │\n",
       "╞═══════════╪═══════════╪═══════════╪═══════════╪═══╪═══════════╪═══════════╪═══════════╪══════════╡\n",
       "│ 1         ┆ Northwind ┆ Freehafer ┆ Nancy     ┆ … ┆ #http://n ┆ null      ┆ null      ┆ 2024-07- │\n",
       "│           ┆ Traders   ┆           ┆           ┆   ┆ orthwindt ┆           ┆           ┆ 05 23:58 │\n",
       "│           ┆           ┆           ┆           ┆   ┆ raders.co ┆           ┆           ┆ :06.5636 │\n",
       "│           ┆           ┆           ┆           ┆   ┆ m#        ┆           ┆           ┆ 87       │\n",
       "│ 2         ┆ Northwind ┆ Cencini   ┆ Andrew    ┆ … ┆ http://no ┆ Joined    ┆ null      ┆ 2024-07- │\n",
       "│           ┆ Traders   ┆           ┆           ┆   ┆ rthwindtr ┆ the       ┆           ┆ 05 23:58 │\n",
       "│           ┆           ┆           ┆           ┆   ┆ aders.com ┆ company   ┆           ┆ :06.5636 │\n",
       "│           ┆           ┆           ┆           ┆   ┆ #ht…      ┆ as a      ┆           ┆ 87       │\n",
       "│           ┆           ┆           ┆           ┆   ┆           ┆ sales …   ┆           ┆          │\n",
       "│ 3         ┆ Northwind ┆ Kotas     ┆ Jan       ┆ … ┆ http://no ┆ Was hired ┆ null      ┆ 2024-07- │\n",
       "│           ┆ Traders   ┆           ┆           ┆   ┆ rthwindtr ┆ as a      ┆           ┆ 05 23:58 │\n",
       "│           ┆           ┆           ┆           ┆   ┆ aders.com ┆ sales ass ┆           ┆ :06.5636 │\n",
       "│           ┆           ┆           ┆           ┆   ┆ #ht…      ┆ ociate…   ┆           ┆ 87       │\n",
       "│ 4         ┆ Northwind ┆ Sergienko ┆ Mariya    ┆ … ┆ http://no ┆ null      ┆ null      ┆ 2024-07- │\n",
       "│           ┆ Traders   ┆           ┆           ┆   ┆ rthwindtr ┆           ┆           ┆ 05 23:58 │\n",
       "│           ┆           ┆           ┆           ┆   ┆ aders.com ┆           ┆           ┆ :06.5636 │\n",
       "│           ┆           ┆           ┆           ┆   ┆ #ht…      ┆           ┆           ┆ 87       │\n",
       "│ 5         ┆ Northwind ┆ Thorpe    ┆ Steven    ┆ … ┆ http://no ┆ Joined    ┆ null      ┆ 2024-07- │\n",
       "│           ┆ Traders   ┆           ┆           ┆   ┆ rthwindtr ┆ the       ┆           ┆ 05 23:58 │\n",
       "│           ┆           ┆           ┆           ┆   ┆ aders.com ┆ company   ┆           ┆ :06.5636 │\n",
       "│           ┆           ┆           ┆           ┆   ┆ #ht…      ┆ as a      ┆           ┆ 87       │\n",
       "│           ┆           ┆           ┆           ┆   ┆           ┆ sales …   ┆           ┆          │\n",
       "│ 6         ┆ Northwind ┆ Neipper   ┆ Michael   ┆ … ┆ http://no ┆ Fluent in ┆ null      ┆ 2024-07- │\n",
       "│           ┆ Traders   ┆           ┆           ┆   ┆ rthwindtr ┆ Japanese  ┆           ┆ 05 23:58 │\n",
       "│           ┆           ┆           ┆           ┆   ┆ aders.com ┆ and can   ┆           ┆ :06.5636 │\n",
       "│           ┆           ┆           ┆           ┆   ┆ #ht…      ┆ rea…      ┆           ┆ 87       │\n",
       "│ 7         ┆ Northwind ┆ Zare      ┆ Robert    ┆ … ┆ http://no ┆ null      ┆ null      ┆ 2024-07- │\n",
       "│           ┆ Traders   ┆           ┆           ┆   ┆ rthwindtr ┆           ┆           ┆ 05 23:58 │\n",
       "│           ┆           ┆           ┆           ┆   ┆ aders.com ┆           ┆           ┆ :06.5636 │\n",
       "│           ┆           ┆           ┆           ┆   ┆ #ht…      ┆           ┆           ┆ 87       │\n",
       "│ 8         ┆ Northwind ┆ Giussani  ┆ Laura     ┆ … ┆ http://no ┆ Reads and ┆ null      ┆ 2024-07- │\n",
       "│           ┆ Traders   ┆           ┆           ┆   ┆ rthwindtr ┆ writes    ┆           ┆ 05 23:58 │\n",
       "│           ┆           ┆           ┆           ┆   ┆ aders.com ┆ French.   ┆           ┆ :06.5636 │\n",
       "│           ┆           ┆           ┆           ┆   ┆ #ht…      ┆           ┆           ┆ 87       │\n",
       "│ 9         ┆ Northwind ┆ Hellung-L ┆ Anne      ┆ … ┆ http://no ┆ Fluent in ┆ null      ┆ 2024-07- │\n",
       "│           ┆ Traders   ┆ arsen     ┆           ┆   ┆ rthwindtr ┆ French    ┆           ┆ 05 23:58 │\n",
       "│           ┆           ┆           ┆           ┆   ┆ aders.com ┆ and       ┆           ┆ :06.5636 │\n",
       "│           ┆           ┆           ┆           ┆   ┆ #ht…      ┆ German.   ┆           ┆ 87       │\n",
       "└───────────┴───────────┴───────────┴───────────┴───┴───────────┴───────────┴───────────┴──────────┘"
      ]
     },
     "execution_count": 8,
     "metadata": {},
     "output_type": "execute_result"
    }
   ],
   "source": [
    "# STEP 3\n",
    "stg_employee = (df_emp\n",
    "                .pipe(get_unigue,'id')\n",
    "                .pipe(Mysort,'id')\n",
    "                .pipe(Rename_col,{'id':'employee_id'})\n",
    "                .pipe(exclude_col,'ingestion_timestamp')\n",
    "                .pipe(add_timestamp,'insertion_timestamp')\n",
    "                )\n",
    "stg_employee"
   ]
  },
  {
   "cell_type": "markdown",
   "metadata": {},
   "source": [
    "--- "
   ]
  },
  {
   "cell_type": "markdown",
   "metadata": {},
   "source": [
    "## production dimension table."
   ]
  },
  {
   "cell_type": "markdown",
   "metadata": {},
   "source": [
    "1. Read product table from `products.csv` file.\n",
    "\n",
    "2. Transform data as follows:\n",
    "    - Filter out records with `supplier_ids` containing ';'.\n",
    "    - Change the column type of `supplier_ids` column to `pl.Int64`.\n",
    "    - Rename `supplier_ids` columns to `supplier_id`.\n",
    "    - Rename `id` columns to `product_id`.\n",
    "    - Create timstamp column with column name `ingestion_timestamp` and name table as `stg_product`, and load data into `stg_northwind` database.  \n",
    "\n",
    "3. Read suppliers table from `suppliers.csv` file. \n",
    "\n",
    "4. Create timstamp column with column name `ingestion_timestamp`, rename `id` to `supplier_id`, and name table as `stg_supplier`, and load data into `stg_northwind` database.\n",
    "\n",
    "5. Transform data as follows:\n",
    "    - Perform left join of `stg_product` table and the temporary table containing ['supplier_id','company'] obtained from `stg_supplier` table.\n",
    "    - Select all columns exclude `supplier_id`.\n",
    "    - get unique `product_id`.\n",
    "    - Delete an `ingestion_timestamp` column and add timstamp column with column name `insertion_timestamp`.\n",
    "    - Name the result table `dim_product`."
   ]
  },
  {
   "cell_type": "code",
   "execution_count": 9,
   "metadata": {},
   "outputs": [],
   "source": [
    "import polars as pl\n",
    "df_product = pl.read_csv('./data/northwind/products.csv')"
   ]
  },
  {
   "cell_type": "code",
   "execution_count": 10,
   "metadata": {},
   "outputs": [
    {
     "data": {
      "text/html": [
       "<div><style>\n",
       ".dataframe > thead > tr,\n",
       ".dataframe > tbody > tr {\n",
       "  text-align: right;\n",
       "  white-space: pre-wrap;\n",
       "}\n",
       "</style>\n",
       "<small>shape: (5, 14)</small><table border=\"1\" class=\"dataframe\"><thead><tr><th>supplier_ids</th><th>id</th><th>product_code</th><th>product_name</th><th>description</th><th>standard_cost</th><th>list_price</th><th>reorder_level</th><th>target_level</th><th>quantity_per_unit</th><th>discontinued</th><th>minimum_reorder_quantity</th><th>category</th><th>attachments</th></tr><tr><td>str</td><td>i64</td><td>str</td><td>str</td><td>str</td><td>f64</td><td>f64</td><td>i64</td><td>i64</td><td>str</td><td>i64</td><td>i64</td><td>str</td><td>str</td></tr></thead><tbody><tr><td>&quot;2;6&quot;</td><td>74</td><td>&quot;NWTDFN-74&quot;</td><td>&quot;Northwind Traders Almonds&quot;</td><td>null</td><td>7.5</td><td>10.0</td><td>5</td><td>20</td><td>&quot;5 kg pkg.&quot;</td><td>0</td><td>5</td><td>&quot;Dried Fruit &amp; Nuts&quot;</td><td>null</td></tr><tr><td>&quot;1&quot;</td><td>19</td><td>&quot;NWTBGM-19&quot;</td><td>&quot;Northwind Traders Chocolate Bi…</td><td>null</td><td>6.9</td><td>9.2</td><td>5</td><td>20</td><td>&quot;10 boxes x 12 pieces&quot;</td><td>0</td><td>5</td><td>&quot;Baked Goods &amp; Mixes&quot;</td><td>null</td></tr><tr><td>&quot;1&quot;</td><td>21</td><td>&quot;NWTBGM-21&quot;</td><td>&quot;Northwind Traders Scones&quot;</td><td>null</td><td>7.5</td><td>10.0</td><td>5</td><td>20</td><td>&quot;24 pkgs. x 4 pieces&quot;</td><td>0</td><td>5</td><td>&quot;Baked Goods &amp; Mixes&quot;</td><td>null</td></tr><tr><td>&quot;6&quot;</td><td>91</td><td>&quot;NWTCFV-91&quot;</td><td>&quot;Northwind Traders Cherry Pie F…</td><td>null</td><td>1.0</td><td>2.0</td><td>10</td><td>40</td><td>&quot;15.25 OZ&quot;</td><td>0</td><td>null</td><td>&quot;Canned Fruit &amp; Vegetables&quot;</td><td>null</td></tr><tr><td>&quot;6&quot;</td><td>90</td><td>&quot;NWTCFV-90&quot;</td><td>&quot;Northwind Traders Pineapple&quot;</td><td>null</td><td>1.0</td><td>1.8</td><td>10</td><td>40</td><td>&quot;15.25 OZ&quot;</td><td>0</td><td>null</td><td>&quot;Canned Fruit &amp; Vegetables&quot;</td><td>null</td></tr></tbody></table></div>"
      ],
      "text/plain": [
       "shape: (5, 14)\n",
       "┌────────────┬─────┬────────────┬────────────┬───┬────────────┬────────────┬───────────┬───────────┐\n",
       "│ supplier_i ┆ id  ┆ product_co ┆ product_na ┆ … ┆ discontinu ┆ minimum_re ┆ category  ┆ attachmen │\n",
       "│ ds         ┆ --- ┆ de         ┆ me         ┆   ┆ ed         ┆ order_quan ┆ ---       ┆ ts        │\n",
       "│ ---        ┆ i64 ┆ ---        ┆ ---        ┆   ┆ ---        ┆ tity       ┆ str       ┆ ---       │\n",
       "│ str        ┆     ┆ str        ┆ str        ┆   ┆ i64        ┆ ---        ┆           ┆ str       │\n",
       "│            ┆     ┆            ┆            ┆   ┆            ┆ i64        ┆           ┆           │\n",
       "╞════════════╪═════╪════════════╪════════════╪═══╪════════════╪════════════╪═══════════╪═══════════╡\n",
       "│ 2;6        ┆ 74  ┆ NWTDFN-74  ┆ Northwind  ┆ … ┆ 0          ┆ 5          ┆ Dried     ┆ null      │\n",
       "│            ┆     ┆            ┆ Traders    ┆   ┆            ┆            ┆ Fruit &   ┆           │\n",
       "│            ┆     ┆            ┆ Almonds    ┆   ┆            ┆            ┆ Nuts      ┆           │\n",
       "│ 1          ┆ 19  ┆ NWTBGM-19  ┆ Northwind  ┆ … ┆ 0          ┆ 5          ┆ Baked     ┆ null      │\n",
       "│            ┆     ┆            ┆ Traders    ┆   ┆            ┆            ┆ Goods &   ┆           │\n",
       "│            ┆     ┆            ┆ Chocolate  ┆   ┆            ┆            ┆ Mixes     ┆           │\n",
       "│            ┆     ┆            ┆ Bi…        ┆   ┆            ┆            ┆           ┆           │\n",
       "│ 1          ┆ 21  ┆ NWTBGM-21  ┆ Northwind  ┆ … ┆ 0          ┆ 5          ┆ Baked     ┆ null      │\n",
       "│            ┆     ┆            ┆ Traders    ┆   ┆            ┆            ┆ Goods &   ┆           │\n",
       "│            ┆     ┆            ┆ Scones     ┆   ┆            ┆            ┆ Mixes     ┆           │\n",
       "│ 6          ┆ 91  ┆ NWTCFV-91  ┆ Northwind  ┆ … ┆ 0          ┆ null       ┆ Canned    ┆ null      │\n",
       "│            ┆     ┆            ┆ Traders    ┆   ┆            ┆            ┆ Fruit &   ┆           │\n",
       "│            ┆     ┆            ┆ Cherry Pie ┆   ┆            ┆            ┆ Vegetable ┆           │\n",
       "│            ┆     ┆            ┆ F…         ┆   ┆            ┆            ┆ s         ┆           │\n",
       "│ 6          ┆ 90  ┆ NWTCFV-90  ┆ Northwind  ┆ … ┆ 0          ┆ null       ┆ Canned    ┆ null      │\n",
       "│            ┆     ┆            ┆ Traders    ┆   ┆            ┆            ┆ Fruit &   ┆           │\n",
       "│            ┆     ┆            ┆ Pineapple  ┆   ┆            ┆            ┆ Vegetable ┆           │\n",
       "│            ┆     ┆            ┆            ┆   ┆            ┆            ┆ s         ┆           │\n",
       "└────────────┴─────┴────────────┴────────────┴───┴────────────┴────────────┴───────────┴───────────┘"
      ]
     },
     "execution_count": 10,
     "metadata": {},
     "output_type": "execute_result"
    }
   ],
   "source": [
    "df_product.head(5)"
   ]
  },
  {
   "cell_type": "code",
   "execution_count": 11,
   "metadata": {},
   "outputs": [],
   "source": [
    "def filter_out(df,colname,patturn):\n",
    "    return df.filter(~pl.col(colname).str.contains(patturn))\n",
    "\n",
    "def change_dttype(df,colname,datatype):\n",
    "    df = df.with_columns([\n",
    "    pl.col(colname).cast(datatype)\n",
    "])\n",
    "    return df"
   ]
  },
  {
   "cell_type": "code",
   "execution_count": 12,
   "metadata": {},
   "outputs": [
    {
     "data": {
      "text/html": [
       "<div><style>\n",
       ".dataframe > thead > tr,\n",
       ".dataframe > tbody > tr {\n",
       "  text-align: right;\n",
       "  white-space: pre-wrap;\n",
       "}\n",
       "</style>\n",
       "<small>shape: (40, 15)</small><table border=\"1\" class=\"dataframe\"><thead><tr><th>supplier_id</th><th>product_id</th><th>product_code</th><th>product_name</th><th>description</th><th>standard_cost</th><th>list_price</th><th>reorder_level</th><th>target_level</th><th>quantity_per_unit</th><th>discontinued</th><th>minimum_reorder_quantity</th><th>category</th><th>attachments</th><th>ingestion_timestamp</th></tr><tr><td>i64</td><td>i64</td><td>str</td><td>str</td><td>str</td><td>f64</td><td>f64</td><td>i64</td><td>i64</td><td>str</td><td>i64</td><td>i64</td><td>str</td><td>str</td><td>datetime[μs]</td></tr></thead><tbody><tr><td>1</td><td>19</td><td>&quot;NWTBGM-19&quot;</td><td>&quot;Northwind Traders Chocolate Bi…</td><td>null</td><td>6.9</td><td>9.2</td><td>5</td><td>20</td><td>&quot;10 boxes x 12 pieces&quot;</td><td>0</td><td>5</td><td>&quot;Baked Goods &amp; Mixes&quot;</td><td>null</td><td>2024-07-05 23:58:06.677949</td></tr><tr><td>1</td><td>21</td><td>&quot;NWTBGM-21&quot;</td><td>&quot;Northwind Traders Scones&quot;</td><td>null</td><td>7.5</td><td>10.0</td><td>5</td><td>20</td><td>&quot;24 pkgs. x 4 pieces&quot;</td><td>0</td><td>5</td><td>&quot;Baked Goods &amp; Mixes&quot;</td><td>null</td><td>2024-07-05 23:58:06.677949</td></tr><tr><td>6</td><td>91</td><td>&quot;NWTCFV-91&quot;</td><td>&quot;Northwind Traders Cherry Pie F…</td><td>null</td><td>1.0</td><td>2.0</td><td>10</td><td>40</td><td>&quot;15.25 OZ&quot;</td><td>0</td><td>null</td><td>&quot;Canned Fruit &amp; Vegetables&quot;</td><td>null</td><td>2024-07-05 23:58:06.677949</td></tr><tr><td>6</td><td>90</td><td>&quot;NWTCFV-90&quot;</td><td>&quot;Northwind Traders Pineapple&quot;</td><td>null</td><td>1.0</td><td>1.8</td><td>10</td><td>40</td><td>&quot;15.25 OZ&quot;</td><td>0</td><td>null</td><td>&quot;Canned Fruit &amp; Vegetables&quot;</td><td>null</td><td>2024-07-05 23:58:06.677949</td></tr><tr><td>6</td><td>88</td><td>&quot;NWTCFV-88&quot;</td><td>&quot;Northwind Traders Pears&quot;</td><td>null</td><td>1.0</td><td>1.3</td><td>10</td><td>40</td><td>&quot;15.25 OZ&quot;</td><td>0</td><td>null</td><td>&quot;Canned Fruit &amp; Vegetables&quot;</td><td>null</td><td>2024-07-05 23:58:06.677949</td></tr><tr><td>&hellip;</td><td>&hellip;</td><td>&hellip;</td><td>&hellip;</td><td>&hellip;</td><td>&hellip;</td><td>&hellip;</td><td>&hellip;</td><td>&hellip;</td><td>&hellip;</td><td>&hellip;</td><td>&hellip;</td><td>&hellip;</td><td>&hellip;</td><td>&hellip;</td></tr><tr><td>1</td><td>97</td><td>&quot;NWTC-82&quot;</td><td>&quot;Northwind Traders Hot Cereal&quot;</td><td>null</td><td>3.0</td><td>5.0</td><td>50</td><td>200</td><td>null</td><td>0</td><td>null</td><td>&quot;Cereal&quot;</td><td>null</td><td>2024-07-05 23:58:06.677949</td></tr><tr><td>2</td><td>80</td><td>&quot;NWTDFN-80&quot;</td><td>&quot;Northwind Traders Dried Plums&quot;</td><td>null</td><td>3.0</td><td>3.5</td><td>50</td><td>75</td><td>&quot;1 lb bag&quot;</td><td>0</td><td>25</td><td>&quot;Dried Fruit &amp; Nuts&quot;</td><td>null</td><td>2024-07-05 23:58:06.677949</td></tr><tr><td>6</td><td>99</td><td>&quot;NWTSO-99&quot;</td><td>&quot;Northwind Traders Chicken Soup&quot;</td><td>null</td><td>1.0</td><td>1.95</td><td>100</td><td>200</td><td>null</td><td>0</td><td>null</td><td>&quot;Soups&quot;</td><td>null</td><td>2024-07-05 23:58:06.677949</td></tr><tr><td>6</td><td>98</td><td>&quot;NWTSO-98&quot;</td><td>&quot;Northwind Traders Vegetable So…</td><td>null</td><td>1.0</td><td>1.89</td><td>100</td><td>200</td><td>null</td><td>0</td><td>null</td><td>&quot;Soups&quot;</td><td>null</td><td>2024-07-05 23:58:06.677949</td></tr><tr><td>3</td><td>81</td><td>&quot;NWTB-81&quot;</td><td>&quot;Northwind Traders Green Tea&quot;</td><td>null</td><td>2.0</td><td>2.99</td><td>100</td><td>125</td><td>&quot;20 bags per box&quot;</td><td>0</td><td>25</td><td>&quot;Beverages&quot;</td><td>null</td><td>2024-07-05 23:58:06.677949</td></tr></tbody></table></div>"
      ],
      "text/plain": [
       "shape: (40, 15)\n",
       "┌───────────┬───────────┬───────────┬───────────┬───┬───────────┬───────────┬───────────┬──────────┐\n",
       "│ supplier_ ┆ product_i ┆ product_c ┆ product_n ┆ … ┆ minimum_r ┆ category  ┆ attachmen ┆ ingestio │\n",
       "│ id        ┆ d         ┆ ode       ┆ ame       ┆   ┆ eorder_qu ┆ ---       ┆ ts        ┆ n_timest │\n",
       "│ ---       ┆ ---       ┆ ---       ┆ ---       ┆   ┆ antity    ┆ str       ┆ ---       ┆ amp      │\n",
       "│ i64       ┆ i64       ┆ str       ┆ str       ┆   ┆ ---       ┆           ┆ str       ┆ ---      │\n",
       "│           ┆           ┆           ┆           ┆   ┆ i64       ┆           ┆           ┆ datetime │\n",
       "│           ┆           ┆           ┆           ┆   ┆           ┆           ┆           ┆ [μs]     │\n",
       "╞═══════════╪═══════════╪═══════════╪═══════════╪═══╪═══════════╪═══════════╪═══════════╪══════════╡\n",
       "│ 1         ┆ 19        ┆ NWTBGM-19 ┆ Northwind ┆ … ┆ 5         ┆ Baked     ┆ null      ┆ 2024-07- │\n",
       "│           ┆           ┆           ┆ Traders   ┆   ┆           ┆ Goods &   ┆           ┆ 05 23:58 │\n",
       "│           ┆           ┆           ┆ Chocolate ┆   ┆           ┆ Mixes     ┆           ┆ :06.6779 │\n",
       "│           ┆           ┆           ┆ Bi…       ┆   ┆           ┆           ┆           ┆ 49       │\n",
       "│ 1         ┆ 21        ┆ NWTBGM-21 ┆ Northwind ┆ … ┆ 5         ┆ Baked     ┆ null      ┆ 2024-07- │\n",
       "│           ┆           ┆           ┆ Traders   ┆   ┆           ┆ Goods &   ┆           ┆ 05 23:58 │\n",
       "│           ┆           ┆           ┆ Scones    ┆   ┆           ┆ Mixes     ┆           ┆ :06.6779 │\n",
       "│           ┆           ┆           ┆           ┆   ┆           ┆           ┆           ┆ 49       │\n",
       "│ 6         ┆ 91        ┆ NWTCFV-91 ┆ Northwind ┆ … ┆ null      ┆ Canned    ┆ null      ┆ 2024-07- │\n",
       "│           ┆           ┆           ┆ Traders   ┆   ┆           ┆ Fruit &   ┆           ┆ 05 23:58 │\n",
       "│           ┆           ┆           ┆ Cherry    ┆   ┆           ┆ Vegetable ┆           ┆ :06.6779 │\n",
       "│           ┆           ┆           ┆ Pie F…    ┆   ┆           ┆ s         ┆           ┆ 49       │\n",
       "│ 6         ┆ 90        ┆ NWTCFV-90 ┆ Northwind ┆ … ┆ null      ┆ Canned    ┆ null      ┆ 2024-07- │\n",
       "│           ┆           ┆           ┆ Traders   ┆   ┆           ┆ Fruit &   ┆           ┆ 05 23:58 │\n",
       "│           ┆           ┆           ┆ Pineapple ┆   ┆           ┆ Vegetable ┆           ┆ :06.6779 │\n",
       "│           ┆           ┆           ┆           ┆   ┆           ┆ s         ┆           ┆ 49       │\n",
       "│ 6         ┆ 88        ┆ NWTCFV-88 ┆ Northwind ┆ … ┆ null      ┆ Canned    ┆ null      ┆ 2024-07- │\n",
       "│           ┆           ┆           ┆ Traders   ┆   ┆           ┆ Fruit &   ┆           ┆ 05 23:58 │\n",
       "│           ┆           ┆           ┆ Pears     ┆   ┆           ┆ Vegetable ┆           ┆ :06.6779 │\n",
       "│           ┆           ┆           ┆           ┆   ┆           ┆ s         ┆           ┆ 49       │\n",
       "│ …         ┆ …         ┆ …         ┆ …         ┆ … ┆ …         ┆ …         ┆ …         ┆ …        │\n",
       "│ 1         ┆ 97        ┆ NWTC-82   ┆ Northwind ┆ … ┆ null      ┆ Cereal    ┆ null      ┆ 2024-07- │\n",
       "│           ┆           ┆           ┆ Traders   ┆   ┆           ┆           ┆           ┆ 05 23:58 │\n",
       "│           ┆           ┆           ┆ Hot       ┆   ┆           ┆           ┆           ┆ :06.6779 │\n",
       "│           ┆           ┆           ┆ Cereal    ┆   ┆           ┆           ┆           ┆ 49       │\n",
       "│ 2         ┆ 80        ┆ NWTDFN-80 ┆ Northwind ┆ … ┆ 25        ┆ Dried     ┆ null      ┆ 2024-07- │\n",
       "│           ┆           ┆           ┆ Traders   ┆   ┆           ┆ Fruit &   ┆           ┆ 05 23:58 │\n",
       "│           ┆           ┆           ┆ Dried     ┆   ┆           ┆ Nuts      ┆           ┆ :06.6779 │\n",
       "│           ┆           ┆           ┆ Plums     ┆   ┆           ┆           ┆           ┆ 49       │\n",
       "│ 6         ┆ 99        ┆ NWTSO-99  ┆ Northwind ┆ … ┆ null      ┆ Soups     ┆ null      ┆ 2024-07- │\n",
       "│           ┆           ┆           ┆ Traders   ┆   ┆           ┆           ┆           ┆ 05 23:58 │\n",
       "│           ┆           ┆           ┆ Chicken   ┆   ┆           ┆           ┆           ┆ :06.6779 │\n",
       "│           ┆           ┆           ┆ Soup      ┆   ┆           ┆           ┆           ┆ 49       │\n",
       "│ 6         ┆ 98        ┆ NWTSO-98  ┆ Northwind ┆ … ┆ null      ┆ Soups     ┆ null      ┆ 2024-07- │\n",
       "│           ┆           ┆           ┆ Traders   ┆   ┆           ┆           ┆           ┆ 05 23:58 │\n",
       "│           ┆           ┆           ┆ Vegetable ┆   ┆           ┆           ┆           ┆ :06.6779 │\n",
       "│           ┆           ┆           ┆ So…       ┆   ┆           ┆           ┆           ┆ 49       │\n",
       "│ 3         ┆ 81        ┆ NWTB-81   ┆ Northwind ┆ … ┆ 25        ┆ Beverages ┆ null      ┆ 2024-07- │\n",
       "│           ┆           ┆           ┆ Traders   ┆   ┆           ┆           ┆           ┆ 05 23:58 │\n",
       "│           ┆           ┆           ┆ Green Tea ┆   ┆           ┆           ┆           ┆ :06.6779 │\n",
       "│           ┆           ┆           ┆           ┆   ┆           ┆           ┆           ┆ 49       │\n",
       "└───────────┴───────────┴───────────┴───────────┴───┴───────────┴───────────┴───────────┴──────────┘"
      ]
     },
     "execution_count": 12,
     "metadata": {},
     "output_type": "execute_result"
    }
   ],
   "source": [
    "stg_product = (df_product\n",
    "    .pipe(filter_out,'supplier_ids',';')\n",
    "    .pipe(change_dttype,'supplier_ids',pl.Int64)\n",
    "    .pipe(Rename_col,{'supplier_ids':'supplier_id'})\n",
    "    .pipe(Rename_col,{'id':'product_id'})\n",
    "    .pipe(add_timestamp,'ingestion_timestamp')\n",
    ")\n",
    "stg_product"
   ]
  },
  {
   "cell_type": "code",
   "execution_count": 13,
   "metadata": {},
   "outputs": [],
   "source": [
    "import polars as pl\n",
    "df_supplier = pl.read_csv('./data/northwind/suppliers.csv')"
   ]
  },
  {
   "cell_type": "code",
   "execution_count": 14,
   "metadata": {},
   "outputs": [
    {
     "data": {
      "text/html": [
       "<div><style>\n",
       ".dataframe > thead > tr,\n",
       ".dataframe > tbody > tr {\n",
       "  text-align: right;\n",
       "  white-space: pre-wrap;\n",
       "}\n",
       "</style>\n",
       "<small>shape: (10, 19)</small><table border=\"1\" class=\"dataframe\"><thead><tr><th>supplier_id</th><th>company</th><th>last_name</th><th>first_name</th><th>email_address</th><th>job_title</th><th>business_phone</th><th>home_phone</th><th>mobile_phone</th><th>fax_number</th><th>address</th><th>city</th><th>state_province</th><th>zip_postal_code</th><th>country_region</th><th>web_page</th><th>notes</th><th>attachments</th><th>ingestion_timestamp</th></tr><tr><td>i64</td><td>str</td><td>str</td><td>str</td><td>str</td><td>str</td><td>str</td><td>str</td><td>str</td><td>str</td><td>str</td><td>str</td><td>str</td><td>str</td><td>str</td><td>str</td><td>str</td><td>str</td><td>datetime[μs]</td></tr></thead><tbody><tr><td>1</td><td>&quot;Supplier A&quot;</td><td>&quot;Andersen&quot;</td><td>&quot;Elizabeth A.&quot;</td><td>null</td><td>&quot;Sales Manager&quot;</td><td>null</td><td>null</td><td>null</td><td>null</td><td>null</td><td>null</td><td>null</td><td>null</td><td>null</td><td>null</td><td>null</td><td>null</td><td>2024-07-05 23:58:06.727268</td></tr><tr><td>2</td><td>&quot;Supplier B&quot;</td><td>&quot;Weiler&quot;</td><td>&quot;Cornelia&quot;</td><td>null</td><td>&quot;Sales Manager&quot;</td><td>null</td><td>null</td><td>null</td><td>null</td><td>null</td><td>null</td><td>null</td><td>null</td><td>null</td><td>null</td><td>null</td><td>null</td><td>2024-07-05 23:58:06.727268</td></tr><tr><td>5</td><td>&quot;Supplier E&quot;</td><td>&quot;Hernandez-Echevarria&quot;</td><td>&quot;Amaya&quot;</td><td>null</td><td>&quot;Sales Manager&quot;</td><td>null</td><td>null</td><td>null</td><td>null</td><td>null</td><td>null</td><td>null</td><td>null</td><td>null</td><td>null</td><td>null</td><td>null</td><td>2024-07-05 23:58:06.727268</td></tr><tr><td>9</td><td>&quot;Supplier I&quot;</td><td>&quot;Sandberg&quot;</td><td>&quot;Mikael&quot;</td><td>null</td><td>&quot;Sales Manager&quot;</td><td>null</td><td>null</td><td>null</td><td>null</td><td>null</td><td>null</td><td>null</td><td>null</td><td>null</td><td>null</td><td>null</td><td>null</td><td>2024-07-05 23:58:06.727268</td></tr><tr><td>10</td><td>&quot;Supplier J&quot;</td><td>&quot;Sousa&quot;</td><td>&quot;Luis&quot;</td><td>null</td><td>&quot;Sales Manager&quot;</td><td>null</td><td>null</td><td>null</td><td>null</td><td>null</td><td>null</td><td>null</td><td>null</td><td>null</td><td>null</td><td>null</td><td>null</td><td>2024-07-05 23:58:06.727268</td></tr><tr><td>4</td><td>&quot;Supplier D&quot;</td><td>&quot;Sato&quot;</td><td>&quot;Naoki&quot;</td><td>null</td><td>&quot;Marketing Manager&quot;</td><td>null</td><td>null</td><td>null</td><td>null</td><td>null</td><td>null</td><td>null</td><td>null</td><td>null</td><td>null</td><td>null</td><td>null</td><td>2024-07-05 23:58:06.727268</td></tr><tr><td>7</td><td>&quot;Supplier G&quot;</td><td>&quot;Glasson&quot;</td><td>&quot;Stuart&quot;</td><td>null</td><td>&quot;Marketing Manager&quot;</td><td>null</td><td>null</td><td>null</td><td>null</td><td>null</td><td>null</td><td>null</td><td>null</td><td>null</td><td>null</td><td>null</td><td>null</td><td>2024-07-05 23:58:06.727268</td></tr><tr><td>6</td><td>&quot;Supplier F&quot;</td><td>&quot;Hayakawa&quot;</td><td>&quot;Satomi&quot;</td><td>null</td><td>&quot;Marketing Assistant&quot;</td><td>null</td><td>null</td><td>null</td><td>null</td><td>null</td><td>null</td><td>null</td><td>null</td><td>null</td><td>null</td><td>null</td><td>null</td><td>2024-07-05 23:58:06.727268</td></tr><tr><td>3</td><td>&quot;Supplier C&quot;</td><td>&quot;Kelley&quot;</td><td>&quot;Madeleine&quot;</td><td>null</td><td>&quot;Sales Representative&quot;</td><td>null</td><td>null</td><td>null</td><td>null</td><td>null</td><td>null</td><td>null</td><td>null</td><td>null</td><td>null</td><td>null</td><td>null</td><td>2024-07-05 23:58:06.727268</td></tr><tr><td>8</td><td>&quot;Supplier H&quot;</td><td>&quot;Dunton&quot;</td><td>&quot;Bryn Paul&quot;</td><td>null</td><td>&quot;Sales Representative&quot;</td><td>null</td><td>null</td><td>null</td><td>null</td><td>null</td><td>null</td><td>null</td><td>null</td><td>null</td><td>null</td><td>null</td><td>null</td><td>2024-07-05 23:58:06.727268</td></tr></tbody></table></div>"
      ],
      "text/plain": [
       "shape: (10, 19)\n",
       "┌────────────┬────────────┬────────────┬────────────┬───┬──────────┬───────┬───────────┬───────────┐\n",
       "│ supplier_i ┆ company    ┆ last_name  ┆ first_name ┆ … ┆ web_page ┆ notes ┆ attachmen ┆ ingestion │\n",
       "│ d          ┆ ---        ┆ ---        ┆ ---        ┆   ┆ ---      ┆ ---   ┆ ts        ┆ _timestam │\n",
       "│ ---        ┆ str        ┆ str        ┆ str        ┆   ┆ str      ┆ str   ┆ ---       ┆ p         │\n",
       "│ i64        ┆            ┆            ┆            ┆   ┆          ┆       ┆ str       ┆ ---       │\n",
       "│            ┆            ┆            ┆            ┆   ┆          ┆       ┆           ┆ datetime[ │\n",
       "│            ┆            ┆            ┆            ┆   ┆          ┆       ┆           ┆ μs]       │\n",
       "╞════════════╪════════════╪════════════╪════════════╪═══╪══════════╪═══════╪═══════════╪═══════════╡\n",
       "│ 1          ┆ Supplier A ┆ Andersen   ┆ Elizabeth  ┆ … ┆ null     ┆ null  ┆ null      ┆ 2024-07-0 │\n",
       "│            ┆            ┆            ┆ A.         ┆   ┆          ┆       ┆           ┆ 5 23:58:0 │\n",
       "│            ┆            ┆            ┆            ┆   ┆          ┆       ┆           ┆ 6.727268  │\n",
       "│ 2          ┆ Supplier B ┆ Weiler     ┆ Cornelia   ┆ … ┆ null     ┆ null  ┆ null      ┆ 2024-07-0 │\n",
       "│            ┆            ┆            ┆            ┆   ┆          ┆       ┆           ┆ 5 23:58:0 │\n",
       "│            ┆            ┆            ┆            ┆   ┆          ┆       ┆           ┆ 6.727268  │\n",
       "│ 5          ┆ Supplier E ┆ Hernandez- ┆ Amaya      ┆ … ┆ null     ┆ null  ┆ null      ┆ 2024-07-0 │\n",
       "│            ┆            ┆ Echevarria ┆            ┆   ┆          ┆       ┆           ┆ 5 23:58:0 │\n",
       "│            ┆            ┆            ┆            ┆   ┆          ┆       ┆           ┆ 6.727268  │\n",
       "│ 9          ┆ Supplier I ┆ Sandberg   ┆ Mikael     ┆ … ┆ null     ┆ null  ┆ null      ┆ 2024-07-0 │\n",
       "│            ┆            ┆            ┆            ┆   ┆          ┆       ┆           ┆ 5 23:58:0 │\n",
       "│            ┆            ┆            ┆            ┆   ┆          ┆       ┆           ┆ 6.727268  │\n",
       "│ 10         ┆ Supplier J ┆ Sousa      ┆ Luis       ┆ … ┆ null     ┆ null  ┆ null      ┆ 2024-07-0 │\n",
       "│            ┆            ┆            ┆            ┆   ┆          ┆       ┆           ┆ 5 23:58:0 │\n",
       "│            ┆            ┆            ┆            ┆   ┆          ┆       ┆           ┆ 6.727268  │\n",
       "│ 4          ┆ Supplier D ┆ Sato       ┆ Naoki      ┆ … ┆ null     ┆ null  ┆ null      ┆ 2024-07-0 │\n",
       "│            ┆            ┆            ┆            ┆   ┆          ┆       ┆           ┆ 5 23:58:0 │\n",
       "│            ┆            ┆            ┆            ┆   ┆          ┆       ┆           ┆ 6.727268  │\n",
       "│ 7          ┆ Supplier G ┆ Glasson    ┆ Stuart     ┆ … ┆ null     ┆ null  ┆ null      ┆ 2024-07-0 │\n",
       "│            ┆            ┆            ┆            ┆   ┆          ┆       ┆           ┆ 5 23:58:0 │\n",
       "│            ┆            ┆            ┆            ┆   ┆          ┆       ┆           ┆ 6.727268  │\n",
       "│ 6          ┆ Supplier F ┆ Hayakawa   ┆ Satomi     ┆ … ┆ null     ┆ null  ┆ null      ┆ 2024-07-0 │\n",
       "│            ┆            ┆            ┆            ┆   ┆          ┆       ┆           ┆ 5 23:58:0 │\n",
       "│            ┆            ┆            ┆            ┆   ┆          ┆       ┆           ┆ 6.727268  │\n",
       "│ 3          ┆ Supplier C ┆ Kelley     ┆ Madeleine  ┆ … ┆ null     ┆ null  ┆ null      ┆ 2024-07-0 │\n",
       "│            ┆            ┆            ┆            ┆   ┆          ┆       ┆           ┆ 5 23:58:0 │\n",
       "│            ┆            ┆            ┆            ┆   ┆          ┆       ┆           ┆ 6.727268  │\n",
       "│ 8          ┆ Supplier H ┆ Dunton     ┆ Bryn Paul  ┆ … ┆ null     ┆ null  ┆ null      ┆ 2024-07-0 │\n",
       "│            ┆            ┆            ┆            ┆   ┆          ┆       ┆           ┆ 5 23:58:0 │\n",
       "│            ┆            ┆            ┆            ┆   ┆          ┆       ┆           ┆ 6.727268  │\n",
       "└────────────┴────────────┴────────────┴────────────┴───┴──────────┴───────┴───────────┴───────────┘"
      ]
     },
     "execution_count": 14,
     "metadata": {},
     "output_type": "execute_result"
    }
   ],
   "source": [
    "stg_supplier = (df_supplier\n",
    "                .pipe(Rename_col,{'id':'supplier_id'})\n",
    "                .pipe(add_timestamp,'ingestion_timestamp')\n",
    "                )\n",
    "stg_supplier"
   ]
  },
  {
   "cell_type": "code",
   "execution_count": 15,
   "metadata": {},
   "outputs": [
    {
     "data": {
      "text/html": [
       "<div><style>\n",
       ".dataframe > thead > tr,\n",
       ".dataframe > tbody > tr {\n",
       "  text-align: right;\n",
       "  white-space: pre-wrap;\n",
       "}\n",
       "</style>\n",
       "<small>shape: (40, 16)</small><table border=\"1\" class=\"dataframe\"><thead><tr><th>supplier_id</th><th>product_id</th><th>product_code</th><th>product_name</th><th>description</th><th>standard_cost</th><th>list_price</th><th>reorder_level</th><th>target_level</th><th>quantity_per_unit</th><th>discontinued</th><th>minimum_reorder_quantity</th><th>category</th><th>attachments</th><th>ingestion_timestamp</th><th>company</th></tr><tr><td>i64</td><td>i64</td><td>str</td><td>str</td><td>str</td><td>f64</td><td>f64</td><td>i64</td><td>i64</td><td>str</td><td>i64</td><td>i64</td><td>str</td><td>str</td><td>datetime[μs]</td><td>str</td></tr></thead><tbody><tr><td>1</td><td>19</td><td>&quot;NWTBGM-19&quot;</td><td>&quot;Northwind Traders Chocolate Bi…</td><td>null</td><td>6.9</td><td>9.2</td><td>5</td><td>20</td><td>&quot;10 boxes x 12 pieces&quot;</td><td>0</td><td>5</td><td>&quot;Baked Goods &amp; Mixes&quot;</td><td>null</td><td>2024-07-05 23:58:06.677949</td><td>&quot;Supplier A&quot;</td></tr><tr><td>1</td><td>21</td><td>&quot;NWTBGM-21&quot;</td><td>&quot;Northwind Traders Scones&quot;</td><td>null</td><td>7.5</td><td>10.0</td><td>5</td><td>20</td><td>&quot;24 pkgs. x 4 pieces&quot;</td><td>0</td><td>5</td><td>&quot;Baked Goods &amp; Mixes&quot;</td><td>null</td><td>2024-07-05 23:58:06.677949</td><td>&quot;Supplier A&quot;</td></tr><tr><td>6</td><td>91</td><td>&quot;NWTCFV-91&quot;</td><td>&quot;Northwind Traders Cherry Pie F…</td><td>null</td><td>1.0</td><td>2.0</td><td>10</td><td>40</td><td>&quot;15.25 OZ&quot;</td><td>0</td><td>null</td><td>&quot;Canned Fruit &amp; Vegetables&quot;</td><td>null</td><td>2024-07-05 23:58:06.677949</td><td>&quot;Supplier F&quot;</td></tr><tr><td>6</td><td>90</td><td>&quot;NWTCFV-90&quot;</td><td>&quot;Northwind Traders Pineapple&quot;</td><td>null</td><td>1.0</td><td>1.8</td><td>10</td><td>40</td><td>&quot;15.25 OZ&quot;</td><td>0</td><td>null</td><td>&quot;Canned Fruit &amp; Vegetables&quot;</td><td>null</td><td>2024-07-05 23:58:06.677949</td><td>&quot;Supplier F&quot;</td></tr><tr><td>6</td><td>88</td><td>&quot;NWTCFV-88&quot;</td><td>&quot;Northwind Traders Pears&quot;</td><td>null</td><td>1.0</td><td>1.3</td><td>10</td><td>40</td><td>&quot;15.25 OZ&quot;</td><td>0</td><td>null</td><td>&quot;Canned Fruit &amp; Vegetables&quot;</td><td>null</td><td>2024-07-05 23:58:06.677949</td><td>&quot;Supplier F&quot;</td></tr><tr><td>&hellip;</td><td>&hellip;</td><td>&hellip;</td><td>&hellip;</td><td>&hellip;</td><td>&hellip;</td><td>&hellip;</td><td>&hellip;</td><td>&hellip;</td><td>&hellip;</td><td>&hellip;</td><td>&hellip;</td><td>&hellip;</td><td>&hellip;</td><td>&hellip;</td><td>&hellip;</td></tr><tr><td>1</td><td>97</td><td>&quot;NWTC-82&quot;</td><td>&quot;Northwind Traders Hot Cereal&quot;</td><td>null</td><td>3.0</td><td>5.0</td><td>50</td><td>200</td><td>null</td><td>0</td><td>null</td><td>&quot;Cereal&quot;</td><td>null</td><td>2024-07-05 23:58:06.677949</td><td>&quot;Supplier A&quot;</td></tr><tr><td>2</td><td>80</td><td>&quot;NWTDFN-80&quot;</td><td>&quot;Northwind Traders Dried Plums&quot;</td><td>null</td><td>3.0</td><td>3.5</td><td>50</td><td>75</td><td>&quot;1 lb bag&quot;</td><td>0</td><td>25</td><td>&quot;Dried Fruit &amp; Nuts&quot;</td><td>null</td><td>2024-07-05 23:58:06.677949</td><td>&quot;Supplier B&quot;</td></tr><tr><td>6</td><td>99</td><td>&quot;NWTSO-99&quot;</td><td>&quot;Northwind Traders Chicken Soup&quot;</td><td>null</td><td>1.0</td><td>1.95</td><td>100</td><td>200</td><td>null</td><td>0</td><td>null</td><td>&quot;Soups&quot;</td><td>null</td><td>2024-07-05 23:58:06.677949</td><td>&quot;Supplier F&quot;</td></tr><tr><td>6</td><td>98</td><td>&quot;NWTSO-98&quot;</td><td>&quot;Northwind Traders Vegetable So…</td><td>null</td><td>1.0</td><td>1.89</td><td>100</td><td>200</td><td>null</td><td>0</td><td>null</td><td>&quot;Soups&quot;</td><td>null</td><td>2024-07-05 23:58:06.677949</td><td>&quot;Supplier F&quot;</td></tr><tr><td>3</td><td>81</td><td>&quot;NWTB-81&quot;</td><td>&quot;Northwind Traders Green Tea&quot;</td><td>null</td><td>2.0</td><td>2.99</td><td>100</td><td>125</td><td>&quot;20 bags per box&quot;</td><td>0</td><td>25</td><td>&quot;Beverages&quot;</td><td>null</td><td>2024-07-05 23:58:06.677949</td><td>&quot;Supplier C&quot;</td></tr></tbody></table></div>"
      ],
      "text/plain": [
       "shape: (40, 16)\n",
       "┌───────────┬───────────┬───────────┬───────────┬───┬───────────┬───────────┬───────────┬──────────┐\n",
       "│ supplier_ ┆ product_i ┆ product_c ┆ product_n ┆ … ┆ category  ┆ attachmen ┆ ingestion ┆ company  │\n",
       "│ id        ┆ d         ┆ ode       ┆ ame       ┆   ┆ ---       ┆ ts        ┆ _timestam ┆ ---      │\n",
       "│ ---       ┆ ---       ┆ ---       ┆ ---       ┆   ┆ str       ┆ ---       ┆ p         ┆ str      │\n",
       "│ i64       ┆ i64       ┆ str       ┆ str       ┆   ┆           ┆ str       ┆ ---       ┆          │\n",
       "│           ┆           ┆           ┆           ┆   ┆           ┆           ┆ datetime[ ┆          │\n",
       "│           ┆           ┆           ┆           ┆   ┆           ┆           ┆ μs]       ┆          │\n",
       "╞═══════════╪═══════════╪═══════════╪═══════════╪═══╪═══════════╪═══════════╪═══════════╪══════════╡\n",
       "│ 1         ┆ 19        ┆ NWTBGM-19 ┆ Northwind ┆ … ┆ Baked     ┆ null      ┆ 2024-07-0 ┆ Supplier │\n",
       "│           ┆           ┆           ┆ Traders   ┆   ┆ Goods &   ┆           ┆ 5 23:58:0 ┆ A        │\n",
       "│           ┆           ┆           ┆ Chocolate ┆   ┆ Mixes     ┆           ┆ 6.677949  ┆          │\n",
       "│           ┆           ┆           ┆ Bi…       ┆   ┆           ┆           ┆           ┆          │\n",
       "│ 1         ┆ 21        ┆ NWTBGM-21 ┆ Northwind ┆ … ┆ Baked     ┆ null      ┆ 2024-07-0 ┆ Supplier │\n",
       "│           ┆           ┆           ┆ Traders   ┆   ┆ Goods &   ┆           ┆ 5 23:58:0 ┆ A        │\n",
       "│           ┆           ┆           ┆ Scones    ┆   ┆ Mixes     ┆           ┆ 6.677949  ┆          │\n",
       "│ 6         ┆ 91        ┆ NWTCFV-91 ┆ Northwind ┆ … ┆ Canned    ┆ null      ┆ 2024-07-0 ┆ Supplier │\n",
       "│           ┆           ┆           ┆ Traders   ┆   ┆ Fruit &   ┆           ┆ 5 23:58:0 ┆ F        │\n",
       "│           ┆           ┆           ┆ Cherry    ┆   ┆ Vegetable ┆           ┆ 6.677949  ┆          │\n",
       "│           ┆           ┆           ┆ Pie F…    ┆   ┆ s         ┆           ┆           ┆          │\n",
       "│ 6         ┆ 90        ┆ NWTCFV-90 ┆ Northwind ┆ … ┆ Canned    ┆ null      ┆ 2024-07-0 ┆ Supplier │\n",
       "│           ┆           ┆           ┆ Traders   ┆   ┆ Fruit &   ┆           ┆ 5 23:58:0 ┆ F        │\n",
       "│           ┆           ┆           ┆ Pineapple ┆   ┆ Vegetable ┆           ┆ 6.677949  ┆          │\n",
       "│           ┆           ┆           ┆           ┆   ┆ s         ┆           ┆           ┆          │\n",
       "│ 6         ┆ 88        ┆ NWTCFV-88 ┆ Northwind ┆ … ┆ Canned    ┆ null      ┆ 2024-07-0 ┆ Supplier │\n",
       "│           ┆           ┆           ┆ Traders   ┆   ┆ Fruit &   ┆           ┆ 5 23:58:0 ┆ F        │\n",
       "│           ┆           ┆           ┆ Pears     ┆   ┆ Vegetable ┆           ┆ 6.677949  ┆          │\n",
       "│           ┆           ┆           ┆           ┆   ┆ s         ┆           ┆           ┆          │\n",
       "│ …         ┆ …         ┆ …         ┆ …         ┆ … ┆ …         ┆ …         ┆ …         ┆ …        │\n",
       "│ 1         ┆ 97        ┆ NWTC-82   ┆ Northwind ┆ … ┆ Cereal    ┆ null      ┆ 2024-07-0 ┆ Supplier │\n",
       "│           ┆           ┆           ┆ Traders   ┆   ┆           ┆           ┆ 5 23:58:0 ┆ A        │\n",
       "│           ┆           ┆           ┆ Hot       ┆   ┆           ┆           ┆ 6.677949  ┆          │\n",
       "│           ┆           ┆           ┆ Cereal    ┆   ┆           ┆           ┆           ┆          │\n",
       "│ 2         ┆ 80        ┆ NWTDFN-80 ┆ Northwind ┆ … ┆ Dried     ┆ null      ┆ 2024-07-0 ┆ Supplier │\n",
       "│           ┆           ┆           ┆ Traders   ┆   ┆ Fruit &   ┆           ┆ 5 23:58:0 ┆ B        │\n",
       "│           ┆           ┆           ┆ Dried     ┆   ┆ Nuts      ┆           ┆ 6.677949  ┆          │\n",
       "│           ┆           ┆           ┆ Plums     ┆   ┆           ┆           ┆           ┆          │\n",
       "│ 6         ┆ 99        ┆ NWTSO-99  ┆ Northwind ┆ … ┆ Soups     ┆ null      ┆ 2024-07-0 ┆ Supplier │\n",
       "│           ┆           ┆           ┆ Traders   ┆   ┆           ┆           ┆ 5 23:58:0 ┆ F        │\n",
       "│           ┆           ┆           ┆ Chicken   ┆   ┆           ┆           ┆ 6.677949  ┆          │\n",
       "│           ┆           ┆           ┆ Soup      ┆   ┆           ┆           ┆           ┆          │\n",
       "│ 6         ┆ 98        ┆ NWTSO-98  ┆ Northwind ┆ … ┆ Soups     ┆ null      ┆ 2024-07-0 ┆ Supplier │\n",
       "│           ┆           ┆           ┆ Traders   ┆   ┆           ┆           ┆ 5 23:58:0 ┆ F        │\n",
       "│           ┆           ┆           ┆ Vegetable ┆   ┆           ┆           ┆ 6.677949  ┆          │\n",
       "│           ┆           ┆           ┆ So…       ┆   ┆           ┆           ┆           ┆          │\n",
       "│ 3         ┆ 81        ┆ NWTB-81   ┆ Northwind ┆ … ┆ Beverages ┆ null      ┆ 2024-07-0 ┆ Supplier │\n",
       "│           ┆           ┆           ┆ Traders   ┆   ┆           ┆           ┆ 5 23:58:0 ┆ C        │\n",
       "│           ┆           ┆           ┆ Green Tea ┆   ┆           ┆           ┆ 6.677949  ┆          │\n",
       "└───────────┴───────────┴───────────┴───────────┴───┴───────────┴───────────┴───────────┴──────────┘"
      ]
     },
     "execution_count": 15,
     "metadata": {},
     "output_type": "execute_result"
    }
   ],
   "source": [
    "product_supplier = stg_product.join(\n",
    "    stg_supplier.select(['supplier_id','company']), on='supplier_id', how='left'\n",
    ")\n",
    "## คล้ายๆ query เลือกคอลัมน์มา แล้วกำหนดคอลัมน์ที่จะใ้ในการ join\n",
    "product_supplier"
   ]
  },
  {
   "cell_type": "code",
   "execution_count": 16,
   "metadata": {},
   "outputs": [
    {
     "data": {
      "text/html": [
       "<div><style>\n",
       ".dataframe > thead > tr,\n",
       ".dataframe > tbody > tr {\n",
       "  text-align: right;\n",
       "  white-space: pre-wrap;\n",
       "}\n",
       "</style>\n",
       "<small>shape: (40, 15)</small><table border=\"1\" class=\"dataframe\"><thead><tr><th>product_id</th><th>product_code</th><th>product_name</th><th>description</th><th>standard_cost</th><th>list_price</th><th>reorder_level</th><th>target_level</th><th>quantity_per_unit</th><th>discontinued</th><th>minimum_reorder_quantity</th><th>category</th><th>attachments</th><th>company</th><th>insertion_timestamp</th></tr><tr><td>i64</td><td>str</td><td>str</td><td>str</td><td>f64</td><td>f64</td><td>i64</td><td>i64</td><td>str</td><td>i64</td><td>i64</td><td>str</td><td>str</td><td>str</td><td>datetime[μs]</td></tr></thead><tbody><tr><td>41</td><td>&quot;NWTSO-41&quot;</td><td>&quot;Northwind Traders Clam Chowder&quot;</td><td>null</td><td>7.2375</td><td>9.65</td><td>10</td><td>40</td><td>&quot;12 - 12 oz cans&quot;</td><td>0</td><td>10</td><td>&quot;Soups&quot;</td><td>null</td><td>&quot;Supplier F&quot;</td><td>2024-07-05 23:58:06.781345</td></tr><tr><td>96</td><td>&quot;NWTCM-96&quot;</td><td>&quot;Northwind Traders Smoked Salmo…</td><td>null</td><td>2.0</td><td>4.0</td><td>30</td><td>50</td><td>&quot;5 oz&quot;</td><td>0</td><td>null</td><td>&quot;Canned Meat&quot;</td><td>null</td><td>&quot;Supplier G&quot;</td><td>2024-07-05 23:58:06.781345</td></tr><tr><td>65</td><td>&quot;NWTS-65&quot;</td><td>&quot;Northwind Traders Hot Pepper S…</td><td>null</td><td>15.7875</td><td>21.05</td><td>10</td><td>40</td><td>&quot;32 - 8 oz bottles&quot;</td><td>0</td><td>10</td><td>&quot;Sauces&quot;</td><td>null</td><td>&quot;Supplier H&quot;</td><td>2024-07-05 23:58:06.781345</td></tr><tr><td>88</td><td>&quot;NWTCFV-88&quot;</td><td>&quot;Northwind Traders Pears&quot;</td><td>null</td><td>1.0</td><td>1.3</td><td>10</td><td>40</td><td>&quot;15.25 OZ&quot;</td><td>0</td><td>null</td><td>&quot;Canned Fruit &amp; Vegetables&quot;</td><td>null</td><td>&quot;Supplier F&quot;</td><td>2024-07-05 23:58:06.781345</td></tr><tr><td>57</td><td>&quot;NWTP-57&quot;</td><td>&quot;Northwind Traders Ravioli&quot;</td><td>null</td><td>14.625</td><td>19.5</td><td>20</td><td>80</td><td>&quot;24 - 250 g pkgs.&quot;</td><td>0</td><td>20</td><td>&quot;Pasta&quot;</td><td>null</td><td>&quot;Supplier A&quot;</td><td>2024-07-05 23:58:06.781345</td></tr><tr><td>&hellip;</td><td>&hellip;</td><td>&hellip;</td><td>&hellip;</td><td>&hellip;</td><td>&hellip;</td><td>&hellip;</td><td>&hellip;</td><td>&hellip;</td><td>&hellip;</td><td>&hellip;</td><td>&hellip;</td><td>&hellip;</td><td>&hellip;</td><td>&hellip;</td></tr><tr><td>87</td><td>&quot;NWTB-87&quot;</td><td>&quot;Northwind Traders Tea&quot;</td><td>null</td><td>2.0</td><td>4.0</td><td>20</td><td>50</td><td>&quot;100 count per box&quot;</td><td>0</td><td>null</td><td>&quot;Beverages&quot;</td><td>null</td><td>&quot;Supplier G&quot;</td><td>2024-07-05 23:58:06.781345</td></tr><tr><td>91</td><td>&quot;NWTCFV-91&quot;</td><td>&quot;Northwind Traders Cherry Pie F…</td><td>null</td><td>1.0</td><td>2.0</td><td>10</td><td>40</td><td>&quot;15.25 OZ&quot;</td><td>0</td><td>null</td><td>&quot;Canned Fruit &amp; Vegetables&quot;</td><td>null</td><td>&quot;Supplier F&quot;</td><td>2024-07-05 23:58:06.781345</td></tr><tr><td>93</td><td>&quot;NWTCFV-93&quot;</td><td>&quot;Northwind Traders Corn&quot;</td><td>null</td><td>1.0</td><td>1.2</td><td>10</td><td>40</td><td>&quot;14.5 OZ&quot;</td><td>0</td><td>null</td><td>&quot;Canned Fruit &amp; Vegetables&quot;</td><td>null</td><td>&quot;Supplier F&quot;</td><td>2024-07-05 23:58:06.781345</td></tr><tr><td>17</td><td>&quot;NWTCFV-17&quot;</td><td>&quot;Northwind Traders Fruit Cockta…</td><td>null</td><td>29.25</td><td>39.0</td><td>10</td><td>40</td><td>&quot;15.25 OZ&quot;</td><td>0</td><td>10</td><td>&quot;Canned Fruit &amp; Vegetables&quot;</td><td>null</td><td>&quot;Supplier F&quot;</td><td>2024-07-05 23:58:06.781345</td></tr><tr><td>40</td><td>&quot;NWTCM-40&quot;</td><td>&quot;Northwind Traders Crab Meat&quot;</td><td>null</td><td>13.8</td><td>18.4</td><td>30</td><td>120</td><td>&quot;24 - 4 oz tins&quot;</td><td>0</td><td>30</td><td>&quot;Canned Meat&quot;</td><td>null</td><td>&quot;Supplier G&quot;</td><td>2024-07-05 23:58:06.781345</td></tr></tbody></table></div>"
      ],
      "text/plain": [
       "shape: (40, 15)\n",
       "┌───────────┬───────────┬───────────┬───────────┬───┬───────────┬───────────┬───────────┬──────────┐\n",
       "│ product_i ┆ product_c ┆ product_n ┆ descripti ┆ … ┆ category  ┆ attachmen ┆ company   ┆ insertio │\n",
       "│ d         ┆ ode       ┆ ame       ┆ on        ┆   ┆ ---       ┆ ts        ┆ ---       ┆ n_timest │\n",
       "│ ---       ┆ ---       ┆ ---       ┆ ---       ┆   ┆ str       ┆ ---       ┆ str       ┆ amp      │\n",
       "│ i64       ┆ str       ┆ str       ┆ str       ┆   ┆           ┆ str       ┆           ┆ ---      │\n",
       "│           ┆           ┆           ┆           ┆   ┆           ┆           ┆           ┆ datetime │\n",
       "│           ┆           ┆           ┆           ┆   ┆           ┆           ┆           ┆ [μs]     │\n",
       "╞═══════════╪═══════════╪═══════════╪═══════════╪═══╪═══════════╪═══════════╪═══════════╪══════════╡\n",
       "│ 41        ┆ NWTSO-41  ┆ Northwind ┆ null      ┆ … ┆ Soups     ┆ null      ┆ Supplier  ┆ 2024-07- │\n",
       "│           ┆           ┆ Traders   ┆           ┆   ┆           ┆           ┆ F         ┆ 05 23:58 │\n",
       "│           ┆           ┆ Clam      ┆           ┆   ┆           ┆           ┆           ┆ :06.7813 │\n",
       "│           ┆           ┆ Chowder   ┆           ┆   ┆           ┆           ┆           ┆ 45       │\n",
       "│ 96        ┆ NWTCM-96  ┆ Northwind ┆ null      ┆ … ┆ Canned    ┆ null      ┆ Supplier  ┆ 2024-07- │\n",
       "│           ┆           ┆ Traders   ┆           ┆   ┆ Meat      ┆           ┆ G         ┆ 05 23:58 │\n",
       "│           ┆           ┆ Smoked    ┆           ┆   ┆           ┆           ┆           ┆ :06.7813 │\n",
       "│           ┆           ┆ Salmo…    ┆           ┆   ┆           ┆           ┆           ┆ 45       │\n",
       "│ 65        ┆ NWTS-65   ┆ Northwind ┆ null      ┆ … ┆ Sauces    ┆ null      ┆ Supplier  ┆ 2024-07- │\n",
       "│           ┆           ┆ Traders   ┆           ┆   ┆           ┆           ┆ H         ┆ 05 23:58 │\n",
       "│           ┆           ┆ Hot       ┆           ┆   ┆           ┆           ┆           ┆ :06.7813 │\n",
       "│           ┆           ┆ Pepper S… ┆           ┆   ┆           ┆           ┆           ┆ 45       │\n",
       "│ 88        ┆ NWTCFV-88 ┆ Northwind ┆ null      ┆ … ┆ Canned    ┆ null      ┆ Supplier  ┆ 2024-07- │\n",
       "│           ┆           ┆ Traders   ┆           ┆   ┆ Fruit &   ┆           ┆ F         ┆ 05 23:58 │\n",
       "│           ┆           ┆ Pears     ┆           ┆   ┆ Vegetable ┆           ┆           ┆ :06.7813 │\n",
       "│           ┆           ┆           ┆           ┆   ┆ s         ┆           ┆           ┆ 45       │\n",
       "│ 57        ┆ NWTP-57   ┆ Northwind ┆ null      ┆ … ┆ Pasta     ┆ null      ┆ Supplier  ┆ 2024-07- │\n",
       "│           ┆           ┆ Traders   ┆           ┆   ┆           ┆           ┆ A         ┆ 05 23:58 │\n",
       "│           ┆           ┆ Ravioli   ┆           ┆   ┆           ┆           ┆           ┆ :06.7813 │\n",
       "│           ┆           ┆           ┆           ┆   ┆           ┆           ┆           ┆ 45       │\n",
       "│ …         ┆ …         ┆ …         ┆ …         ┆ … ┆ …         ┆ …         ┆ …         ┆ …        │\n",
       "│ 87        ┆ NWTB-87   ┆ Northwind ┆ null      ┆ … ┆ Beverages ┆ null      ┆ Supplier  ┆ 2024-07- │\n",
       "│           ┆           ┆ Traders   ┆           ┆   ┆           ┆           ┆ G         ┆ 05 23:58 │\n",
       "│           ┆           ┆ Tea       ┆           ┆   ┆           ┆           ┆           ┆ :06.7813 │\n",
       "│           ┆           ┆           ┆           ┆   ┆           ┆           ┆           ┆ 45       │\n",
       "│ 91        ┆ NWTCFV-91 ┆ Northwind ┆ null      ┆ … ┆ Canned    ┆ null      ┆ Supplier  ┆ 2024-07- │\n",
       "│           ┆           ┆ Traders   ┆           ┆   ┆ Fruit &   ┆           ┆ F         ┆ 05 23:58 │\n",
       "│           ┆           ┆ Cherry    ┆           ┆   ┆ Vegetable ┆           ┆           ┆ :06.7813 │\n",
       "│           ┆           ┆ Pie F…    ┆           ┆   ┆ s         ┆           ┆           ┆ 45       │\n",
       "│ 93        ┆ NWTCFV-93 ┆ Northwind ┆ null      ┆ … ┆ Canned    ┆ null      ┆ Supplier  ┆ 2024-07- │\n",
       "│           ┆           ┆ Traders   ┆           ┆   ┆ Fruit &   ┆           ┆ F         ┆ 05 23:58 │\n",
       "│           ┆           ┆ Corn      ┆           ┆   ┆ Vegetable ┆           ┆           ┆ :06.7813 │\n",
       "│           ┆           ┆           ┆           ┆   ┆ s         ┆           ┆           ┆ 45       │\n",
       "│ 17        ┆ NWTCFV-17 ┆ Northwind ┆ null      ┆ … ┆ Canned    ┆ null      ┆ Supplier  ┆ 2024-07- │\n",
       "│           ┆           ┆ Traders   ┆           ┆   ┆ Fruit &   ┆           ┆ F         ┆ 05 23:58 │\n",
       "│           ┆           ┆ Fruit     ┆           ┆   ┆ Vegetable ┆           ┆           ┆ :06.7813 │\n",
       "│           ┆           ┆ Cockta…   ┆           ┆   ┆ s         ┆           ┆           ┆ 45       │\n",
       "│ 40        ┆ NWTCM-40  ┆ Northwind ┆ null      ┆ … ┆ Canned    ┆ null      ┆ Supplier  ┆ 2024-07- │\n",
       "│           ┆           ┆ Traders   ┆           ┆   ┆ Meat      ┆           ┆ G         ┆ 05 23:58 │\n",
       "│           ┆           ┆ Crab Meat ┆           ┆   ┆           ┆           ┆           ┆ :06.7813 │\n",
       "│           ┆           ┆           ┆           ┆   ┆           ┆           ┆           ┆ 45       │\n",
       "└───────────┴───────────┴───────────┴───────────┴───┴───────────┴───────────┴───────────┴──────────┘"
      ]
     },
     "execution_count": 16,
     "metadata": {},
     "output_type": "execute_result"
    }
   ],
   "source": [
    "dim_product = (product_supplier\n",
    "                    .select(pl.col('*').exclude('supplier_id'))\n",
    "                    .pipe(get_unigue,'product_id')\n",
    "                    .pipe(exclude_col,'ingestion_timestamp')\n",
    "                    .pipe(add_timestamp,'insertion_timestamp')\n",
    ")\n",
    "dim_product"
   ]
  }
 ],
 "metadata": {
  "kernelspec": {
   "display_name": "Python 3",
   "language": "python",
   "name": "python3"
  },
  "language_info": {
   "codemirror_mode": {
    "name": "ipython",
    "version": 3
   },
   "file_extension": ".py",
   "mimetype": "text/x-python",
   "name": "python",
   "nbconvert_exporter": "python",
   "pygments_lexer": "ipython3",
   "version": "3.11.9"
  }
 },
 "nbformat": 4,
 "nbformat_minor": 2
}
