{
 "cells": [
  {
   "cell_type": "code",
   "execution_count": 1,
   "metadata": {},
   "outputs": [
    {
     "name": "stdout",
     "output_type": "stream",
     "text": [
      "Hello World\n"
     ]
    }
   ],
   "source": [
    "print('Hello World')"
   ]
  },
  {
   "cell_type": "code",
   "execution_count": 3,
   "metadata": {},
   "outputs": [],
   "source": [
    "import pandas as pd"
   ]
  },
  {
   "cell_type": "code",
   "execution_count": 4,
   "metadata": {},
   "outputs": [
    {
     "data": {
      "text/html": [
       "<div>\n",
       "<style scoped>\n",
       "    .dataframe tbody tr th:only-of-type {\n",
       "        vertical-align: middle;\n",
       "    }\n",
       "\n",
       "    .dataframe tbody tr th {\n",
       "        vertical-align: top;\n",
       "    }\n",
       "\n",
       "    .dataframe thead th {\n",
       "        text-align: right;\n",
       "    }\n",
       "</style>\n",
       "<table border=\"1\" class=\"dataframe\">\n",
       "  <thead>\n",
       "    <tr style=\"text-align: right;\">\n",
       "      <th></th>\n",
       "      <th>id</th>\n",
       "      <th>name</th>\n",
       "    </tr>\n",
       "  </thead>\n",
       "  <tbody>\n",
       "    <tr>\n",
       "      <th>0</th>\n",
       "      <td>1</td>\n",
       "      <td>aa</td>\n",
       "    </tr>\n",
       "    <tr>\n",
       "      <th>1</th>\n",
       "      <td>2</td>\n",
       "      <td>bb</td>\n",
       "    </tr>\n",
       "    <tr>\n",
       "      <th>2</th>\n",
       "      <td>3</td>\n",
       "      <td>cc</td>\n",
       "    </tr>\n",
       "  </tbody>\n",
       "</table>\n",
       "</div>"
      ],
      "text/plain": [
       "   id name\n",
       "0   1   aa\n",
       "1   2   bb\n",
       "2   3   cc"
      ]
     },
     "execution_count": 4,
     "metadata": {},
     "output_type": "execute_result"
    }
   ],
   "source": [
    "df = pd.DataFrame({'id':[1,2,3],'name':['aa','bb','cc']})\n",
    "df"
   ]
  },
  {
   "cell_type": "code",
   "execution_count": 5,
   "metadata": {},
   "outputs": [],
   "source": [
    "import polars as pl"
   ]
  },
  {
   "cell_type": "code",
   "execution_count": 6,
   "metadata": {},
   "outputs": [
    {
     "data": {
      "text/html": [
       "<div><style>\n",
       ".dataframe > thead > tr,\n",
       ".dataframe > tbody > tr {\n",
       "  text-align: right;\n",
       "  white-space: pre-wrap;\n",
       "}\n",
       "</style>\n",
       "<small>shape: (3, 2)</small><table border=\"1\" class=\"dataframe\"><thead><tr><th>id</th><th>name</th></tr><tr><td>i64</td><td>str</td></tr></thead><tbody><tr><td>1</td><td>&quot;aa&quot;</td></tr><tr><td>2</td><td>&quot;bb&quot;</td></tr><tr><td>3</td><td>&quot;cc&quot;</td></tr></tbody></table></div>"
      ],
      "text/plain": [
       "shape: (3, 2)\n",
       "┌─────┬──────┐\n",
       "│ id  ┆ name │\n",
       "│ --- ┆ ---  │\n",
       "│ i64 ┆ str  │\n",
       "╞═════╪══════╡\n",
       "│ 1   ┆ aa   │\n",
       "│ 2   ┆ bb   │\n",
       "│ 3   ┆ cc   │\n",
       "└─────┴──────┘"
      ]
     },
     "execution_count": 6,
     "metadata": {},
     "output_type": "execute_result"
    }
   ],
   "source": [
    "df_p = pl.DataFrame({'id':[1,2,3],'name':['aa','bb','cc']})\n",
    "df_p"
   ]
  },
  {
   "cell_type": "code",
   "execution_count": 7,
   "metadata": {},
   "outputs": [
    {
     "name": "stdout",
     "output_type": "stream",
     "text": [
      "shape: (3, 2)\n",
      "┌─────┬──────┐\n",
      "│ id  ┆ name │\n",
      "│ --- ┆ ---  │\n",
      "│ i64 ┆ str  │\n",
      "╞═════╪══════╡\n",
      "│ 1   ┆ aa   │\n",
      "│ 2   ┆ bb   │\n",
      "│ 3   ┆ cc   │\n",
      "└─────┴──────┘\n"
     ]
    }
   ],
   "source": [
    "print(df_p)"
   ]
  },
  {
   "cell_type": "code",
   "execution_count": 8,
   "metadata": {},
   "outputs": [
    {
     "name": "stdout",
     "output_type": "stream",
     "text": [
      "   id name\n",
      "0   1   aa\n",
      "1   2   bb\n",
      "2   3   cc\n"
     ]
    }
   ],
   "source": [
    "print(df)"
   ]
  },
  {
   "cell_type": "code",
   "execution_count": 14,
   "metadata": {},
   "outputs": [],
   "source": [
    "url = 'https://raw.githubusercontent.com/databricks/Spark-The-Definitive-Guide/master/data/retail-data/all/online-retail-dataset.csv'\n",
    "df2 = pd.read_csv(url,nrows=1000)"
   ]
  },
  {
   "cell_type": "code",
   "execution_count": 18,
   "metadata": {},
   "outputs": [
    {
     "data": {
      "text/html": [
       "<div>\n",
       "<style scoped>\n",
       "    .dataframe tbody tr th:only-of-type {\n",
       "        vertical-align: middle;\n",
       "    }\n",
       "\n",
       "    .dataframe tbody tr th {\n",
       "        vertical-align: top;\n",
       "    }\n",
       "\n",
       "    .dataframe thead th {\n",
       "        text-align: right;\n",
       "    }\n",
       "</style>\n",
       "<table border=\"1\" class=\"dataframe\">\n",
       "  <thead>\n",
       "    <tr style=\"text-align: right;\">\n",
       "      <th></th>\n",
       "      <th>InvoiceNo</th>\n",
       "      <th>StockCode</th>\n",
       "      <th>Description</th>\n",
       "      <th>Quantity</th>\n",
       "      <th>InvoiceDate</th>\n",
       "      <th>UnitPrice</th>\n",
       "      <th>CustomerID</th>\n",
       "      <th>Country</th>\n",
       "    </tr>\n",
       "  </thead>\n",
       "  <tbody>\n",
       "    <tr>\n",
       "      <th>0</th>\n",
       "      <td>536365</td>\n",
       "      <td>85123A</td>\n",
       "      <td>WHITE HANGING HEART T-LIGHT HOLDER</td>\n",
       "      <td>6</td>\n",
       "      <td>12/1/2010 8:26</td>\n",
       "      <td>2.55</td>\n",
       "      <td>17850.0</td>\n",
       "      <td>United Kingdom</td>\n",
       "    </tr>\n",
       "    <tr>\n",
       "      <th>1</th>\n",
       "      <td>536365</td>\n",
       "      <td>71053</td>\n",
       "      <td>WHITE METAL LANTERN</td>\n",
       "      <td>6</td>\n",
       "      <td>12/1/2010 8:26</td>\n",
       "      <td>3.39</td>\n",
       "      <td>17850.0</td>\n",
       "      <td>United Kingdom</td>\n",
       "    </tr>\n",
       "    <tr>\n",
       "      <th>2</th>\n",
       "      <td>536365</td>\n",
       "      <td>84406B</td>\n",
       "      <td>CREAM CUPID HEARTS COAT HANGER</td>\n",
       "      <td>8</td>\n",
       "      <td>12/1/2010 8:26</td>\n",
       "      <td>2.75</td>\n",
       "      <td>17850.0</td>\n",
       "      <td>United Kingdom</td>\n",
       "    </tr>\n",
       "    <tr>\n",
       "      <th>3</th>\n",
       "      <td>536365</td>\n",
       "      <td>84029G</td>\n",
       "      <td>KNITTED UNION FLAG HOT WATER BOTTLE</td>\n",
       "      <td>6</td>\n",
       "      <td>12/1/2010 8:26</td>\n",
       "      <td>3.39</td>\n",
       "      <td>17850.0</td>\n",
       "      <td>United Kingdom</td>\n",
       "    </tr>\n",
       "    <tr>\n",
       "      <th>4</th>\n",
       "      <td>536365</td>\n",
       "      <td>84029E</td>\n",
       "      <td>RED WOOLLY HOTTIE WHITE HEART.</td>\n",
       "      <td>6</td>\n",
       "      <td>12/1/2010 8:26</td>\n",
       "      <td>3.39</td>\n",
       "      <td>17850.0</td>\n",
       "      <td>United Kingdom</td>\n",
       "    </tr>\n",
       "  </tbody>\n",
       "</table>\n",
       "</div>"
      ],
      "text/plain": [
       "  InvoiceNo StockCode                          Description  Quantity  \\\n",
       "0    536365    85123A   WHITE HANGING HEART T-LIGHT HOLDER         6   \n",
       "1    536365     71053                  WHITE METAL LANTERN         6   \n",
       "2    536365    84406B       CREAM CUPID HEARTS COAT HANGER         8   \n",
       "3    536365    84029G  KNITTED UNION FLAG HOT WATER BOTTLE         6   \n",
       "4    536365    84029E       RED WOOLLY HOTTIE WHITE HEART.         6   \n",
       "\n",
       "      InvoiceDate  UnitPrice  CustomerID         Country  \n",
       "0  12/1/2010 8:26       2.55     17850.0  United Kingdom  \n",
       "1  12/1/2010 8:26       3.39     17850.0  United Kingdom  \n",
       "2  12/1/2010 8:26       2.75     17850.0  United Kingdom  \n",
       "3  12/1/2010 8:26       3.39     17850.0  United Kingdom  \n",
       "4  12/1/2010 8:26       3.39     17850.0  United Kingdom  "
      ]
     },
     "execution_count": 18,
     "metadata": {},
     "output_type": "execute_result"
    }
   ],
   "source": [
    "df2.head()"
   ]
  },
  {
   "cell_type": "code",
   "execution_count": 19,
   "metadata": {},
   "outputs": [],
   "source": [
    "df2.to_csv('data.csv')"
   ]
  },
  {
   "cell_type": "code",
   "execution_count": 20,
   "metadata": {},
   "outputs": [
    {
     "data": {
      "text/plain": [
       "(1000, 8)"
      ]
     },
     "execution_count": 20,
     "metadata": {},
     "output_type": "execute_result"
    }
   ],
   "source": [
    "df2.shape"
   ]
  },
  {
   "cell_type": "code",
   "execution_count": 25,
   "metadata": {},
   "outputs": [
    {
     "ename": "FileNotFoundError",
     "evalue": "The system cannot find the file specified. (os error 2): data2.csv",
     "output_type": "error",
     "traceback": [
      "\u001b[1;31m---------------------------------------------------------------------------\u001b[0m",
      "\u001b[1;31mFileNotFoundError\u001b[0m                         Traceback (most recent call last)",
      "Cell \u001b[1;32mIn[25], line 1\u001b[0m\n\u001b[1;32m----> 1\u001b[0m df_p \u001b[38;5;241m=\u001b[39m \u001b[43mpl\u001b[49m\u001b[38;5;241;43m.\u001b[39;49m\u001b[43mread_csv\u001b[49m\u001b[43m(\u001b[49m\u001b[38;5;124;43m'\u001b[39;49m\u001b[38;5;124;43mdata2.csv\u001b[39;49m\u001b[38;5;124;43m'\u001b[39;49m\u001b[43m)\u001b[49m\n",
      "File \u001b[1;32md:\\Project_pipeline\\.conda\\Lib\\site-packages\\polars\\_utils\\deprecation.py:135\u001b[0m, in \u001b[0;36mdeprecate_renamed_parameter.<locals>.decorate.<locals>.wrapper\u001b[1;34m(*args, **kwargs)\u001b[0m\n\u001b[0;32m    130\u001b[0m \u001b[38;5;129m@wraps\u001b[39m(function)\n\u001b[0;32m    131\u001b[0m \u001b[38;5;28;01mdef\u001b[39;00m \u001b[38;5;21mwrapper\u001b[39m(\u001b[38;5;241m*\u001b[39margs: P\u001b[38;5;241m.\u001b[39margs, \u001b[38;5;241m*\u001b[39m\u001b[38;5;241m*\u001b[39mkwargs: P\u001b[38;5;241m.\u001b[39mkwargs) \u001b[38;5;241m-\u001b[39m\u001b[38;5;241m>\u001b[39m T:\n\u001b[0;32m    132\u001b[0m     _rename_keyword_argument(\n\u001b[0;32m    133\u001b[0m         old_name, new_name, kwargs, function\u001b[38;5;241m.\u001b[39m\u001b[38;5;18m__name__\u001b[39m, version\n\u001b[0;32m    134\u001b[0m     )\n\u001b[1;32m--> 135\u001b[0m     \u001b[38;5;28;01mreturn\u001b[39;00m \u001b[43mfunction\u001b[49m\u001b[43m(\u001b[49m\u001b[38;5;241;43m*\u001b[39;49m\u001b[43margs\u001b[49m\u001b[43m,\u001b[49m\u001b[43m \u001b[49m\u001b[38;5;241;43m*\u001b[39;49m\u001b[38;5;241;43m*\u001b[39;49m\u001b[43mkwargs\u001b[49m\u001b[43m)\u001b[49m\n",
      "File \u001b[1;32md:\\Project_pipeline\\.conda\\Lib\\site-packages\\polars\\_utils\\deprecation.py:135\u001b[0m, in \u001b[0;36mdeprecate_renamed_parameter.<locals>.decorate.<locals>.wrapper\u001b[1;34m(*args, **kwargs)\u001b[0m\n\u001b[0;32m    130\u001b[0m \u001b[38;5;129m@wraps\u001b[39m(function)\n\u001b[0;32m    131\u001b[0m \u001b[38;5;28;01mdef\u001b[39;00m \u001b[38;5;21mwrapper\u001b[39m(\u001b[38;5;241m*\u001b[39margs: P\u001b[38;5;241m.\u001b[39margs, \u001b[38;5;241m*\u001b[39m\u001b[38;5;241m*\u001b[39mkwargs: P\u001b[38;5;241m.\u001b[39mkwargs) \u001b[38;5;241m-\u001b[39m\u001b[38;5;241m>\u001b[39m T:\n\u001b[0;32m    132\u001b[0m     _rename_keyword_argument(\n\u001b[0;32m    133\u001b[0m         old_name, new_name, kwargs, function\u001b[38;5;241m.\u001b[39m\u001b[38;5;18m__name__\u001b[39m, version\n\u001b[0;32m    134\u001b[0m     )\n\u001b[1;32m--> 135\u001b[0m     \u001b[38;5;28;01mreturn\u001b[39;00m \u001b[43mfunction\u001b[49m\u001b[43m(\u001b[49m\u001b[38;5;241;43m*\u001b[39;49m\u001b[43margs\u001b[49m\u001b[43m,\u001b[49m\u001b[43m \u001b[49m\u001b[38;5;241;43m*\u001b[39;49m\u001b[38;5;241;43m*\u001b[39;49m\u001b[43mkwargs\u001b[49m\u001b[43m)\u001b[49m\n",
      "    \u001b[1;31m[... skipping similar frames: deprecate_renamed_parameter.<locals>.decorate.<locals>.wrapper at line 135 (1 times)]\u001b[0m\n",
      "File \u001b[1;32md:\\Project_pipeline\\.conda\\Lib\\site-packages\\polars\\_utils\\deprecation.py:135\u001b[0m, in \u001b[0;36mdeprecate_renamed_parameter.<locals>.decorate.<locals>.wrapper\u001b[1;34m(*args, **kwargs)\u001b[0m\n\u001b[0;32m    130\u001b[0m \u001b[38;5;129m@wraps\u001b[39m(function)\n\u001b[0;32m    131\u001b[0m \u001b[38;5;28;01mdef\u001b[39;00m \u001b[38;5;21mwrapper\u001b[39m(\u001b[38;5;241m*\u001b[39margs: P\u001b[38;5;241m.\u001b[39margs, \u001b[38;5;241m*\u001b[39m\u001b[38;5;241m*\u001b[39mkwargs: P\u001b[38;5;241m.\u001b[39mkwargs) \u001b[38;5;241m-\u001b[39m\u001b[38;5;241m>\u001b[39m T:\n\u001b[0;32m    132\u001b[0m     _rename_keyword_argument(\n\u001b[0;32m    133\u001b[0m         old_name, new_name, kwargs, function\u001b[38;5;241m.\u001b[39m\u001b[38;5;18m__name__\u001b[39m, version\n\u001b[0;32m    134\u001b[0m     )\n\u001b[1;32m--> 135\u001b[0m     \u001b[38;5;28;01mreturn\u001b[39;00m \u001b[43mfunction\u001b[49m\u001b[43m(\u001b[49m\u001b[38;5;241;43m*\u001b[39;49m\u001b[43margs\u001b[49m\u001b[43m,\u001b[49m\u001b[43m \u001b[49m\u001b[38;5;241;43m*\u001b[39;49m\u001b[38;5;241;43m*\u001b[39;49m\u001b[43mkwargs\u001b[49m\u001b[43m)\u001b[49m\n",
      "File \u001b[1;32md:\\Project_pipeline\\.conda\\Lib\\site-packages\\polars\\io\\csv\\functions.py:422\u001b[0m, in \u001b[0;36mread_csv\u001b[1;34m(source, has_header, columns, new_columns, separator, comment_prefix, quote_char, skip_rows, schema, schema_overrides, null_values, missing_utf8_is_empty_string, ignore_errors, try_parse_dates, n_threads, infer_schema_length, batch_size, n_rows, encoding, low_memory, rechunk, use_pyarrow, storage_options, skip_rows_after_header, row_index_name, row_index_offset, sample_size, eol_char, raise_if_empty, truncate_ragged_lines, decimal_comma, glob)\u001b[0m\n\u001b[0;32m    410\u001b[0m         schema_overrides \u001b[38;5;241m=\u001b[39m {\n\u001b[0;32m    411\u001b[0m             new_to_current\u001b[38;5;241m.\u001b[39mget(column_name, column_name): column_dtype\n\u001b[0;32m    412\u001b[0m             \u001b[38;5;28;01mfor\u001b[39;00m column_name, column_dtype \u001b[38;5;129;01min\u001b[39;00m schema_overrides\u001b[38;5;241m.\u001b[39mitems()\n\u001b[0;32m    413\u001b[0m         }\n\u001b[0;32m    415\u001b[0m \u001b[38;5;28;01mwith\u001b[39;00m prepare_file_arg(\n\u001b[0;32m    416\u001b[0m     source,\n\u001b[0;32m    417\u001b[0m     encoding\u001b[38;5;241m=\u001b[39mencoding,\n\u001b[1;32m   (...)\u001b[0m\n\u001b[0;32m    420\u001b[0m     storage_options\u001b[38;5;241m=\u001b[39mstorage_options,\n\u001b[0;32m    421\u001b[0m ) \u001b[38;5;28;01mas\u001b[39;00m data:\n\u001b[1;32m--> 422\u001b[0m     df \u001b[38;5;241m=\u001b[39m \u001b[43m_read_csv_impl\u001b[49m\u001b[43m(\u001b[49m\n\u001b[0;32m    423\u001b[0m \u001b[43m        \u001b[49m\u001b[43mdata\u001b[49m\u001b[43m,\u001b[49m\n\u001b[0;32m    424\u001b[0m \u001b[43m        \u001b[49m\u001b[43mhas_header\u001b[49m\u001b[38;5;241;43m=\u001b[39;49m\u001b[43mhas_header\u001b[49m\u001b[43m,\u001b[49m\n\u001b[0;32m    425\u001b[0m \u001b[43m        \u001b[49m\u001b[43mcolumns\u001b[49m\u001b[38;5;241;43m=\u001b[39;49m\u001b[43mcolumns\u001b[49m\u001b[43m \u001b[49m\u001b[38;5;28;43;01mif\u001b[39;49;00m\u001b[43m \u001b[49m\u001b[43mcolumns\u001b[49m\u001b[43m \u001b[49m\u001b[38;5;28;43;01melse\u001b[39;49;00m\u001b[43m \u001b[49m\u001b[43mprojection\u001b[49m\u001b[43m,\u001b[49m\n\u001b[0;32m    426\u001b[0m \u001b[43m        \u001b[49m\u001b[43mseparator\u001b[49m\u001b[38;5;241;43m=\u001b[39;49m\u001b[43mseparator\u001b[49m\u001b[43m,\u001b[49m\n\u001b[0;32m    427\u001b[0m \u001b[43m        \u001b[49m\u001b[43mcomment_prefix\u001b[49m\u001b[38;5;241;43m=\u001b[39;49m\u001b[43mcomment_prefix\u001b[49m\u001b[43m,\u001b[49m\n\u001b[0;32m    428\u001b[0m \u001b[43m        \u001b[49m\u001b[43mquote_char\u001b[49m\u001b[38;5;241;43m=\u001b[39;49m\u001b[43mquote_char\u001b[49m\u001b[43m,\u001b[49m\n\u001b[0;32m    429\u001b[0m \u001b[43m        \u001b[49m\u001b[43mskip_rows\u001b[49m\u001b[38;5;241;43m=\u001b[39;49m\u001b[43mskip_rows\u001b[49m\u001b[43m,\u001b[49m\n\u001b[0;32m    430\u001b[0m \u001b[43m        \u001b[49m\u001b[43mschema_overrides\u001b[49m\u001b[38;5;241;43m=\u001b[39;49m\u001b[43mschema_overrides\u001b[49m\u001b[43m,\u001b[49m\n\u001b[0;32m    431\u001b[0m \u001b[43m        \u001b[49m\u001b[43mschema\u001b[49m\u001b[38;5;241;43m=\u001b[39;49m\u001b[43mschema\u001b[49m\u001b[43m,\u001b[49m\n\u001b[0;32m    432\u001b[0m \u001b[43m        \u001b[49m\u001b[43mnull_values\u001b[49m\u001b[38;5;241;43m=\u001b[39;49m\u001b[43mnull_values\u001b[49m\u001b[43m,\u001b[49m\n\u001b[0;32m    433\u001b[0m \u001b[43m        \u001b[49m\u001b[43mmissing_utf8_is_empty_string\u001b[49m\u001b[38;5;241;43m=\u001b[39;49m\u001b[43mmissing_utf8_is_empty_string\u001b[49m\u001b[43m,\u001b[49m\n\u001b[0;32m    434\u001b[0m \u001b[43m        \u001b[49m\u001b[43mignore_errors\u001b[49m\u001b[38;5;241;43m=\u001b[39;49m\u001b[43mignore_errors\u001b[49m\u001b[43m,\u001b[49m\n\u001b[0;32m    435\u001b[0m \u001b[43m        \u001b[49m\u001b[43mtry_parse_dates\u001b[49m\u001b[38;5;241;43m=\u001b[39;49m\u001b[43mtry_parse_dates\u001b[49m\u001b[43m,\u001b[49m\n\u001b[0;32m    436\u001b[0m \u001b[43m        \u001b[49m\u001b[43mn_threads\u001b[49m\u001b[38;5;241;43m=\u001b[39;49m\u001b[43mn_threads\u001b[49m\u001b[43m,\u001b[49m\n\u001b[0;32m    437\u001b[0m \u001b[43m        \u001b[49m\u001b[43minfer_schema_length\u001b[49m\u001b[38;5;241;43m=\u001b[39;49m\u001b[43minfer_schema_length\u001b[49m\u001b[43m,\u001b[49m\n\u001b[0;32m    438\u001b[0m \u001b[43m        \u001b[49m\u001b[43mbatch_size\u001b[49m\u001b[38;5;241;43m=\u001b[39;49m\u001b[43mbatch_size\u001b[49m\u001b[43m,\u001b[49m\n\u001b[0;32m    439\u001b[0m \u001b[43m        \u001b[49m\u001b[43mn_rows\u001b[49m\u001b[38;5;241;43m=\u001b[39;49m\u001b[43mn_rows\u001b[49m\u001b[43m,\u001b[49m\n\u001b[0;32m    440\u001b[0m \u001b[43m        \u001b[49m\u001b[43mencoding\u001b[49m\u001b[38;5;241;43m=\u001b[39;49m\u001b[43mencoding\u001b[49m\u001b[43m \u001b[49m\u001b[38;5;28;43;01mif\u001b[39;49;00m\u001b[43m \u001b[49m\u001b[43mencoding\u001b[49m\u001b[43m \u001b[49m\u001b[38;5;241;43m==\u001b[39;49m\u001b[43m \u001b[49m\u001b[38;5;124;43m\"\u001b[39;49m\u001b[38;5;124;43mutf8-lossy\u001b[39;49m\u001b[38;5;124;43m\"\u001b[39;49m\u001b[43m \u001b[49m\u001b[38;5;28;43;01melse\u001b[39;49;00m\u001b[43m \u001b[49m\u001b[38;5;124;43m\"\u001b[39;49m\u001b[38;5;124;43mutf8\u001b[39;49m\u001b[38;5;124;43m\"\u001b[39;49m\u001b[43m,\u001b[49m\n\u001b[0;32m    441\u001b[0m \u001b[43m        \u001b[49m\u001b[43mlow_memory\u001b[49m\u001b[38;5;241;43m=\u001b[39;49m\u001b[43mlow_memory\u001b[49m\u001b[43m,\u001b[49m\n\u001b[0;32m    442\u001b[0m \u001b[43m        \u001b[49m\u001b[43mrechunk\u001b[49m\u001b[38;5;241;43m=\u001b[39;49m\u001b[43mrechunk\u001b[49m\u001b[43m,\u001b[49m\n\u001b[0;32m    443\u001b[0m \u001b[43m        \u001b[49m\u001b[43mskip_rows_after_header\u001b[49m\u001b[38;5;241;43m=\u001b[39;49m\u001b[43mskip_rows_after_header\u001b[49m\u001b[43m,\u001b[49m\n\u001b[0;32m    444\u001b[0m \u001b[43m        \u001b[49m\u001b[43mrow_index_name\u001b[49m\u001b[38;5;241;43m=\u001b[39;49m\u001b[43mrow_index_name\u001b[49m\u001b[43m,\u001b[49m\n\u001b[0;32m    445\u001b[0m \u001b[43m        \u001b[49m\u001b[43mrow_index_offset\u001b[49m\u001b[38;5;241;43m=\u001b[39;49m\u001b[43mrow_index_offset\u001b[49m\u001b[43m,\u001b[49m\n\u001b[0;32m    446\u001b[0m \u001b[43m        \u001b[49m\u001b[43msample_size\u001b[49m\u001b[38;5;241;43m=\u001b[39;49m\u001b[43msample_size\u001b[49m\u001b[43m,\u001b[49m\n\u001b[0;32m    447\u001b[0m \u001b[43m        \u001b[49m\u001b[43meol_char\u001b[49m\u001b[38;5;241;43m=\u001b[39;49m\u001b[43meol_char\u001b[49m\u001b[43m,\u001b[49m\n\u001b[0;32m    448\u001b[0m \u001b[43m        \u001b[49m\u001b[43mraise_if_empty\u001b[49m\u001b[38;5;241;43m=\u001b[39;49m\u001b[43mraise_if_empty\u001b[49m\u001b[43m,\u001b[49m\n\u001b[0;32m    449\u001b[0m \u001b[43m        \u001b[49m\u001b[43mtruncate_ragged_lines\u001b[49m\u001b[38;5;241;43m=\u001b[39;49m\u001b[43mtruncate_ragged_lines\u001b[49m\u001b[43m,\u001b[49m\n\u001b[0;32m    450\u001b[0m \u001b[43m        \u001b[49m\u001b[43mdecimal_comma\u001b[49m\u001b[38;5;241;43m=\u001b[39;49m\u001b[43mdecimal_comma\u001b[49m\u001b[43m,\u001b[49m\n\u001b[0;32m    451\u001b[0m \u001b[43m        \u001b[49m\u001b[43mglob\u001b[49m\u001b[38;5;241;43m=\u001b[39;49m\u001b[43mglob\u001b[49m\u001b[43m,\u001b[49m\n\u001b[0;32m    452\u001b[0m \u001b[43m    \u001b[49m\u001b[43m)\u001b[49m\n\u001b[0;32m    454\u001b[0m \u001b[38;5;28;01mif\u001b[39;00m new_columns:\n\u001b[0;32m    455\u001b[0m     \u001b[38;5;28;01mreturn\u001b[39;00m _update_columns(df, new_columns)\n",
      "File \u001b[1;32md:\\Project_pipeline\\.conda\\Lib\\site-packages\\polars\\io\\csv\\functions.py:568\u001b[0m, in \u001b[0;36m_read_csv_impl\u001b[1;34m(source, has_header, columns, separator, comment_prefix, quote_char, skip_rows, schema, schema_overrides, null_values, missing_utf8_is_empty_string, ignore_errors, try_parse_dates, n_threads, infer_schema_length, batch_size, n_rows, encoding, low_memory, rechunk, skip_rows_after_header, row_index_name, row_index_offset, sample_size, eol_char, raise_if_empty, truncate_ragged_lines, decimal_comma, glob)\u001b[0m\n\u001b[0;32m    564\u001b[0m         \u001b[38;5;28;01mraise\u001b[39;00m \u001b[38;5;167;01mValueError\u001b[39;00m(msg)\n\u001b[0;32m    566\u001b[0m projection, columns \u001b[38;5;241m=\u001b[39m parse_columns_arg(columns)\n\u001b[1;32m--> 568\u001b[0m pydf \u001b[38;5;241m=\u001b[39m \u001b[43mPyDataFrame\u001b[49m\u001b[38;5;241;43m.\u001b[39;49m\u001b[43mread_csv\u001b[49m\u001b[43m(\u001b[49m\n\u001b[0;32m    569\u001b[0m \u001b[43m    \u001b[49m\u001b[43msource\u001b[49m\u001b[43m,\u001b[49m\n\u001b[0;32m    570\u001b[0m \u001b[43m    \u001b[49m\u001b[43minfer_schema_length\u001b[49m\u001b[43m,\u001b[49m\n\u001b[0;32m    571\u001b[0m \u001b[43m    \u001b[49m\u001b[43mbatch_size\u001b[49m\u001b[43m,\u001b[49m\n\u001b[0;32m    572\u001b[0m \u001b[43m    \u001b[49m\u001b[43mhas_header\u001b[49m\u001b[43m,\u001b[49m\n\u001b[0;32m    573\u001b[0m \u001b[43m    \u001b[49m\u001b[43mignore_errors\u001b[49m\u001b[43m,\u001b[49m\n\u001b[0;32m    574\u001b[0m \u001b[43m    \u001b[49m\u001b[43mn_rows\u001b[49m\u001b[43m,\u001b[49m\n\u001b[0;32m    575\u001b[0m \u001b[43m    \u001b[49m\u001b[43mskip_rows\u001b[49m\u001b[43m,\u001b[49m\n\u001b[0;32m    576\u001b[0m \u001b[43m    \u001b[49m\u001b[43mprojection\u001b[49m\u001b[43m,\u001b[49m\n\u001b[0;32m    577\u001b[0m \u001b[43m    \u001b[49m\u001b[43mseparator\u001b[49m\u001b[43m,\u001b[49m\n\u001b[0;32m    578\u001b[0m \u001b[43m    \u001b[49m\u001b[43mrechunk\u001b[49m\u001b[43m,\u001b[49m\n\u001b[0;32m    579\u001b[0m \u001b[43m    \u001b[49m\u001b[43mcolumns\u001b[49m\u001b[43m,\u001b[49m\n\u001b[0;32m    580\u001b[0m \u001b[43m    \u001b[49m\u001b[43mencoding\u001b[49m\u001b[43m,\u001b[49m\n\u001b[0;32m    581\u001b[0m \u001b[43m    \u001b[49m\u001b[43mn_threads\u001b[49m\u001b[43m,\u001b[49m\n\u001b[0;32m    582\u001b[0m \u001b[43m    \u001b[49m\u001b[43mpath\u001b[49m\u001b[43m,\u001b[49m\n\u001b[0;32m    583\u001b[0m \u001b[43m    \u001b[49m\u001b[43mdtype_list\u001b[49m\u001b[43m,\u001b[49m\n\u001b[0;32m    584\u001b[0m \u001b[43m    \u001b[49m\u001b[43mdtype_slice\u001b[49m\u001b[43m,\u001b[49m\n\u001b[0;32m    585\u001b[0m \u001b[43m    \u001b[49m\u001b[43mlow_memory\u001b[49m\u001b[43m,\u001b[49m\n\u001b[0;32m    586\u001b[0m \u001b[43m    \u001b[49m\u001b[43mcomment_prefix\u001b[49m\u001b[43m,\u001b[49m\n\u001b[0;32m    587\u001b[0m \u001b[43m    \u001b[49m\u001b[43mquote_char\u001b[49m\u001b[43m,\u001b[49m\n\u001b[0;32m    588\u001b[0m \u001b[43m    \u001b[49m\u001b[43mprocessed_null_values\u001b[49m\u001b[43m,\u001b[49m\n\u001b[0;32m    589\u001b[0m \u001b[43m    \u001b[49m\u001b[43mmissing_utf8_is_empty_string\u001b[49m\u001b[43m,\u001b[49m\n\u001b[0;32m    590\u001b[0m \u001b[43m    \u001b[49m\u001b[43mtry_parse_dates\u001b[49m\u001b[43m,\u001b[49m\n\u001b[0;32m    591\u001b[0m \u001b[43m    \u001b[49m\u001b[43mskip_rows_after_header\u001b[49m\u001b[43m,\u001b[49m\n\u001b[0;32m    592\u001b[0m \u001b[43m    \u001b[49m\u001b[43mparse_row_index_args\u001b[49m\u001b[43m(\u001b[49m\u001b[43mrow_index_name\u001b[49m\u001b[43m,\u001b[49m\u001b[43m \u001b[49m\u001b[43mrow_index_offset\u001b[49m\u001b[43m)\u001b[49m\u001b[43m,\u001b[49m\n\u001b[0;32m    593\u001b[0m \u001b[43m    \u001b[49m\u001b[43msample_size\u001b[49m\u001b[38;5;241;43m=\u001b[39;49m\u001b[43msample_size\u001b[49m\u001b[43m,\u001b[49m\n\u001b[0;32m    594\u001b[0m \u001b[43m    \u001b[49m\u001b[43meol_char\u001b[49m\u001b[38;5;241;43m=\u001b[39;49m\u001b[43meol_char\u001b[49m\u001b[43m,\u001b[49m\n\u001b[0;32m    595\u001b[0m \u001b[43m    \u001b[49m\u001b[43mraise_if_empty\u001b[49m\u001b[38;5;241;43m=\u001b[39;49m\u001b[43mraise_if_empty\u001b[49m\u001b[43m,\u001b[49m\n\u001b[0;32m    596\u001b[0m \u001b[43m    \u001b[49m\u001b[43mtruncate_ragged_lines\u001b[49m\u001b[38;5;241;43m=\u001b[39;49m\u001b[43mtruncate_ragged_lines\u001b[49m\u001b[43m,\u001b[49m\n\u001b[0;32m    597\u001b[0m \u001b[43m    \u001b[49m\u001b[43mdecimal_comma\u001b[49m\u001b[38;5;241;43m=\u001b[39;49m\u001b[43mdecimal_comma\u001b[49m\u001b[43m,\u001b[49m\n\u001b[0;32m    598\u001b[0m \u001b[43m    \u001b[49m\u001b[43mschema\u001b[49m\u001b[38;5;241;43m=\u001b[39;49m\u001b[43mschema\u001b[49m\u001b[43m,\u001b[49m\n\u001b[0;32m    599\u001b[0m \u001b[43m\u001b[49m\u001b[43m)\u001b[49m\n\u001b[0;32m    600\u001b[0m \u001b[38;5;28;01mreturn\u001b[39;00m wrap_df(pydf)\n",
      "\u001b[1;31mFileNotFoundError\u001b[0m: The system cannot find the file specified. (os error 2): data2.csv"
     ]
    }
   ],
   "source": [
    "df_p = pl.read_csv('data.csv')"
   ]
  },
  {
   "cell_type": "code",
   "execution_count": 39,
   "metadata": {},
   "outputs": [
    {
     "data": {
      "text/html": [
       "<div><style>\n",
       ".dataframe > thead > tr,\n",
       ".dataframe > tbody > tr {\n",
       "  text-align: right;\n",
       "  white-space: pre-wrap;\n",
       "}\n",
       "</style>\n",
       "<small>shape: (5, 3)</small><table border=\"1\" class=\"dataframe\"><thead><tr><th>Id</th><th>Name</th><th>score</th></tr><tr><td>i64</td><td>str</td><td>i64</td></tr></thead><tbody><tr><td>1</td><td>&quot;aa&quot;</td><td>50</td></tr><tr><td>2</td><td>&quot;bb&quot;</td><td>60</td></tr><tr><td>3</td><td>&quot;cc&quot;</td><td>78</td></tr><tr><td>4</td><td>&quot;dd&quot;</td><td>82</td></tr><tr><td>5</td><td>&quot;ee&quot;</td><td>25</td></tr></tbody></table></div>"
      ],
      "text/plain": [
       "shape: (5, 3)\n",
       "┌─────┬──────┬───────┐\n",
       "│ Id  ┆ Name ┆ score │\n",
       "│ --- ┆ ---  ┆ ---   │\n",
       "│ i64 ┆ str  ┆ i64   │\n",
       "╞═════╪══════╪═══════╡\n",
       "│ 1   ┆ aa   ┆ 50    │\n",
       "│ 2   ┆ bb   ┆ 60    │\n",
       "│ 3   ┆ cc   ┆ 78    │\n",
       "│ 4   ┆ dd   ┆ 82    │\n",
       "│ 5   ┆ ee   ┆ 25    │\n",
       "└─────┴──────┴───────┘"
      ]
     },
     "execution_count": 39,
     "metadata": {},
     "output_type": "execute_result"
    }
   ],
   "source": [
    "dfp = pl.DataFrame(\n",
    "    {\n",
    "        'Id':[1,2,3,4,5],\n",
    "        'Name':['aa','bb','cc','dd','ee'],\n",
    "        'score':[50,60,78,82,25]\n",
    "    })\n",
    "dfp"
   ]
  },
  {
   "cell_type": "code",
   "execution_count": 40,
   "metadata": {},
   "outputs": [
    {
     "name": "stdout",
     "output_type": "stream",
     "text": [
      "shape: (5, 2)\n",
      "┌──────┬───────┐\n",
      "│ Name ┆ score │\n",
      "│ ---  ┆ ---   │\n",
      "│ str  ┆ i64   │\n",
      "╞══════╪═══════╡\n",
      "│ aa   ┆ 50    │\n",
      "│ bb   ┆ 60    │\n",
      "│ cc   ┆ 78    │\n",
      "│ dd   ┆ 82    │\n",
      "│ ee   ┆ 25    │\n",
      "└──────┴───────┘\n"
     ]
    }
   ],
   "source": [
    "pl_out = dfp.select(['Name','score'])\n",
    "print(pl_out)"
   ]
  },
  {
   "cell_type": "code",
   "execution_count": 44,
   "metadata": {},
   "outputs": [
    {
     "data": {
      "text/html": [
       "<div><style>\n",
       ".dataframe > thead > tr,\n",
       ".dataframe > tbody > tr {\n",
       "  text-align: right;\n",
       "  white-space: pre-wrap;\n",
       "}\n",
       "</style>\n",
       "<small>shape: (5, 5)</small><table border=\"1\" class=\"dataframe\"><thead><tr><th>Id</th><th>Name</th><th>score</th><th>score+10</th><th>score/2</th></tr><tr><td>i64</td><td>str</td><td>i64</td><td>i64</td><td>f64</td></tr></thead><tbody><tr><td>1</td><td>&quot;aa&quot;</td><td>50</td><td>60</td><td>25.0</td></tr><tr><td>2</td><td>&quot;bb&quot;</td><td>60</td><td>70</td><td>30.0</td></tr><tr><td>3</td><td>&quot;cc&quot;</td><td>78</td><td>88</td><td>39.0</td></tr><tr><td>4</td><td>&quot;dd&quot;</td><td>82</td><td>92</td><td>41.0</td></tr><tr><td>5</td><td>&quot;ee&quot;</td><td>25</td><td>35</td><td>12.5</td></tr></tbody></table></div>"
      ],
      "text/plain": [
       "shape: (5, 5)\n",
       "┌─────┬──────┬───────┬──────────┬─────────┐\n",
       "│ Id  ┆ Name ┆ score ┆ score+10 ┆ score/2 │\n",
       "│ --- ┆ ---  ┆ ---   ┆ ---      ┆ ---     │\n",
       "│ i64 ┆ str  ┆ i64   ┆ i64      ┆ f64     │\n",
       "╞═════╪══════╪═══════╪══════════╪═════════╡\n",
       "│ 1   ┆ aa   ┆ 50    ┆ 60       ┆ 25.0    │\n",
       "│ 2   ┆ bb   ┆ 60    ┆ 70       ┆ 30.0    │\n",
       "│ 3   ┆ cc   ┆ 78    ┆ 88       ┆ 39.0    │\n",
       "│ 4   ┆ dd   ┆ 82    ┆ 92       ┆ 41.0    │\n",
       "│ 5   ┆ ee   ┆ 25    ┆ 35       ┆ 12.5    │\n",
       "└─────┴──────┴───────┴──────────┴─────────┘"
      ]
     },
     "execution_count": 44,
     "metadata": {},
     "output_type": "execute_result"
    }
   ],
   "source": [
    "dfp.with_columns(\n",
    "                (pl.col('score')+10).alias('score+10'),\n",
    "                (pl.col('score')/2).alias('score/2')\n",
    "                 )"
   ]
  },
  {
   "cell_type": "markdown",
   "metadata": {},
   "source": [
    "## Extract Transfrom by Polars"
   ]
  },
  {
   "cell_type": "code",
   "execution_count": 1,
   "metadata": {},
   "outputs": [],
   "source": [
    "import polars as pl"
   ]
  },
  {
   "cell_type": "code",
   "execution_count": 4,
   "metadata": {},
   "outputs": [],
   "source": [
    "import numpy as np\n",
    "df = pl.DataFrame(\n",
    "{\n",
    "\"nrs\": [1, 2, 3, None, 5],\n",
    "\"names\": [\"foo\", \"ham\", \"spam\", \"egg\", None],\n",
    "\"random\": np.random.rand(5),\n",
    "\"groups\": [\"A\", \"A\", \"B\", \"C\", \"B\"],\n",
    "}\n",
    ")\n"
   ]
  },
  {
   "cell_type": "code",
   "execution_count": 6,
   "metadata": {},
   "outputs": [
    {
     "data": {
      "text/html": [
       "<div><style>\n",
       ".dataframe > thead > tr,\n",
       ".dataframe > tbody > tr {\n",
       "  text-align: right;\n",
       "  white-space: pre-wrap;\n",
       "}\n",
       "</style>\n",
       "<small>shape: (5, 4)</small><table border=\"1\" class=\"dataframe\"><thead><tr><th>nrs</th><th>names</th><th>random</th><th>groups</th></tr><tr><td>i64</td><td>str</td><td>f64</td><td>str</td></tr></thead><tbody><tr><td>1</td><td>&quot;foo&quot;</td><td>0.904315</td><td>&quot;A&quot;</td></tr><tr><td>2</td><td>&quot;ham&quot;</td><td>0.266527</td><td>&quot;A&quot;</td></tr><tr><td>3</td><td>&quot;spam&quot;</td><td>0.015447</td><td>&quot;B&quot;</td></tr><tr><td>null</td><td>&quot;egg&quot;</td><td>0.034989</td><td>&quot;C&quot;</td></tr><tr><td>5</td><td>null</td><td>0.679349</td><td>&quot;B&quot;</td></tr></tbody></table></div>"
      ],
      "text/plain": [
       "shape: (5, 4)\n",
       "┌──────┬───────┬──────────┬────────┐\n",
       "│ nrs  ┆ names ┆ random   ┆ groups │\n",
       "│ ---  ┆ ---   ┆ ---      ┆ ---    │\n",
       "│ i64  ┆ str   ┆ f64      ┆ str    │\n",
       "╞══════╪═══════╪══════════╪════════╡\n",
       "│ 1    ┆ foo   ┆ 0.904315 ┆ A      │\n",
       "│ 2    ┆ ham   ┆ 0.266527 ┆ A      │\n",
       "│ 3    ┆ spam  ┆ 0.015447 ┆ B      │\n",
       "│ null ┆ egg   ┆ 0.034989 ┆ C      │\n",
       "│ 5    ┆ null  ┆ 0.679349 ┆ B      │\n",
       "└──────┴───────┴──────────┴────────┘"
      ]
     },
     "execution_count": 6,
     "metadata": {},
     "output_type": "execute_result"
    }
   ],
   "source": [
    "\n",
    "df"
   ]
  },
  {
   "cell_type": "code",
   "execution_count": 9,
   "metadata": {},
   "outputs": [
    {
     "data": {
      "text/html": [
       "<div><style>\n",
       ".dataframe > thead > tr,\n",
       ".dataframe > tbody > tr {\n",
       "  text-align: right;\n",
       "  white-space: pre-wrap;\n",
       "}\n",
       "</style>\n",
       "<small>shape: (5, 4)</small><table border=\"1\" class=\"dataframe\"><thead><tr><th>nrs</th><th>names</th><th>random</th><th>groups</th></tr><tr><td>i64</td><td>str</td><td>f64</td><td>str</td></tr></thead><tbody><tr><td>5</td><td>null</td><td>0.679349</td><td>&quot;B&quot;</td></tr><tr><td>3</td><td>&quot;spam&quot;</td><td>0.015447</td><td>&quot;B&quot;</td></tr><tr><td>2</td><td>&quot;ham&quot;</td><td>0.266527</td><td>&quot;A&quot;</td></tr><tr><td>1</td><td>&quot;foo&quot;</td><td>0.904315</td><td>&quot;A&quot;</td></tr><tr><td>null</td><td>&quot;egg&quot;</td><td>0.034989</td><td>&quot;C&quot;</td></tr></tbody></table></div>"
      ],
      "text/plain": [
       "shape: (5, 4)\n",
       "┌──────┬───────┬──────────┬────────┐\n",
       "│ nrs  ┆ names ┆ random   ┆ groups │\n",
       "│ ---  ┆ ---   ┆ ---      ┆ ---    │\n",
       "│ i64  ┆ str   ┆ f64      ┆ str    │\n",
       "╞══════╪═══════╪══════════╪════════╡\n",
       "│ 5    ┆ null  ┆ 0.679349 ┆ B      │\n",
       "│ 3    ┆ spam  ┆ 0.015447 ┆ B      │\n",
       "│ 2    ┆ ham   ┆ 0.266527 ┆ A      │\n",
       "│ 1    ┆ foo   ┆ 0.904315 ┆ A      │\n",
       "│ null ┆ egg   ┆ 0.034989 ┆ C      │\n",
       "└──────┴───────┴──────────┴────────┘"
      ]
     },
     "execution_count": 9,
     "metadata": {},
     "output_type": "execute_result"
    }
   ],
   "source": [
    "df.sort(by ='nrs',descending=True,nulls_last = True)\n",
    "#Descending = เรียงจากมากไปน้อย\n",
    "# True = ใช้ , fault = ไม่ใช้"
   ]
  },
  {
   "cell_type": "code",
   "execution_count": 13,
   "metadata": {},
   "outputs": [
    {
     "data": {
      "text/html": [
       "<div><style>\n",
       ".dataframe > thead > tr,\n",
       ".dataframe > tbody > tr {\n",
       "  text-align: right;\n",
       "  white-space: pre-wrap;\n",
       "}\n",
       "</style>\n",
       "<small>shape: (5, 4)</small><table border=\"1\" class=\"dataframe\"><thead><tr><th>nrs</th><th>names</th><th>random</th><th>groups</th></tr><tr><td>i64</td><td>str</td><td>f64</td><td>str</td></tr></thead><tbody><tr><td>5</td><td>&quot;foo&quot;</td><td>0.904315</td><td>&quot;A&quot;</td></tr><tr><td>3</td><td>&quot;ham&quot;</td><td>0.266527</td><td>&quot;A&quot;</td></tr><tr><td>2</td><td>&quot;spam&quot;</td><td>0.015447</td><td>&quot;B&quot;</td></tr><tr><td>1</td><td>&quot;egg&quot;</td><td>0.034989</td><td>&quot;C&quot;</td></tr><tr><td>null</td><td>null</td><td>0.679349</td><td>&quot;B&quot;</td></tr></tbody></table></div>"
      ],
      "text/plain": [
       "shape: (5, 4)\n",
       "┌──────┬───────┬──────────┬────────┐\n",
       "│ nrs  ┆ names ┆ random   ┆ groups │\n",
       "│ ---  ┆ ---   ┆ ---      ┆ ---    │\n",
       "│ i64  ┆ str   ┆ f64      ┆ str    │\n",
       "╞══════╪═══════╪══════════╪════════╡\n",
       "│ 5    ┆ foo   ┆ 0.904315 ┆ A      │\n",
       "│ 3    ┆ ham   ┆ 0.266527 ┆ A      │\n",
       "│ 2    ┆ spam  ┆ 0.015447 ┆ B      │\n",
       "│ 1    ┆ egg   ┆ 0.034989 ┆ C      │\n",
       "│ null ┆ null  ┆ 0.679349 ┆ B      │\n",
       "└──────┴───────┴──────────┴────────┘"
      ]
     },
     "execution_count": 13,
     "metadata": {},
     "output_type": "execute_result"
    }
   ],
   "source": [
    "df_n = df.with_columns(pl.col('nrs').sort(descending=True,nulls_last = True))\n",
    "df_n"
   ]
  },
  {
   "cell_type": "code",
   "execution_count": 18,
   "metadata": {},
   "outputs": [
    {
     "data": {
      "text/html": [
       "<div><style>\n",
       ".dataframe > thead > tr,\n",
       ".dataframe > tbody > tr {\n",
       "  text-align: right;\n",
       "  white-space: pre-wrap;\n",
       "}\n",
       "</style>\n",
       "<small>shape: (1, 1)</small><table border=\"1\" class=\"dataframe\"><thead><tr><th>random</th></tr><tr><td>f64</td></tr></thead><tbody><tr><td>0.380125</td></tr></tbody></table></div>"
      ],
      "text/plain": [
       "shape: (1, 1)\n",
       "┌──────────┐\n",
       "│ random   │\n",
       "│ ---      │\n",
       "│ f64      │\n",
       "╞══════════╡\n",
       "│ 0.380125 │\n",
       "└──────────┘"
      ]
     },
     "execution_count": 18,
     "metadata": {},
     "output_type": "execute_result"
    }
   ],
   "source": [
    "df_n.select(pl.mean('random'))\n",
    "# mean ที่เป็นฟังก์ชัน"
   ]
  },
  {
   "cell_type": "code",
   "execution_count": 19,
   "metadata": {},
   "outputs": [
    {
     "data": {
      "text/html": [
       "<div><style>\n",
       ".dataframe > thead > tr,\n",
       ".dataframe > tbody > tr {\n",
       "  text-align: right;\n",
       "  white-space: pre-wrap;\n",
       "}\n",
       "</style>\n",
       "<small>shape: (5, 2)</small><table border=\"1\" class=\"dataframe\"><thead><tr><th>new1</th><th>new2</th></tr><tr><td>i64</td><td>i64</td></tr></thead><tbody><tr><td>6</td><td>-2</td></tr><tr><td>7</td><td>-1</td></tr><tr><td>8</td><td>0</td></tr><tr><td>null</td><td>null</td></tr><tr><td>10</td><td>2</td></tr></tbody></table></div>"
      ],
      "text/plain": [
       "shape: (5, 2)\n",
       "┌──────┬──────┐\n",
       "│ new1 ┆ new2 │\n",
       "│ ---  ┆ ---  │\n",
       "│ i64  ┆ i64  │\n",
       "╞══════╪══════╡\n",
       "│ 6    ┆ -2   │\n",
       "│ 7    ┆ -1   │\n",
       "│ 8    ┆ 0    │\n",
       "│ null ┆ null │\n",
       "│ 10   ┆ 2    │\n",
       "└──────┴──────┘"
      ]
     },
     "execution_count": 19,
     "metadata": {},
     "output_type": "execute_result"
    }
   ],
   "source": [
    "df_n = df.select(\n",
    "    (pl.col('nrs')+5).alias('new1'),\n",
    "    (pl.col('nrs')-3).alias('new2')\n",
    ")\n",
    "df_n"
   ]
  },
  {
   "cell_type": "code",
   "execution_count": 20,
   "metadata": {},
   "outputs": [
    {
     "data": {
      "text/html": [
       "<div><style>\n",
       ".dataframe > thead > tr,\n",
       ".dataframe > tbody > tr {\n",
       "  text-align: right;\n",
       "  white-space: pre-wrap;\n",
       "}\n",
       "</style>\n",
       "<small>shape: (5, 6)</small><table border=\"1\" class=\"dataframe\"><thead><tr><th>nrs</th><th>names</th><th>random</th><th>groups</th><th>new1</th><th>new2</th></tr><tr><td>i64</td><td>str</td><td>f64</td><td>str</td><td>i64</td><td>i64</td></tr></thead><tbody><tr><td>1</td><td>&quot;foo&quot;</td><td>0.904315</td><td>&quot;A&quot;</td><td>6</td><td>-2</td></tr><tr><td>2</td><td>&quot;ham&quot;</td><td>0.266527</td><td>&quot;A&quot;</td><td>7</td><td>-1</td></tr><tr><td>3</td><td>&quot;spam&quot;</td><td>0.015447</td><td>&quot;B&quot;</td><td>8</td><td>0</td></tr><tr><td>null</td><td>&quot;egg&quot;</td><td>0.034989</td><td>&quot;C&quot;</td><td>null</td><td>null</td></tr><tr><td>5</td><td>null</td><td>0.679349</td><td>&quot;B&quot;</td><td>10</td><td>2</td></tr></tbody></table></div>"
      ],
      "text/plain": [
       "shape: (5, 6)\n",
       "┌──────┬───────┬──────────┬────────┬──────┬──────┐\n",
       "│ nrs  ┆ names ┆ random   ┆ groups ┆ new1 ┆ new2 │\n",
       "│ ---  ┆ ---   ┆ ---      ┆ ---    ┆ ---  ┆ ---  │\n",
       "│ i64  ┆ str   ┆ f64      ┆ str    ┆ i64  ┆ i64  │\n",
       "╞══════╪═══════╪══════════╪════════╪══════╪══════╡\n",
       "│ 1    ┆ foo   ┆ 0.904315 ┆ A      ┆ 6    ┆ -2   │\n",
       "│ 2    ┆ ham   ┆ 0.266527 ┆ A      ┆ 7    ┆ -1   │\n",
       "│ 3    ┆ spam  ┆ 0.015447 ┆ B      ┆ 8    ┆ 0    │\n",
       "│ null ┆ egg   ┆ 0.034989 ┆ C      ┆ null ┆ null │\n",
       "│ 5    ┆ null  ┆ 0.679349 ┆ B      ┆ 10   ┆ 2    │\n",
       "└──────┴───────┴──────────┴────────┴──────┴──────┘"
      ]
     },
     "execution_count": 20,
     "metadata": {},
     "output_type": "execute_result"
    }
   ],
   "source": [
    "df_n = df.with_columns(\n",
    "    (pl.col('nrs')+5).alias('new1'),\n",
    "    (pl.col('nrs')-3).alias('new2')\n",
    ")\n",
    "df_n\n",
    "\n",
    "# ตารางเดิม(dataframe)ไม่หาย \n",
    "# ถ้าไม่มี alias มันจะไปแทนที่"
   ]
  },
  {
   "cell_type": "code",
   "execution_count": 23,
   "metadata": {},
   "outputs": [
    {
     "data": {
      "text/html": [
       "<div><style>\n",
       ".dataframe > thead > tr,\n",
       ".dataframe > tbody > tr {\n",
       "  text-align: right;\n",
       "  white-space: pre-wrap;\n",
       "}\n",
       "</style>\n",
       "<small>shape: (5, 2)</small><table border=\"1\" class=\"dataframe\"><thead><tr><th>nrs</th><th>random</th></tr><tr><td>i64</td><td>f64</td></tr></thead><tbody><tr><td>1</td><td>0.904315</td></tr><tr><td>2</td><td>0.266527</td></tr><tr><td>3</td><td>0.015447</td></tr><tr><td>null</td><td>0.034989</td></tr><tr><td>5</td><td>0.679349</td></tr></tbody></table></div>"
      ],
      "text/plain": [
       "shape: (5, 2)\n",
       "┌──────┬──────────┐\n",
       "│ nrs  ┆ random   │\n",
       "│ ---  ┆ ---      │\n",
       "│ i64  ┆ f64      │\n",
       "╞══════╪══════════╡\n",
       "│ 1    ┆ 0.904315 │\n",
       "│ 2    ┆ 0.266527 │\n",
       "│ 3    ┆ 0.015447 │\n",
       "│ null ┆ 0.034989 │\n",
       "│ 5    ┆ 0.679349 │\n",
       "└──────┴──────────┘"
      ]
     },
     "execution_count": 23,
     "metadata": {},
     "output_type": "execute_result"
    }
   ],
   "source": [
    "df_ns = df.select(pl.col('*').exclude(pl.String))\n",
    "df_ns\n",
    "# เอาหมดยกเว้น str"
   ]
  },
  {
   "cell_type": "code",
   "execution_count": 25,
   "metadata": {},
   "outputs": [
    {
     "data": {
      "text/html": [
       "<div><style>\n",
       ".dataframe > thead > tr,\n",
       ".dataframe > tbody > tr {\n",
       "  text-align: right;\n",
       "  white-space: pre-wrap;\n",
       "}\n",
       "</style>\n",
       "<small>shape: (5, 2)</small><table border=\"1\" class=\"dataframe\"><thead><tr><th>nrs</th><th>random</th></tr><tr><td>i64</td><td>f64</td></tr></thead><tbody><tr><td>1</td><td>0.904315</td></tr><tr><td>2</td><td>0.266527</td></tr><tr><td>3</td><td>0.015447</td></tr><tr><td>null</td><td>0.034989</td></tr><tr><td>5</td><td>0.679349</td></tr></tbody></table></div>"
      ],
      "text/plain": [
       "shape: (5, 2)\n",
       "┌──────┬──────────┐\n",
       "│ nrs  ┆ random   │\n",
       "│ ---  ┆ ---      │\n",
       "│ i64  ┆ f64      │\n",
       "╞══════╪══════════╡\n",
       "│ 1    ┆ 0.904315 │\n",
       "│ 2    ┆ 0.266527 │\n",
       "│ 3    ┆ 0.015447 │\n",
       "│ null ┆ 0.034989 │\n",
       "│ 5    ┆ 0.679349 │\n",
       "└──────┴──────────┘"
      ]
     },
     "execution_count": 25,
     "metadata": {},
     "output_type": "execute_result"
    }
   ],
   "source": [
    "df_ns2 = df.select(pl.col(pl.INTEGER_DTYPES))\n",
    "df_ns\n",
    "# เอาแค่ Int"
   ]
  },
  {
   "cell_type": "code",
   "execution_count": 26,
   "metadata": {},
   "outputs": [
    {
     "data": {
      "text/html": [
       "<div><style>\n",
       ".dataframe > thead > tr,\n",
       ".dataframe > tbody > tr {\n",
       "  text-align: right;\n",
       "  white-space: pre-wrap;\n",
       "}\n",
       "</style>\n",
       "<small>shape: (5, 5)</small><table border=\"1\" class=\"dataframe\"><thead><tr><th>index</th><th>nrs</th><th>names</th><th>random</th><th>groups</th></tr><tr><td>u32</td><td>i64</td><td>str</td><td>f64</td><td>str</td></tr></thead><tbody><tr><td>0</td><td>1</td><td>&quot;foo&quot;</td><td>0.904315</td><td>&quot;A&quot;</td></tr><tr><td>1</td><td>2</td><td>&quot;ham&quot;</td><td>0.266527</td><td>&quot;A&quot;</td></tr><tr><td>2</td><td>3</td><td>&quot;spam&quot;</td><td>0.015447</td><td>&quot;B&quot;</td></tr><tr><td>3</td><td>null</td><td>&quot;egg&quot;</td><td>0.034989</td><td>&quot;C&quot;</td></tr><tr><td>4</td><td>5</td><td>null</td><td>0.679349</td><td>&quot;B&quot;</td></tr></tbody></table></div>"
      ],
      "text/plain": [
       "shape: (5, 5)\n",
       "┌───────┬──────┬───────┬──────────┬────────┐\n",
       "│ index ┆ nrs  ┆ names ┆ random   ┆ groups │\n",
       "│ ---   ┆ ---  ┆ ---   ┆ ---      ┆ ---    │\n",
       "│ u32   ┆ i64  ┆ str   ┆ f64      ┆ str    │\n",
       "╞═══════╪══════╪═══════╪══════════╪════════╡\n",
       "│ 0     ┆ 1    ┆ foo   ┆ 0.904315 ┆ A      │\n",
       "│ 1     ┆ 2    ┆ ham   ┆ 0.266527 ┆ A      │\n",
       "│ 2     ┆ 3    ┆ spam  ┆ 0.015447 ┆ B      │\n",
       "│ 3     ┆ null ┆ egg   ┆ 0.034989 ┆ C      │\n",
       "│ 4     ┆ 5    ┆ null  ┆ 0.679349 ┆ B      │\n",
       "└───────┴──────┴───────┴──────────┴────────┘"
      ]
     },
     "execution_count": 26,
     "metadata": {},
     "output_type": "execute_result"
    }
   ],
   "source": [
    "df_n = df.with_row_index('index')\n",
    "df_n\n",
    "# สร้าง index ขึ้นมา"
   ]
  },
  {
   "cell_type": "code",
   "execution_count": 27,
   "metadata": {},
   "outputs": [
    {
     "data": {
      "text/html": [
       "<div><style>\n",
       ".dataframe > thead > tr,\n",
       ".dataframe > tbody > tr {\n",
       "  text-align: right;\n",
       "  white-space: pre-wrap;\n",
       "}\n",
       "</style>\n",
       "<small>shape: (5, 4)</small><table border=\"1\" class=\"dataframe\"><thead><tr><th>nrs</th><th>names</th><th>random</th><th>groups</th></tr><tr><td>i64</td><td>str</td><td>f64</td><td>str</td></tr></thead><tbody><tr><td>1</td><td>&quot;foo&quot;</td><td>0.904315</td><td>&quot;A&quot;</td></tr><tr><td>2</td><td>&quot;ham&quot;</td><td>0.266527</td><td>&quot;A&quot;</td></tr><tr><td>3</td><td>&quot;spam&quot;</td><td>0.015447</td><td>&quot;B&quot;</td></tr><tr><td>null</td><td>&quot;egg&quot;</td><td>0.034989</td><td>&quot;C&quot;</td></tr><tr><td>5</td><td>null</td><td>0.679349</td><td>&quot;B&quot;</td></tr></tbody></table></div>"
      ],
      "text/plain": [
       "shape: (5, 4)\n",
       "┌──────┬───────┬──────────┬────────┐\n",
       "│ nrs  ┆ names ┆ random   ┆ groups │\n",
       "│ ---  ┆ ---   ┆ ---      ┆ ---    │\n",
       "│ i64  ┆ str   ┆ f64      ┆ str    │\n",
       "╞══════╪═══════╪══════════╪════════╡\n",
       "│ 1    ┆ foo   ┆ 0.904315 ┆ A      │\n",
       "│ 2    ┆ ham   ┆ 0.266527 ┆ A      │\n",
       "│ 3    ┆ spam  ┆ 0.015447 ┆ B      │\n",
       "│ null ┆ egg   ┆ 0.034989 ┆ C      │\n",
       "│ 5    ┆ null  ┆ 0.679349 ┆ B      │\n",
       "└──────┴───────┴──────────┴────────┘"
      ]
     },
     "execution_count": 27,
     "metadata": {},
     "output_type": "execute_result"
    }
   ],
   "source": [
    "df"
   ]
  },
  {
   "cell_type": "code",
   "execution_count": 29,
   "metadata": {},
   "outputs": [
    {
     "data": {
      "text/html": [
       "<div><style>\n",
       ".dataframe > thead > tr,\n",
       ".dataframe > tbody > tr {\n",
       "  text-align: right;\n",
       "  white-space: pre-wrap;\n",
       "}\n",
       "</style>\n",
       "<small>shape: (3, 4)</small><table border=\"1\" class=\"dataframe\"><thead><tr><th>nrs</th><th>names</th><th>random</th><th>groups</th></tr><tr><td>i64</td><td>str</td><td>f64</td><td>str</td></tr></thead><tbody><tr><td>1</td><td>&quot;foo&quot;</td><td>0.904315</td><td>&quot;A&quot;</td></tr><tr><td>2</td><td>&quot;ham&quot;</td><td>0.266527</td><td>&quot;A&quot;</td></tr><tr><td>3</td><td>&quot;spam&quot;</td><td>0.015447</td><td>&quot;B&quot;</td></tr></tbody></table></div>"
      ],
      "text/plain": [
       "shape: (3, 4)\n",
       "┌─────┬───────┬──────────┬────────┐\n",
       "│ nrs ┆ names ┆ random   ┆ groups │\n",
       "│ --- ┆ ---   ┆ ---      ┆ ---    │\n",
       "│ i64 ┆ str   ┆ f64      ┆ str    │\n",
       "╞═════╪═══════╪══════════╪════════╡\n",
       "│ 1   ┆ foo   ┆ 0.904315 ┆ A      │\n",
       "│ 2   ┆ ham   ┆ 0.266527 ┆ A      │\n",
       "│ 3   ┆ spam  ┆ 0.015447 ┆ B      │\n",
       "└─────┴───────┴──────────┴────────┘"
      ]
     },
     "execution_count": 29,
     "metadata": {},
     "output_type": "execute_result"
    }
   ],
   "source": [
    "df_n = df.slice(0,3)\n",
    "df_n"
   ]
  },
  {
   "cell_type": "code",
   "execution_count": 30,
   "metadata": {},
   "outputs": [
    {
     "name": "stdout",
     "output_type": "stream",
     "text": [
      "shape: (3, 2)\n",
      "┌─────────────┬─────────┐\n",
      "│ customer_id ┆ name    │\n",
      "│ ---         ┆ ---     │\n",
      "│ i64         ┆ str     │\n",
      "╞═════════════╪═════════╡\n",
      "│ 1           ┆ Alice   │\n",
      "│ 2           ┆ Bob     │\n",
      "│ 3           ┆ Charlie │\n",
      "└─────────────┴─────────┘\n",
      "shape: (3, 3)\n",
      "┌──────────┬─────────────┬────────┐\n",
      "│ order_id ┆ customer_id ┆ amount │\n",
      "│ ---      ┆ ---         ┆ ---    │\n",
      "│ str      ┆ i64         ┆ i64    │\n",
      "╞══════════╪═════════════╪════════╡\n",
      "│ a        ┆ 1           ┆ 100    │\n",
      "│ b        ┆ 2           ┆ 200    │\n",
      "│ c        ┆ 2           ┆ 300    │\n",
      "└──────────┴─────────────┴────────┘\n"
     ]
    }
   ],
   "source": [
    "# Create customer dataframe\n",
    "df_customers = pl.DataFrame(\n",
    "{\n",
    "\"customer_id\": [1, 2, 3],\n",
    "\"name\": [\"Alice\", \"Bob\", \"Charlie\"],\n",
    "}\n",
    ")\n",
    "print(df_customers)\n",
    "df_orders = pl.DataFrame(\n",
    "{\n",
    "\"order_id\": [\"a\", \"b\", \"c\"],\n",
    "\"customer_id\": [1, 2, 2],\n",
    "\"amount\": [100, 200, 300],\n",
    "}\n",
    ")\n",
    "print(df_orders)"
   ]
  },
  {
   "cell_type": "code",
   "execution_count": 31,
   "metadata": {},
   "outputs": [
    {
     "name": "stdout",
     "output_type": "stream",
     "text": [
      "shape: (3, 4)\n",
      "┌─────────────┬───────┬──────────┬────────┐\n",
      "│ customer_id ┆ name  ┆ order_id ┆ amount │\n",
      "│ ---         ┆ ---   ┆ ---      ┆ ---    │\n",
      "│ i64         ┆ str   ┆ str      ┆ i64    │\n",
      "╞═════════════╪═══════╪══════════╪════════╡\n",
      "│ 1           ┆ Alice ┆ a        ┆ 100    │\n",
      "│ 2           ┆ Bob   ┆ b        ┆ 200    │\n",
      "│ 2           ┆ Bob   ┆ c        ┆ 300    │\n",
      "└─────────────┴───────┴──────────┴────────┘\n"
     ]
    }
   ],
   "source": [
    "df_inner_customer_join = df_customers.join(df_orders,\n",
    "on=\"customer_id\", how=\"inner\")\n",
    "print(df_inner_customer_join)"
   ]
  },
  {
   "cell_type": "code",
   "execution_count": 33,
   "metadata": {},
   "outputs": [
    {
     "data": {
      "text/html": [
       "<div><style>\n",
       ".dataframe > thead > tr,\n",
       ".dataframe > tbody > tr {\n",
       "  text-align: right;\n",
       "  white-space: pre-wrap;\n",
       "}\n",
       "</style>\n",
       "<small>shape: (3, 4)</small><table border=\"1\" class=\"dataframe\"><thead><tr><th>customer_id</th><th>name</th><th>order_id</th><th>amount</th></tr><tr><td>i64</td><td>str</td><td>str</td><td>i64</td></tr></thead><tbody><tr><td>1</td><td>&quot;Alice&quot;</td><td>&quot;a&quot;</td><td>100</td></tr><tr><td>2</td><td>&quot;Bob&quot;</td><td>&quot;b&quot;</td><td>200</td></tr><tr><td>2</td><td>&quot;Bob&quot;</td><td>&quot;c&quot;</td><td>300</td></tr></tbody></table></div>"
      ],
      "text/plain": [
       "shape: (3, 4)\n",
       "┌─────────────┬───────┬──────────┬────────┐\n",
       "│ customer_id ┆ name  ┆ order_id ┆ amount │\n",
       "│ ---         ┆ ---   ┆ ---      ┆ ---    │\n",
       "│ i64         ┆ str   ┆ str      ┆ i64    │\n",
       "╞═════════════╪═══════╪══════════╪════════╡\n",
       "│ 1           ┆ Alice ┆ a        ┆ 100    │\n",
       "│ 2           ┆ Bob   ┆ b        ┆ 200    │\n",
       "│ 2           ┆ Bob   ┆ c        ┆ 300    │\n",
       "└─────────────┴───────┴──────────┴────────┘"
      ]
     },
     "execution_count": 33,
     "metadata": {},
     "output_type": "execute_result"
    }
   ],
   "source": [
    "df_join = df_customers.join(df_orders,on='customer_id',how='inner')\n",
    "df_join"
   ]
  },
  {
   "cell_type": "code",
   "execution_count": 34,
   "metadata": {},
   "outputs": [
    {
     "name": "stderr",
     "output_type": "stream",
     "text": [
      "C:\\Users\\Admin\\AppData\\Local\\Temp\\ipykernel_5096\\443886179.py:1: DeprecationWarning: The default coalesce behavior of left join will change to `False` in the next breaking release. Pass `coalesce=True` to keep the current behavior and silence this warning.\n",
      "  df_join = df_customers.join(df_orders,on='customer_id',how='left')\n"
     ]
    },
    {
     "data": {
      "text/html": [
       "<div><style>\n",
       ".dataframe > thead > tr,\n",
       ".dataframe > tbody > tr {\n",
       "  text-align: right;\n",
       "  white-space: pre-wrap;\n",
       "}\n",
       "</style>\n",
       "<small>shape: (4, 4)</small><table border=\"1\" class=\"dataframe\"><thead><tr><th>customer_id</th><th>name</th><th>order_id</th><th>amount</th></tr><tr><td>i64</td><td>str</td><td>str</td><td>i64</td></tr></thead><tbody><tr><td>1</td><td>&quot;Alice&quot;</td><td>&quot;a&quot;</td><td>100</td></tr><tr><td>2</td><td>&quot;Bob&quot;</td><td>&quot;b&quot;</td><td>200</td></tr><tr><td>2</td><td>&quot;Bob&quot;</td><td>&quot;c&quot;</td><td>300</td></tr><tr><td>3</td><td>&quot;Charlie&quot;</td><td>null</td><td>null</td></tr></tbody></table></div>"
      ],
      "text/plain": [
       "shape: (4, 4)\n",
       "┌─────────────┬─────────┬──────────┬────────┐\n",
       "│ customer_id ┆ name    ┆ order_id ┆ amount │\n",
       "│ ---         ┆ ---     ┆ ---      ┆ ---    │\n",
       "│ i64         ┆ str     ┆ str      ┆ i64    │\n",
       "╞═════════════╪═════════╪══════════╪════════╡\n",
       "│ 1           ┆ Alice   ┆ a        ┆ 100    │\n",
       "│ 2           ┆ Bob     ┆ b        ┆ 200    │\n",
       "│ 2           ┆ Bob     ┆ c        ┆ 300    │\n",
       "│ 3           ┆ Charlie ┆ null     ┆ null   │\n",
       "└─────────────┴─────────┴──────────┴────────┘"
      ]
     },
     "execution_count": 34,
     "metadata": {},
     "output_type": "execute_result"
    }
   ],
   "source": [
    "df_join = df_customers.join(df_orders,on='customer_id',how='left')\n",
    "df_join"
   ]
  },
  {
   "cell_type": "code",
   "execution_count": 37,
   "metadata": {},
   "outputs": [
    {
     "data": {
      "text/html": [
       "<div><style>\n",
       ".dataframe > thead > tr,\n",
       ".dataframe > tbody > tr {\n",
       "  text-align: right;\n",
       "  white-space: pre-wrap;\n",
       "}\n",
       "</style>\n",
       "<small>shape: (4, 5)</small><table border=\"1\" class=\"dataframe\"><thead><tr><th>customer_id</th><th>name</th><th>order_id</th><th>customer_id_right</th><th>amount</th></tr><tr><td>i64</td><td>str</td><td>str</td><td>i64</td><td>i64</td></tr></thead><tbody><tr><td>1</td><td>&quot;Alice&quot;</td><td>&quot;a&quot;</td><td>1</td><td>100</td></tr><tr><td>2</td><td>&quot;Bob&quot;</td><td>&quot;b&quot;</td><td>2</td><td>200</td></tr><tr><td>2</td><td>&quot;Bob&quot;</td><td>&quot;c&quot;</td><td>2</td><td>300</td></tr><tr><td>3</td><td>&quot;Charlie&quot;</td><td>null</td><td>null</td><td>null</td></tr></tbody></table></div>"
      ],
      "text/plain": [
       "shape: (4, 5)\n",
       "┌─────────────┬─────────┬──────────┬───────────────────┬────────┐\n",
       "│ customer_id ┆ name    ┆ order_id ┆ customer_id_right ┆ amount │\n",
       "│ ---         ┆ ---     ┆ ---      ┆ ---               ┆ ---    │\n",
       "│ i64         ┆ str     ┆ str      ┆ i64               ┆ i64    │\n",
       "╞═════════════╪═════════╪══════════╪═══════════════════╪════════╡\n",
       "│ 1           ┆ Alice   ┆ a        ┆ 1                 ┆ 100    │\n",
       "│ 2           ┆ Bob     ┆ b        ┆ 2                 ┆ 200    │\n",
       "│ 2           ┆ Bob     ┆ c        ┆ 2                 ┆ 300    │\n",
       "│ 3           ┆ Charlie ┆ null     ┆ null              ┆ null   │\n",
       "└─────────────┴─────────┴──────────┴───────────────────┴────────┘"
      ]
     },
     "execution_count": 37,
     "metadata": {},
     "output_type": "execute_result"
    }
   ],
   "source": [
    "df_join = df_customers.join(df_orders,on='customer_id',how='full')\n",
    "df_join\n",
    "# สลับตารางเปลี่ยน left/right ได้"
   ]
  },
  {
   "cell_type": "markdown",
   "metadata": {},
   "source": [
    "## Dataframe pip"
   ]
  },
  {
   "cell_type": "code",
   "execution_count": 38,
   "metadata": {},
   "outputs": [],
   "source": [
    "# Create a DataFrame\n",
    "df = pl.DataFrame({\n",
    "'A': [1, 2, 3],\n",
    "'B': [4, 5, 6]\n",
    "})"
   ]
  },
  {
   "cell_type": "code",
   "execution_count": 39,
   "metadata": {},
   "outputs": [
    {
     "data": {
      "text/html": [
       "<div><style>\n",
       ".dataframe > thead > tr,\n",
       ".dataframe > tbody > tr {\n",
       "  text-align: right;\n",
       "  white-space: pre-wrap;\n",
       "}\n",
       "</style>\n",
       "<small>shape: (3, 2)</small><table border=\"1\" class=\"dataframe\"><thead><tr><th>A</th><th>B</th></tr><tr><td>i64</td><td>i64</td></tr></thead><tbody><tr><td>1</td><td>4</td></tr><tr><td>2</td><td>5</td></tr><tr><td>3</td><td>6</td></tr></tbody></table></div>"
      ],
      "text/plain": [
       "shape: (3, 2)\n",
       "┌─────┬─────┐\n",
       "│ A   ┆ B   │\n",
       "│ --- ┆ --- │\n",
       "│ i64 ┆ i64 │\n",
       "╞═════╪═════╡\n",
       "│ 1   ┆ 4   │\n",
       "│ 2   ┆ 5   │\n",
       "│ 3   ┆ 6   │\n",
       "└─────┴─────┘"
      ]
     },
     "execution_count": 39,
     "metadata": {},
     "output_type": "execute_result"
    }
   ],
   "source": [
    "df"
   ]
  },
  {
   "cell_type": "code",
   "execution_count": 48,
   "metadata": {},
   "outputs": [],
   "source": [
    "def add_column(df) :\n",
    "    df_n = df.with_columns((pl.col('A')+pl.col('B')).alias('C'))\n",
    "    return df_n\n",
    "\n",
    "def multiply_column(df) :\n",
    "    df_n = df.with_columns((pl.col('A')+pl.col('B')).alias('CC'))\n",
    "    return df_n"
   ]
  },
  {
   "cell_type": "code",
   "execution_count": 49,
   "metadata": {},
   "outputs": [
    {
     "data": {
      "text/html": [
       "<div><style>\n",
       ".dataframe > thead > tr,\n",
       ".dataframe > tbody > tr {\n",
       "  text-align: right;\n",
       "  white-space: pre-wrap;\n",
       "}\n",
       "</style>\n",
       "<small>shape: (3, 4)</small><table border=\"1\" class=\"dataframe\"><thead><tr><th>A</th><th>B</th><th>C</th><th>CC</th></tr><tr><td>i64</td><td>i64</td><td>i64</td><td>i64</td></tr></thead><tbody><tr><td>1</td><td>4</td><td>5</td><td>5</td></tr><tr><td>2</td><td>5</td><td>7</td><td>7</td></tr><tr><td>3</td><td>6</td><td>9</td><td>9</td></tr></tbody></table></div>"
      ],
      "text/plain": [
       "shape: (3, 4)\n",
       "┌─────┬─────┬─────┬─────┐\n",
       "│ A   ┆ B   ┆ C   ┆ CC  │\n",
       "│ --- ┆ --- ┆ --- ┆ --- │\n",
       "│ i64 ┆ i64 ┆ i64 ┆ i64 │\n",
       "╞═════╪═════╪═════╪═════╡\n",
       "│ 1   ┆ 4   ┆ 5   ┆ 5   │\n",
       "│ 2   ┆ 5   ┆ 7   ┆ 7   │\n",
       "│ 3   ┆ 6   ┆ 9   ┆ 9   │\n",
       "└─────┴─────┴─────┴─────┘"
      ]
     },
     "execution_count": 49,
     "metadata": {},
     "output_type": "execute_result"
    }
   ],
   "source": [
    "df_transfromed = (\n",
    "    df.pipe(add_column)\n",
    "    .pipe(multiply_column)\n",
    ")\n",
    "df_transfromed"
   ]
  },
  {
   "cell_type": "code",
   "execution_count": 50,
   "metadata": {},
   "outputs": [
    {
     "data": {
      "text/html": [
       "<div><style>\n",
       ".dataframe > thead > tr,\n",
       ".dataframe > tbody > tr {\n",
       "  text-align: right;\n",
       "  white-space: pre-wrap;\n",
       "}\n",
       "</style>\n",
       "<small>shape: (3, 4)</small><table border=\"1\" class=\"dataframe\"><thead><tr><th>A</th><th>B</th><th>CC</th><th>C</th></tr><tr><td>i64</td><td>i64</td><td>i64</td><td>i64</td></tr></thead><tbody><tr><td>1</td><td>4</td><td>5</td><td>5</td></tr><tr><td>2</td><td>5</td><td>7</td><td>7</td></tr><tr><td>3</td><td>6</td><td>9</td><td>9</td></tr></tbody></table></div>"
      ],
      "text/plain": [
       "shape: (3, 4)\n",
       "┌─────┬─────┬─────┬─────┐\n",
       "│ A   ┆ B   ┆ CC  ┆ C   │\n",
       "│ --- ┆ --- ┆ --- ┆ --- │\n",
       "│ i64 ┆ i64 ┆ i64 ┆ i64 │\n",
       "╞═════╪═════╪═════╪═════╡\n",
       "│ 1   ┆ 4   ┆ 5   ┆ 5   │\n",
       "│ 2   ┆ 5   ┆ 7   ┆ 7   │\n",
       "│ 3   ┆ 6   ┆ 9   ┆ 9   │\n",
       "└─────┴─────┴─────┴─────┘"
      ]
     },
     "execution_count": 50,
     "metadata": {},
     "output_type": "execute_result"
    }
   ],
   "source": [
    "df_transfromed2 = (df.pipe(multiply_column).pipe(add_column))\n",
    "df_transfromed2"
   ]
  },
  {
   "cell_type": "markdown",
   "metadata": {},
   "source": [
    "# Work\n",
    "จงสร้าง data pip line ที่คัด null ออกไป แล้วเอาค่าของคอลัมน์ที่เหลือ คูณกัน"
   ]
  },
  {
   "cell_type": "code",
   "execution_count": 52,
   "metadata": {},
   "outputs": [
    {
     "data": {
      "text/html": [
       "<div><style>\n",
       ".dataframe > thead > tr,\n",
       ".dataframe > tbody > tr {\n",
       "  text-align: right;\n",
       "  white-space: pre-wrap;\n",
       "}\n",
       "</style>\n",
       "<small>shape: (5, 4)</small><table border=\"1\" class=\"dataframe\"><thead><tr><th>nrs</th><th>names</th><th>random</th><th>groups</th></tr><tr><td>i64</td><td>str</td><td>f64</td><td>str</td></tr></thead><tbody><tr><td>1</td><td>&quot;foo&quot;</td><td>0.476229</td><td>&quot;A&quot;</td></tr><tr><td>2</td><td>&quot;ham&quot;</td><td>0.407027</td><td>&quot;A&quot;</td></tr><tr><td>3</td><td>&quot;spam&quot;</td><td>0.775521</td><td>&quot;B&quot;</td></tr><tr><td>null</td><td>&quot;egg&quot;</td><td>0.744195</td><td>&quot;C&quot;</td></tr><tr><td>5</td><td>null</td><td>0.207182</td><td>&quot;B&quot;</td></tr></tbody></table></div>"
      ],
      "text/plain": [
       "shape: (5, 4)\n",
       "┌──────┬───────┬──────────┬────────┐\n",
       "│ nrs  ┆ names ┆ random   ┆ groups │\n",
       "│ ---  ┆ ---   ┆ ---      ┆ ---    │\n",
       "│ i64  ┆ str   ┆ f64      ┆ str    │\n",
       "╞══════╪═══════╪══════════╪════════╡\n",
       "│ 1    ┆ foo   ┆ 0.476229 ┆ A      │\n",
       "│ 2    ┆ ham   ┆ 0.407027 ┆ A      │\n",
       "│ 3    ┆ spam  ┆ 0.775521 ┆ B      │\n",
       "│ null ┆ egg   ┆ 0.744195 ┆ C      │\n",
       "│ 5    ┆ null  ┆ 0.207182 ┆ B      │\n",
       "└──────┴───────┴──────────┴────────┘"
      ]
     },
     "execution_count": 52,
     "metadata": {},
     "output_type": "execute_result"
    }
   ],
   "source": [
    "df = pl.DataFrame(\n",
    "{\n",
    "\"nrs\": [1, 2, 3, None, 5],\n",
    "\"names\": [\"foo\", \"ham\", \"spam\", \"egg\", None],\n",
    "\"random\": np.random.rand(5),\n",
    "\"groups\": [\"A\", \"A\", \"B\", \"C\", \"B\"],\n",
    "}\n",
    ")\n",
    "df"
   ]
  },
  {
   "cell_type": "code",
   "execution_count": 102,
   "metadata": {},
   "outputs": [],
   "source": [
    "def HW_pipeline(df) :\n",
    "        df_HW = df.sort(by ='*',nulls_last = True).slice(0,4)\n",
    "        df1 = df_HW.select(pl.col('*').exclude(pl.String))\n",
    "        df2 = df1.with_columns((pl.col('nrs')*pl.col('random')).alias('Answer'))\n",
    "        return df2"
   ]
  },
  {
   "cell_type": "code",
   "execution_count": 103,
   "metadata": {},
   "outputs": [
    {
     "data": {
      "text/html": [
       "<div><style>\n",
       ".dataframe > thead > tr,\n",
       ".dataframe > tbody > tr {\n",
       "  text-align: right;\n",
       "  white-space: pre-wrap;\n",
       "}\n",
       "</style>\n",
       "<small>shape: (4, 3)</small><table border=\"1\" class=\"dataframe\"><thead><tr><th>nrs</th><th>random</th><th>Answer</th></tr><tr><td>i64</td><td>f64</td><td>f64</td></tr></thead><tbody><tr><td>1</td><td>0.476229</td><td>0.476229</td></tr><tr><td>2</td><td>0.407027</td><td>0.814055</td></tr><tr><td>3</td><td>0.775521</td><td>2.326563</td></tr><tr><td>5</td><td>0.207182</td><td>1.035912</td></tr></tbody></table></div>"
      ],
      "text/plain": [
       "shape: (4, 3)\n",
       "┌─────┬──────────┬──────────┐\n",
       "│ nrs ┆ random   ┆ Answer   │\n",
       "│ --- ┆ ---      ┆ ---      │\n",
       "│ i64 ┆ f64      ┆ f64      │\n",
       "╞═════╪══════════╪══════════╡\n",
       "│ 1   ┆ 0.476229 ┆ 0.476229 │\n",
       "│ 2   ┆ 0.407027 ┆ 0.814055 │\n",
       "│ 3   ┆ 0.775521 ┆ 2.326563 │\n",
       "│ 5   ┆ 0.207182 ┆ 1.035912 │\n",
       "└─────┴──────────┴──────────┘"
      ]
     },
     "execution_count": 103,
     "metadata": {},
     "output_type": "execute_result"
    }
   ],
   "source": [
    "HW_Fs = df.pipe(HW_pipeline)\n",
    "HW_Fs"
   ]
  }
 ],
 "metadata": {
  "kernelspec": {
   "display_name": "Python 3",
   "language": "python",
   "name": "python3"
  },
  "language_info": {
   "codemirror_mode": {
    "name": "ipython",
    "version": 3
   },
   "file_extension": ".py",
   "mimetype": "text/x-python",
   "name": "python",
   "nbconvert_exporter": "python",
   "pygments_lexer": "ipython3",
   "version": "3.11.9"
  }
 },
 "nbformat": 4,
 "nbformat_minor": 2
}
