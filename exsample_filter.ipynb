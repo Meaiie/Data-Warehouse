{
 "cells": [
  {
   "cell_type": "code",
   "execution_count": 4,
   "metadata": {},
   "outputs": [
    {
     "data": {
      "text/html": [
       "<div><style>\n",
       ".dataframe > thead > tr,\n",
       ".dataframe > tbody > tr {\n",
       "  text-align: right;\n",
       "  white-space: pre-wrap;\n",
       "}\n",
       "</style>\n",
       "<small>shape: (3, 2)</small><table border=\"1\" class=\"dataframe\"><thead><tr><th>name</th><th>id</th></tr><tr><td>str</td><td>i64</td></tr></thead><tbody><tr><td>&quot;COMPANY A&quot;</td><td>1</td></tr><tr><td>&quot;COMPANY B&quot;</td><td>2</td></tr><tr><td>&quot;COMPANY C&quot;</td><td>3</td></tr></tbody></table></div>"
      ],
      "text/plain": [
       "shape: (3, 2)\n",
       "┌───────────┬─────┐\n",
       "│ name      ┆ id  │\n",
       "│ ---       ┆ --- │\n",
       "│ str       ┆ i64 │\n",
       "╞═══════════╪═════╡\n",
       "│ COMPANY A ┆ 1   │\n",
       "│ COMPANY B ┆ 2   │\n",
       "│ COMPANY C ┆ 3   │\n",
       "└───────────┴─────┘"
      ]
     },
     "execution_count": 4,
     "metadata": {},
     "output_type": "execute_result"
    }
   ],
   "source": [
    "import polars as pl\n",
    "\n",
    "df = pl.DataFrame([\n",
    "\t{'name': 'COMPANY A', 'id': 1},\n",
    "\t{'name': 'COMPANY B', 'id': 2},\n",
    "\t{'name': 'COMPANY C', 'id': 3},\n",
    "])\n",
    "df"
   ]
  },
  {
   "cell_type": "code",
   "execution_count": 6,
   "metadata": {},
   "outputs": [
    {
     "data": {
      "text/html": [
       "<div><style>\n",
       ".dataframe > thead > tr,\n",
       ".dataframe > tbody > tr {\n",
       "  text-align: right;\n",
       "  white-space: pre-wrap;\n",
       "}\n",
       "</style>\n",
       "<small>shape: (3, 2)</small><table border=\"1\" class=\"dataframe\"><thead><tr><th>name</th><th>id</th></tr><tr><td>str</td><td>i64</td></tr></thead><tbody><tr><td>&quot;COMPANY A&quot;</td><td>1</td></tr><tr><td>&quot;COMPANY B&quot;</td><td>2</td></tr><tr><td>&quot;COMPANY C&quot;</td><td>3</td></tr></tbody></table></div>"
      ],
      "text/plain": [
       "shape: (3, 2)\n",
       "┌───────────┬─────┐\n",
       "│ name      ┆ id  │\n",
       "│ ---       ┆ --- │\n",
       "│ str       ┆ i64 │\n",
       "╞═══════════╪═════╡\n",
       "│ COMPANY A ┆ 1   │\n",
       "│ COMPANY B ┆ 2   │\n",
       "│ COMPANY C ┆ 3   │\n",
       "└───────────┴─────┘"
      ]
     },
     "execution_count": 6,
     "metadata": {},
     "output_type": "execute_result"
    }
   ],
   "source": [
    "# this works as expected (returns all rows)\n",
    "df.filter(\n",
    "    pl.col('name').str.contains(pl.lit('COMPANY'), literal=True)\n",
    ")\n",
    "df"
   ]
  },
  {
   "cell_type": "code",
   "execution_count": 7,
   "metadata": {},
   "outputs": [
    {
     "data": {
      "text/html": [
       "<div><style>\n",
       ".dataframe > thead > tr,\n",
       ".dataframe > tbody > tr {\n",
       "  text-align: right;\n",
       "  white-space: pre-wrap;\n",
       "}\n",
       "</style>\n",
       "<small>shape: (1, 2)</small><table border=\"1\" class=\"dataframe\"><thead><tr><th>name</th><th>id</th></tr><tr><td>str</td><td>i64</td></tr></thead><tbody><tr><td>&quot;COMPANY B&quot;</td><td>2</td></tr></tbody></table></div>"
      ],
      "text/plain": [
       "shape: (1, 2)\n",
       "┌───────────┬─────┐\n",
       "│ name      ┆ id  │\n",
       "│ ---       ┆ --- │\n",
       "│ str       ┆ i64 │\n",
       "╞═══════════╪═════╡\n",
       "│ COMPANY B ┆ 2   │\n",
       "└───────────┴─────┘"
      ]
     },
     "execution_count": 7,
     "metadata": {},
     "output_type": "execute_result"
    }
   ],
   "source": [
    "# this works as expected (returns row with id=2 only)\n",
    "df.filter(\n",
    "    pl.col('name').str.contains(pl.lit('B'), literal=True)\n",
    ")"
   ]
  },
  {
   "cell_type": "code",
   "execution_count": 8,
   "metadata": {},
   "outputs": [
    {
     "data": {
      "text/html": [
       "<div><style>\n",
       ".dataframe > thead > tr,\n",
       ".dataframe > tbody > tr {\n",
       "  text-align: right;\n",
       "  white-space: pre-wrap;\n",
       "}\n",
       "</style>\n",
       "<small>shape: (1, 2)</small><table border=\"1\" class=\"dataframe\"><thead><tr><th>name</th><th>id</th></tr><tr><td>str</td><td>i64</td></tr></thead><tbody><tr><td>&quot;COMPANY A&quot;</td><td>1</td></tr></tbody></table></div>"
      ],
      "text/plain": [
       "shape: (1, 2)\n",
       "┌───────────┬─────┐\n",
       "│ name      ┆ id  │\n",
       "│ ---       ┆ --- │\n",
       "│ str       ┆ i64 │\n",
       "╞═══════════╪═════╡\n",
       "│ COMPANY A ┆ 1   │\n",
       "└───────────┴─────┘"
      ]
     },
     "execution_count": 8,
     "metadata": {},
     "output_type": "execute_result"
    }
   ],
   "source": [
    "# this does not work!\n",
    "# you would expect it to filter the df to row with id=1, but instead it returns all rows\n",
    "df.filter(\n",
    "    pl.lit('COMPANY A PLUS EXTRA TEXT').str.contains(pl.col('name'), literal=True)\n",
    ")"
   ]
  },
  {
   "cell_type": "code",
   "execution_count": 9,
   "metadata": {},
   "outputs": [
    {
     "data": {
      "text/html": [
       "<div><style>\n",
       ".dataframe > thead > tr,\n",
       ".dataframe > tbody > tr {\n",
       "  text-align: right;\n",
       "  white-space: pre-wrap;\n",
       "}\n",
       "</style>\n",
       "<small>shape: (1, 2)</small><table border=\"1\" class=\"dataframe\"><thead><tr><th>name</th><th>id</th></tr><tr><td>str</td><td>i64</td></tr></thead><tbody><tr><td>&quot;COMPANY B&quot;</td><td>2</td></tr></tbody></table></div>"
      ],
      "text/plain": [
       "shape: (1, 2)\n",
       "┌───────────┬─────┐\n",
       "│ name      ┆ id  │\n",
       "│ ---       ┆ --- │\n",
       "│ str       ┆ i64 │\n",
       "╞═══════════╪═════╡\n",
       "│ COMPANY B ┆ 2   │\n",
       "└───────────┴─────┘"
      ]
     },
     "execution_count": 9,
     "metadata": {},
     "output_type": "execute_result"
    }
   ],
   "source": [
    "\n",
    "# this does not work!\n",
    "# you would expect it to filter the df to row with id=2, but instead it returns no rows\n",
    "df.filter(\n",
    "    pl.lit('COMPANY B PLUS EXTRA TEXT').str.contains(pl.col('name'), literal=True)\n",
    ")"
   ]
  },
  {
   "cell_type": "code",
   "execution_count": 10,
   "metadata": {},
   "outputs": [
    {
     "data": {
      "text/html": [
       "<div><style>\n",
       ".dataframe > thead > tr,\n",
       ".dataframe > tbody > tr {\n",
       "  text-align: right;\n",
       "  white-space: pre-wrap;\n",
       "}\n",
       "</style>\n",
       "<small>shape: (1, 1)</small><table border=\"1\" class=\"dataframe\"><thead><tr><th>a</th></tr><tr><td>str</td></tr></thead><tbody><tr><td>&quot;abc&quot;</td></tr></tbody></table></div>"
      ],
      "text/plain": [
       "shape: (1, 1)\n",
       "┌─────┐\n",
       "│ a   │\n",
       "│ --- │\n",
       "│ str │\n",
       "╞═════╡\n",
       "│ abc │\n",
       "└─────┘"
      ]
     },
     "execution_count": 10,
     "metadata": {},
     "output_type": "execute_result"
    }
   ],
   "source": [
    "df=pl.DataFrame({'a':['abc', 'xyz']})\n",
    "\n",
    "df.filter(pl.col(\"a\").str.contains('ab')) ##This works"
   ]
  },
  {
   "cell_type": "code",
   "execution_count": 12,
   "metadata": {},
   "outputs": [
    {
     "data": {
      "text/html": [
       "<div><style>\n",
       ".dataframe > thead > tr,\n",
       ".dataframe > tbody > tr {\n",
       "  text-align: right;\n",
       "  white-space: pre-wrap;\n",
       "}\n",
       "</style>\n",
       "<small>shape: (3,)</small><table border=\"1\" class=\"dataframe\"><thead><tr><th>candidate</th></tr><tr><td>str</td></tr></thead><tbody><tr><td>&quot;messi&quot;</td></tr><tr><td>&quot;ronaldo&quot;</td></tr><tr><td>null</td></tr></tbody></table></div>"
      ],
      "text/plain": [
       "shape: (3,)\n",
       "Series: 'candidate' [str]\n",
       "[\n",
       "\t\"messi\"\n",
       "\t\"ronaldo\"\n",
       "\tnull\n",
       "]"
      ]
     },
     "execution_count": 12,
     "metadata": {},
     "output_type": "execute_result"
    }
   ],
   "source": [
    "s = pl.Series(\n",
    "    name=\"url\",\n",
    "    values=[\n",
    "        \"http://vote.com/ballon_dor?ref=polars&candidate=messi\",\n",
    "        \"http://vote.com/ballon_dor?candidate=ronaldo&ref=polars\",\n",
    "        \"http://vote.com/ballon_dor?error=404&ref=unknown\",\n",
    "    ],\n",
    ")\n",
    "s.str.extract(r\"candidate=(\\w+)\", 1).alias(\"candidate\")"
   ]
  },
  {
   "cell_type": "code",
   "execution_count": 20,
   "metadata": {},
   "outputs": [
    {
     "data": {
      "text/html": [
       "<div><style>\n",
       ".dataframe > thead > tr,\n",
       ".dataframe > tbody > tr {\n",
       "  text-align: right;\n",
       "  white-space: pre-wrap;\n",
       "}\n",
       "</style>\n",
       "<small>shape: (2,)</small><table border=\"1\" class=\"dataframe\"><thead><tr><th>matches</th></tr><tr><td>str</td></tr></thead><tbody><tr><td>null</td></tr><tr><td>null</td></tr></tbody></table></div>"
      ],
      "text/plain": [
       "shape: (2,)\n",
       "Series: 'matches' [str]\n",
       "[\n",
       "\tnull\n",
       "\tnull\n",
       "]"
      ]
     },
     "execution_count": 20,
     "metadata": {},
     "output_type": "execute_result"
    }
   ],
   "source": [
    "s = pl.Series(\n",
    "    name=\"lines\",\n",
    "    values=[\n",
    "        \"I Like\\nThose\\nOdds\",\n",
    "        \"This is\\nThe Way\",\n",
    "    ],\n",
    ")\n",
    "s.str.extract(r\"\", 1).alias(\"matches\")"
   ]
  },
  {
   "cell_type": "code",
   "execution_count": 22,
   "metadata": {},
   "outputs": [],
   "source": [
    "import polars as pl\n",
    "\n",
    "# Sample data\n",
    "data = {\n",
    "    \"name\": [\"Alice\", \"Bob\", \"Charlie\", \"David\"],\n",
    "    \"age\": [25, 30, 35, 40],\n",
    "    \"city\": [\"New York\", \"Los Angeles\", \"Chicago\", \"Houston\"]\n",
    "}\n",
    "\n",
    "# Create a Polars DataFrame\n",
    "df = pl.DataFrame(data)\n"
   ]
  },
  {
   "cell_type": "code",
   "execution_count": 24,
   "metadata": {},
   "outputs": [
    {
     "name": "stdout",
     "output_type": "stream",
     "text": [
      "shape: (1, 3)\n",
      "┌──────┬─────┬─────────────┐\n",
      "│ name ┆ age ┆ city        │\n",
      "│ ---  ┆ --- ┆ ---         │\n",
      "│ str  ┆ i64 ┆ str         │\n",
      "╞══════╪═════╪═════════════╡\n",
      "│ Bob  ┆ 30  ┆ Los Angeles │\n",
      "└──────┴─────┴─────────────┘\n"
     ]
    }
   ],
   "source": [
    "# Filter rows where 'city' column contains 'Los'\n",
    "filtered_df = df.filter(pl.col(\"city\").str.contains(\"Los\"))\n",
    "\n",
    "print(filtered_df)\n"
   ]
  }
 ],
 "metadata": {
  "kernelspec": {
   "display_name": "Python 3",
   "language": "python",
   "name": "python3"
  },
  "language_info": {
   "codemirror_mode": {
    "name": "ipython",
    "version": 3
   },
   "file_extension": ".py",
   "mimetype": "text/x-python",
   "name": "python",
   "nbconvert_exporter": "python",
   "pygments_lexer": "ipython3",
   "version": "3.11.9"
  }
 },
 "nbformat": 4,
 "nbformat_minor": 2
}
